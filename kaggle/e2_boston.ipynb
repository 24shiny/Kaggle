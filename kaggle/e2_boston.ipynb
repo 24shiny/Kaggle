{
 "cells": [
  {
   "cell_type": "markdown",
   "id": "47b9c759-8aac-467f-bec4-24ff53a54f41",
   "metadata": {},
   "source": [
    "Regression of housing prices in Boston"
   ]
  },
  {
   "cell_type": "code",
   "execution_count": 3,
   "id": "80803cf2-a2ff-4651-827b-91e2b89d55e3",
   "metadata": {},
   "outputs": [
    {
     "data": {
      "text/html": [
       "<div>\n",
       "<style scoped>\n",
       "    .dataframe tbody tr th:only-of-type {\n",
       "        vertical-align: middle;\n",
       "    }\n",
       "\n",
       "    .dataframe tbody tr th {\n",
       "        vertical-align: top;\n",
       "    }\n",
       "\n",
       "    .dataframe thead th {\n",
       "        text-align: right;\n",
       "    }\n",
       "</style>\n",
       "<table border=\"1\" class=\"dataframe\">\n",
       "  <thead>\n",
       "    <tr style=\"text-align: right;\">\n",
       "      <th></th>\n",
       "      <th>CRIM</th>\n",
       "      <th>ZN</th>\n",
       "      <th>INDUS</th>\n",
       "      <th>CHAS</th>\n",
       "      <th>NOX</th>\n",
       "      <th>RM</th>\n",
       "      <th>AGE</th>\n",
       "      <th>DIS</th>\n",
       "      <th>RAD</th>\n",
       "      <th>TAX</th>\n",
       "      <th>PTRATIO</th>\n",
       "      <th>B</th>\n",
       "      <th>LSTAT</th>\n",
       "      <th>MEDV</th>\n",
       "    </tr>\n",
       "  </thead>\n",
       "  <tbody>\n",
       "    <tr>\n",
       "      <th>0</th>\n",
       "      <td>0.00632</td>\n",
       "      <td>18.0</td>\n",
       "      <td>2.31</td>\n",
       "      <td>0</td>\n",
       "      <td>0.538</td>\n",
       "      <td>6.575</td>\n",
       "      <td>65.2</td>\n",
       "      <td>4.0900</td>\n",
       "      <td>1</td>\n",
       "      <td>296</td>\n",
       "      <td>15.3</td>\n",
       "      <td>396.90</td>\n",
       "      <td>4.98</td>\n",
       "      <td>24.0</td>\n",
       "    </tr>\n",
       "    <tr>\n",
       "      <th>1</th>\n",
       "      <td>0.02731</td>\n",
       "      <td>0.0</td>\n",
       "      <td>7.07</td>\n",
       "      <td>0</td>\n",
       "      <td>0.469</td>\n",
       "      <td>6.421</td>\n",
       "      <td>78.9</td>\n",
       "      <td>4.9671</td>\n",
       "      <td>2</td>\n",
       "      <td>242</td>\n",
       "      <td>17.8</td>\n",
       "      <td>396.90</td>\n",
       "      <td>9.14</td>\n",
       "      <td>21.6</td>\n",
       "    </tr>\n",
       "    <tr>\n",
       "      <th>2</th>\n",
       "      <td>0.02729</td>\n",
       "      <td>0.0</td>\n",
       "      <td>7.07</td>\n",
       "      <td>0</td>\n",
       "      <td>0.469</td>\n",
       "      <td>7.185</td>\n",
       "      <td>61.1</td>\n",
       "      <td>4.9671</td>\n",
       "      <td>2</td>\n",
       "      <td>242</td>\n",
       "      <td>17.8</td>\n",
       "      <td>392.83</td>\n",
       "      <td>4.03</td>\n",
       "      <td>34.7</td>\n",
       "    </tr>\n",
       "    <tr>\n",
       "      <th>3</th>\n",
       "      <td>0.03237</td>\n",
       "      <td>0.0</td>\n",
       "      <td>2.18</td>\n",
       "      <td>0</td>\n",
       "      <td>0.458</td>\n",
       "      <td>6.998</td>\n",
       "      <td>45.8</td>\n",
       "      <td>6.0622</td>\n",
       "      <td>3</td>\n",
       "      <td>222</td>\n",
       "      <td>18.7</td>\n",
       "      <td>394.63</td>\n",
       "      <td>2.94</td>\n",
       "      <td>33.4</td>\n",
       "    </tr>\n",
       "    <tr>\n",
       "      <th>4</th>\n",
       "      <td>0.06905</td>\n",
       "      <td>0.0</td>\n",
       "      <td>2.18</td>\n",
       "      <td>0</td>\n",
       "      <td>0.458</td>\n",
       "      <td>7.147</td>\n",
       "      <td>54.2</td>\n",
       "      <td>6.0622</td>\n",
       "      <td>3</td>\n",
       "      <td>222</td>\n",
       "      <td>18.7</td>\n",
       "      <td>396.90</td>\n",
       "      <td>5.33</td>\n",
       "      <td>36.2</td>\n",
       "    </tr>\n",
       "  </tbody>\n",
       "</table>\n",
       "</div>"
      ],
      "text/plain": [
       "      CRIM    ZN  INDUS  CHAS    NOX     RM   AGE     DIS  RAD  TAX  PTRATIO  \\\n",
       "0  0.00632  18.0   2.31     0  0.538  6.575  65.2  4.0900    1  296     15.3   \n",
       "1  0.02731   0.0   7.07     0  0.469  6.421  78.9  4.9671    2  242     17.8   \n",
       "2  0.02729   0.0   7.07     0  0.469  7.185  61.1  4.9671    2  242     17.8   \n",
       "3  0.03237   0.0   2.18     0  0.458  6.998  45.8  6.0622    3  222     18.7   \n",
       "4  0.06905   0.0   2.18     0  0.458  7.147  54.2  6.0622    3  222     18.7   \n",
       "\n",
       "        B  LSTAT  MEDV  \n",
       "0  396.90   4.98  24.0  \n",
       "1  396.90   9.14  21.6  \n",
       "2  392.83   4.03  34.7  \n",
       "3  394.63   2.94  33.4  \n",
       "4  396.90   5.33  36.2  "
      ]
     },
     "execution_count": 3,
     "metadata": {},
     "output_type": "execute_result"
    }
   ],
   "source": [
    "import pandas as pd\n",
    "df = pd.read_csv('data/boston.csv')\n",
    "df.head()"
   ]
  },
  {
   "cell_type": "code",
   "execution_count": 4,
   "id": "1f5c3faf-1d0e-4162-86cb-e9b774a5075a",
   "metadata": {},
   "outputs": [
    {
     "name": "stdout",
     "output_type": "stream",
     "text": [
      "<class 'pandas.core.frame.DataFrame'>\n",
      "RangeIndex: 506 entries, 0 to 505\n",
      "Data columns (total 14 columns):\n",
      " #   Column   Non-Null Count  Dtype  \n",
      "---  ------   --------------  -----  \n",
      " 0   CRIM     506 non-null    float64\n",
      " 1   ZN       506 non-null    float64\n",
      " 2   INDUS    506 non-null    float64\n",
      " 3   CHAS     506 non-null    int64  \n",
      " 4   NOX      506 non-null    float64\n",
      " 5   RM       491 non-null    float64\n",
      " 6   AGE      506 non-null    float64\n",
      " 7   DIS      506 non-null    float64\n",
      " 8   RAD      506 non-null    int64  \n",
      " 9   TAX      506 non-null    int64  \n",
      " 10  PTRATIO  506 non-null    float64\n",
      " 11  B        506 non-null    float64\n",
      " 12  LSTAT    506 non-null    float64\n",
      " 13  MEDV     506 non-null    float64\n",
      "dtypes: float64(11), int64(3)\n",
      "memory usage: 55.5 KB\n"
     ]
    }
   ],
   "source": [
    "df.info()"
   ]
  },
  {
   "cell_type": "code",
   "execution_count": 5,
   "id": "aa67bbdb-5b98-44fd-a42a-6e4128b3b624",
   "metadata": {},
   "outputs": [
    {
     "data": {
      "text/plain": [
       "CRIM       0\n",
       "ZN         0\n",
       "INDUS      0\n",
       "CHAS       0\n",
       "NOX        0\n",
       "RM         0\n",
       "AGE        0\n",
       "DIS        0\n",
       "RAD        0\n",
       "TAX        0\n",
       "PTRATIO    0\n",
       "B          0\n",
       "LSTAT      0\n",
       "MEDV       0\n",
       "dtype: int64"
      ]
     },
     "execution_count": 5,
     "metadata": {},
     "output_type": "execute_result"
    }
   ],
   "source": [
    "# having many rows, drop the rows containing missing values\n",
    "df.dropna(inplace=True)\n",
    "df.isna().sum()"
   ]
  },
  {
   "cell_type": "markdown",
   "id": "65af8f8c-42f0-4e16-bcb1-823b07f01cde",
   "metadata": {},
   "source": [
    "#1 Linear regression of the housing price (MEDV)"
   ]
  },
  {
   "cell_type": "code",
   "execution_count": 6,
   "id": "2aaba789-0fbe-4476-a58f-85d419be1677",
   "metadata": {},
   "outputs": [
    {
     "name": "stdout",
     "output_type": "stream",
     "text": [
      "(491, 13)\n",
      "(343, 13) (148, 13)\n"
     ]
    }
   ],
   "source": [
    "# split data\n",
    "# here MEDV refers to the median value of housing price in $1,000, which will be treated as a target value\n",
    "train = df.iloc[:,0:13]\n",
    "target = df[['MEDV']]\n",
    "\n",
    "from sklearn.model_selection import train_test_split\n",
    "train_input, test_input, train_target, test_target = train_test_split(train, target, test_size=0.3, random_state=42)\n",
    "\n",
    "print(train.shape)\n",
    "print(train_input.shape, test_input.shape)"
   ]
  },
  {
   "cell_type": "code",
   "execution_count": 7,
   "id": "90e63624-f358-470d-adb9-d62de5f25816",
   "metadata": {},
   "outputs": [
    {
     "name": "stdout",
     "output_type": "stream",
     "text": [
      "0.7381618458803759 0.7318079210246159\n"
     ]
    }
   ],
   "source": [
    "from sklearn.linear_model import LinearRegression\n",
    "lr = LinearRegression()\n",
    "lr.fit(train_input, train_target)\n",
    "print(lr.score(train_input, train_target), lr.score(test_input, test_target))"
   ]
  },
  {
   "cell_type": "code",
   "execution_count": 9,
   "id": "e75d2c31-a018-4cf0-8e1b-a3be73f3849b",
   "metadata": {},
   "outputs": [
    {
     "data": {
      "text/plain": [
       "20.81188458031761"
      ]
     },
     "execution_count": 9,
     "metadata": {},
     "output_type": "execute_result"
    }
   ],
   "source": [
    "test_predict = lr.predict(test_input)\n",
    "\n",
    "# evaluate the model\n",
    "from sklearn.metrics import mean_squared_error\n",
    "mse = mean_squared_error(test_target, test_predict)\n",
    "mse"
   ]
  },
  {
   "cell_type": "code",
   "execution_count": 10,
   "id": "d5608b61-d0d7-497e-8c64-7aa53f05011f",
   "metadata": {},
   "outputs": [
    {
     "data": {
      "text/plain": [
       "0.7318079210246159"
      ]
     },
     "execution_count": 10,
     "metadata": {},
     "output_type": "execute_result"
    }
   ],
   "source": [
    "from sklearn.metrics import r2_score\n",
    "r2 = r2_score(test_target, test_predict)\n",
    "r2"
   ]
  },
  {
   "cell_type": "code",
   "execution_count": 12,
   "id": "2937fbfe-0707-48d9-994a-dda418a7d76a",
   "metadata": {},
   "outputs": [
    {
     "name": "stderr",
     "output_type": "stream",
     "text": [
      "C:\\Users\\syj43\\AppData\\Local\\Programs\\Python\\Python310\\lib\\site-packages\\sklearn\\base.py:1473: DataConversionWarning: A column-vector y was passed when a 1d array was expected. Please change the shape of y to (n_samples,), for example using ravel().\n",
      "  return fit_method(estimator, *args, **kwargs)\n"
     ]
    },
    {
     "name": "stdout",
     "output_type": "stream",
     "text": [
      "0.9742518343212461 0.8344503583860036\n"
     ]
    }
   ],
   "source": [
    "# try RandomForestRegressor\n",
    "from sklearn.ensemble import RandomForestRegressor\n",
    "rr = RandomForestRegressor()\n",
    "rr.fit(train_input, train_target)\n",
    "print(rr.score(train_input, train_target), rr.score(test_input, test_target))"
   ]
  },
  {
   "cell_type": "code",
   "execution_count": 13,
   "id": "0c09e779-8c4f-444f-a793-81aa685c4110",
   "metadata": {},
   "outputs": [
    {
     "name": "stdout",
     "output_type": "stream",
     "text": [
      "12.846762837837852 0.8344503583860036\n"
     ]
    }
   ],
   "source": [
    "test_predict = rr.predict(test_input)\n",
    "\n",
    "mse = mean_squared_error(test_target, test_predict)\n",
    "r2 = r2_score(test_target, test_predict)\n",
    "\n",
    "print(mse, r2)"
   ]
  },
  {
   "cell_type": "markdown",
   "id": "a1a3e0b0-44a0-4466-938d-41be61513035",
   "metadata": {},
   "source": [
    "#2 Pytorch MPL for regression"
   ]
  },
  {
   "cell_type": "code",
   "execution_count": 21,
   "id": "db0d734d-4727-4868-81c0-170e7aae3433",
   "metadata": {},
   "outputs": [
    {
     "name": "stdout",
     "output_type": "stream",
     "text": [
      "At epoch #0, loss : 63.5999755859375\n",
      "At epoch #50, loss : 7.915493965148926\n",
      "At epoch #100, loss : 4.4157023429870605\n",
      "At epoch #150, loss : 2.883910655975342\n",
      "At epoch #200, loss : 2.18082594871521\n",
      "At epoch #250, loss : 1.78558349609375\n",
      "At epoch #300, loss : 1.3494504690170288\n",
      "At epoch #350, loss : 1.0691272020339966\n",
      "At epoch #400, loss : 0.8736224174499512\n",
      "At epoch #450, loss : 0.7770681977272034\n",
      "At epoch #500, loss : 0.6910125613212585\n",
      "At epoch #550, loss : 0.6405853033065796\n",
      "At epoch #600, loss : 0.5685718655586243\n",
      "At epoch #650, loss : 0.5283454060554504\n",
      "At epoch #700, loss : 0.5321816205978394\n",
      "At epoch #750, loss : 0.5160319209098816\n",
      "At epoch #800, loss : 0.5117862224578857\n",
      "At epoch #850, loss : 0.49350181221961975\n",
      "At epoch #900, loss : 0.4853307604789734\n",
      "At epoch #950, loss : 0.49902787804603577\n"
     ]
    }
   ],
   "source": [
    "import torch\n",
    "import torch.nn as nn\n",
    "from torch.optim.adam import Adam\n",
    "\n",
    "model = nn.Sequential(\n",
    "    nn.Linear(13,50),\n",
    "    nn.ReLU(),\n",
    "    nn.Linear(50,1)\n",
    ")\n",
    "\n",
    "batch_size = 20\n",
    "learning_rate = 0.001\n",
    "\n",
    "adam = Adam(model.parameters(), lr=learning_rate)\n",
    "\n",
    "loss_arr = []\n",
    "\n",
    "for epoch in range(1000):\n",
    "    # repeat batches\n",
    "    for batch in range(len(train)//batch_size):\n",
    "        start = batch+batch_size\n",
    "        end = start + batch_size\n",
    "\n",
    "        train_val = train.values\n",
    "        target_val = target.values\n",
    "\n",
    "        # transfrom to torch.FloatTensor\n",
    "        train_tensor = torch.FloatTensor(train_val[start:end])\n",
    "        target_tensor = torch.FloatTensor(target_val[start:end])\n",
    "\n",
    "        adam.zero_grad() # initialize the gradient of an weight\n",
    "        target_predicted = model(train_tensor)\n",
    "        loss = nn.MSELoss()(target_tensor, target_predicted)\n",
    "        loss.backward()\n",
    "        adam.step()\n",
    "\n",
    "    if epoch % 50 == 0:\n",
    "        loss_arr.append(loss.item())\n",
    "        print(f'At epoch #{epoch}, loss : {loss.item()}')"
   ]
  },
  {
   "cell_type": "code",
   "execution_count": 24,
   "id": "80222e67-938a-4aa2-9d5c-3a16d420a54c",
   "metadata": {},
   "outputs": [
    {
     "data": {
      "image/png": "[encoded data removed]",
      "text/plain": [
       "<Figure size 640x480 with 1 Axes>"
      ]
     },
     "metadata": {},
     "output_type": "display_data"
    }
   ],
   "source": [
    "import matplotlib.pyplot as plt\n",
    "plt.plot([50*i for i in range(len(loss_arr))],loss_arr, '.-')\n",
    "plt.xlabel('epoch')\n",
    "plt.ylabel('loss')\n",
    "plt.show()"
   ]
  },
  {
   "cell_type": "markdown",
   "id": "d8c18f8b-af0e-4eee-91a5-3e5028336770",
   "metadata": {},
   "source": [
    "#3 Tensorflow MPL for regression"
   ]
  }
 ],
 "metadata": {
  "kernelspec": {
   "display_name": "Python 3 (ipykernel)",
   "language": "python",
   "name": "python3"
  },
  "language_info": {
   "codemirror_mode": {
    "name": "ipython",
    "version": 3
   },
   "file_extension": ".py",
   "mimetype": "text/x-python",
   "name": "python",
   "nbconvert_exporter": "python",
   "pygments_lexer": "ipython3",
   "version": "3.10.0"
  }
 },
 "nbformat": 4,
 "nbformat_minor": 5
}
