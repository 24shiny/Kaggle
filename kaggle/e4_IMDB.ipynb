{
 "cells": [
  {
   "cell_type": "code",
   "execution_count": 8,
   "id": "028f4a22-5e70-4830-9bbe-1d4dceec13ec",
   "metadata": {},
   "outputs": [
    {
     "name": "stdout",
     "output_type": "stream",
     "text": [
      "(25000,) (25000,)\n"
     ]
    }
   ],
   "source": [
    "from tensorflow import keras\n",
    "from keras.datasets import imdb # text data transformed to integer\n",
    "\n",
    "(train_input, train_target), (test_input, test_target) = imdb.load_data(num_words=300)\n",
    "\n",
    "# check their dimension\n",
    "print(train_input.shape, test_input.shape)"
   ]
  },
  {
   "cell_type": "code",
   "execution_count": 9,
   "id": "72a9d874-e805-4805-b66c-ea9db53cc777",
   "metadata": {},
   "outputs": [
    {
     "data": {
      "text/plain": [
       "[1,\n",
       " 14,\n",
       " 22,\n",
       " 16,\n",
       " 43,\n",
       " 2,\n",
       " 2,\n",
       " 2,\n",
       " 2,\n",
       " 65,\n",
       " 2,\n",
       " 2,\n",
       " 66,\n",
       " 2,\n",
       " 4,\n",
       " 173,\n",
       " 36,\n",
       " 256,\n",
       " 5,\n",
       " 25,\n",
       " 100,\n",
       " 43,\n",
       " 2,\n",
       " 112,\n",
       " 50,\n",
       " 2,\n",
       " 2,\n",
       " 9,\n",
       " 35,\n",
       " 2,\n",
       " 284,\n",
       " 5,\n",
       " 150,\n",
       " 4,\n",
       " 172,\n",
       " 112,\n",
       " 167,\n",
       " 2,\n",
       " 2,\n",
       " 2,\n",
       " 39,\n",
       " 4,\n",
       " 172,\n",
       " 2,\n",
       " 2,\n",
       " 17,\n",
       " 2,\n",
       " 38,\n",
       " 13,\n",
       " 2,\n",
       " 4,\n",
       " 192,\n",
       " 50,\n",
       " 16,\n",
       " 6,\n",
       " 147,\n",
       " 2,\n",
       " 19,\n",
       " 14,\n",
       " 22,\n",
       " 4,\n",
       " 2,\n",
       " 2,\n",
       " 2,\n",
       " 4,\n",
       " 22,\n",
       " 71,\n",
       " 87,\n",
       " 12,\n",
       " 16,\n",
       " 43,\n",
       " 2,\n",
       " 38,\n",
       " 76,\n",
       " 15,\n",
       " 13,\n",
       " 2,\n",
       " 4,\n",
       " 22,\n",
       " 17,\n",
       " 2,\n",
       " 17,\n",
       " 12,\n",
       " 16,\n",
       " 2,\n",
       " 18,\n",
       " 2,\n",
       " 5,\n",
       " 62,\n",
       " 2,\n",
       " 12,\n",
       " 8,\n",
       " 2,\n",
       " 8,\n",
       " 106,\n",
       " 5,\n",
       " 4,\n",
       " 2,\n",
       " 2,\n",
       " 16,\n",
       " 2,\n",
       " 66,\n",
       " 2,\n",
       " 33,\n",
       " 4,\n",
       " 130,\n",
       " 12,\n",
       " 16,\n",
       " 38,\n",
       " 2,\n",
       " 5,\n",
       " 25,\n",
       " 124,\n",
       " 51,\n",
       " 36,\n",
       " 135,\n",
       " 48,\n",
       " 25,\n",
       " 2,\n",
       " 33,\n",
       " 6,\n",
       " 22,\n",
       " 12,\n",
       " 215,\n",
       " 28,\n",
       " 77,\n",
       " 52,\n",
       " 5,\n",
       " 14,\n",
       " 2,\n",
       " 16,\n",
       " 82,\n",
       " 2,\n",
       " 8,\n",
       " 4,\n",
       " 107,\n",
       " 117,\n",
       " 2,\n",
       " 15,\n",
       " 256,\n",
       " 4,\n",
       " 2,\n",
       " 7,\n",
       " 2,\n",
       " 5,\n",
       " 2,\n",
       " 36,\n",
       " 71,\n",
       " 43,\n",
       " 2,\n",
       " 2,\n",
       " 26,\n",
       " 2,\n",
       " 2,\n",
       " 46,\n",
       " 7,\n",
       " 4,\n",
       " 2,\n",
       " 2,\n",
       " 13,\n",
       " 104,\n",
       " 88,\n",
       " 4,\n",
       " 2,\n",
       " 15,\n",
       " 297,\n",
       " 98,\n",
       " 32,\n",
       " 2,\n",
       " 56,\n",
       " 26,\n",
       " 141,\n",
       " 6,\n",
       " 194,\n",
       " 2,\n",
       " 18,\n",
       " 4,\n",
       " 226,\n",
       " 22,\n",
       " 21,\n",
       " 134,\n",
       " 2,\n",
       " 26,\n",
       " 2,\n",
       " 5,\n",
       " 144,\n",
       " 30,\n",
       " 2,\n",
       " 18,\n",
       " 51,\n",
       " 36,\n",
       " 28,\n",
       " 224,\n",
       " 92,\n",
       " 25,\n",
       " 104,\n",
       " 4,\n",
       " 226,\n",
       " 65,\n",
       " 16,\n",
       " 38,\n",
       " 2,\n",
       " 88,\n",
       " 12,\n",
       " 16,\n",
       " 283,\n",
       " 5,\n",
       " 16,\n",
       " 2,\n",
       " 113,\n",
       " 103,\n",
       " 32,\n",
       " 15,\n",
       " 16,\n",
       " 2,\n",
       " 19,\n",
       " 178,\n",
       " 32]"
      ]
     },
     "execution_count": 9,
     "metadata": {},
     "output_type": "execute_result"
    }
   ],
   "source": [
    "# what does the data look like..\n",
    "train_input[0]"
   ]
  },
  {
   "cell_type": "code",
   "execution_count": 10,
   "id": "8f272c54-a50d-4e55-b728-c9f0a8b1f640",
   "metadata": {},
   "outputs": [
    {
     "data": {
      "text/plain": [
       "array([1, 0, 0, 1, 0])"
      ]
     },
     "execution_count": 10,
     "metadata": {},
     "output_type": "execute_result"
    }
   ],
   "source": [
    "# our goal is to classify each review to either negative (0) or positive (1) one\n",
    "train_target[:5]"
   ]
  },
  {
   "cell_type": "code",
   "execution_count": 11,
   "id": "7184e994-1495-4c0a-b24a-77ca28c15a0b",
   "metadata": {},
   "outputs": [
    {
     "name": "stdout",
     "output_type": "stream",
     "text": [
      "(17500,) (7500,)\n"
     ]
    }
   ],
   "source": [
    "# spare validation set from the train data\n",
    "from sklearn.model_selection import train_test_split\n",
    "train_input, val_input, train_target, val_target = train_test_split(train_input, train_target, \n",
    "                                                                    test_size=0.3, random_state=42)\n",
    "# check their dimension\n",
    "print(train_input.shape, val_input.shape)"
   ]
  },
  {
   "cell_type": "code",
   "execution_count": 14,
   "id": "1111ab3d-e822-472b-8aff-1bdf2a127fcb",
   "metadata": {},
   "outputs": [
    {
     "name": "stdout",
     "output_type": "stream",
     "text": [
      "239.216 178.0\n"
     ]
    }
   ],
   "source": [
    "# average and median of the length of reviews\n",
    "import numpy as np\n",
    "rev_len = np.array([len(i) for i in train_input])\n",
    "print(np.round(np.mean(rev_len),3), np.median(rev_len))"
   ]
  },
  {
   "cell_type": "code",
   "execution_count": 20,
   "id": "0e10aa77-9e1b-46f0-b836-c2a6484259b4",
   "metadata": {},
   "outputs": [
    {
     "data": {
      "image/png": "[encoded data removed]",
      "text/plain": [
       "<Figure size 640x480 with 1 Axes>"
      ]
     },
     "metadata": {},
     "output_type": "display_data"
    }
   ],
   "source": [
    "import matplotlib.pyplot as plt\n",
    "plt.hist(rev_len, edgecolor='white', bins=range(1,1600,100))\n",
    "plt.xlabel('length of reviews')\n",
    "plt.ylabel('freq')\n",
    "plt.show()"
   ]
  },
  {
   "cell_type": "code",
   "execution_count": 50,
   "id": "aeb5abbd-01c3-4677-9630-03b38defc723",
   "metadata": {},
   "outputs": [
    {
     "data": {
      "text/plain": [
       "(17500, 150)"
      ]
     },
     "execution_count": 50,
     "metadata": {},
     "output_type": "execute_result"
    }
   ],
   "source": [
    "# To use 200 words, reviews shorter than that need padding; this can be done by pad_sequences\n",
    "# then empty space is filled with zero\n",
    "from keras.preprocessing.sequence import pad_sequences\n",
    "train_seq = pad_sequences(train_input, maxlen=150, truncating='post') # selection either 'pre' or 'post'\n",
    "train_seq.shape"
   ]
  },
  {
   "cell_type": "code",
   "execution_count": 51,
   "id": "b6800f3c-6ee6-42c4-864e-9790654de3aa",
   "metadata": {},
   "outputs": [
    {
     "data": {
      "text/plain": [
       "(7500, 150)"
      ]
     },
     "execution_count": 51,
     "metadata": {},
     "output_type": "execute_result"
    }
   ],
   "source": [
    "# do the same to val_input\n",
    "val_seq = pad_sequences(val_input, maxlen=150, truncating='post') # selection either 'pre' or 'post'\n",
    "val_seq.shape"
   ]
  },
  {
   "cell_type": "code",
   "execution_count": 69,
   "id": "1b85df46-eebb-4436-95d6-bfe3f104a8ea",
   "metadata": {},
   "outputs": [
    {
     "data": {
      "text/plain": [
       "(17500, 150, 300)"
      ]
     },
     "execution_count": 69,
     "metadata": {},
     "output_type": "execute_result"
    }
   ],
   "source": [
    "# create a RNN model\n",
    "model = keras.Sequential()\n",
    "model.add(keras.layers.SimpleRNN(10, input_shape=(150,300))) # 150 : time step, 300 : # of unique words\n",
    "model.add(keras.layers.Dense(1, activation='sigmoid')) # sigmoid for binary classification\n",
    "\n",
    "# here the integer values need one-hot encoding\n",
    "train_oh = keras.utils.to_categorical(train_seq)\n",
    "train_oh.shape"
   ]
  },
  {
   "cell_type": "code",
   "execution_count": 70,
   "id": "e33ac582-5ff0-41bb-8a90-a1d137d4e6c5",
   "metadata": {},
   "outputs": [
    {
     "data": {
      "text/plain": [
       "(7500, 150, 300)"
      ]
     },
     "execution_count": 70,
     "metadata": {},
     "output_type": "execute_result"
    }
   ],
   "source": [
    "# do the same to val_seq\n",
    "val_oh = keras.utils.to_categorical(val_seq)\n",
    "val_oh.shape"
   ]
  },
  {
   "cell_type": "code",
   "execution_count": 71,
   "id": "87997918-ec36-4995-95d4-90afb0ae2a8f",
   "metadata": {},
   "outputs": [
    {
     "name": "stdout",
     "output_type": "stream",
     "text": [
      "Epoch 1/100\n",
      "\u001b[1m350/350\u001b[0m \u001b[32m━━━━━━━━━━━━━━━━━━━━\u001b[0m\u001b[37m\u001b[0m \u001b[1m5s\u001b[0m 12ms/step - accuracy: 0.5008 - loss: 0.7067 - precision: 0.5002 - val_accuracy: 0.5141 - val_loss: 0.7006 - val_precision: 0.5188\n",
      "Epoch 2/100\n",
      "\u001b[1m350/350\u001b[0m \u001b[32m━━━━━━━━━━━━━━━━━━━━\u001b[0m\u001b[37m\u001b[0m \u001b[1m3s\u001b[0m 7ms/step - accuracy: 0.5156 - loss: 0.6969 - precision: 0.5188 - val_accuracy: 0.5444 - val_loss: 0.6891 - val_precision: 0.5647\n",
      "Epoch 3/100\n",
      "\u001b[1m350/350\u001b[0m \u001b[32m━━━━━━━━━━━━━━━━━━━━\u001b[0m\u001b[37m\u001b[0m \u001b[1m3s\u001b[0m 7ms/step - accuracy: 0.5545 - loss: 0.6858 - precision: 0.5553 - val_accuracy: 0.5849 - val_loss: 0.6763 - val_precision: 0.5829\n",
      "Epoch 4/100\n",
      "\u001b[1m350/350\u001b[0m \u001b[32m━━━━━━━━━━━━━━━━━━━━\u001b[0m\u001b[37m\u001b[0m \u001b[1m3s\u001b[0m 7ms/step - accuracy: 0.5996 - loss: 0.6704 - precision: 0.5995 - val_accuracy: 0.6292 - val_loss: 0.6587 - val_precision: 0.6367\n",
      "Epoch 5/100\n",
      "\u001b[1m350/350\u001b[0m \u001b[32m━━━━━━━━━━━━━━━━━━━━\u001b[0m\u001b[37m\u001b[0m \u001b[1m3s\u001b[0m 7ms/step - accuracy: 0.6313 - loss: 0.6550 - precision: 0.6280 - val_accuracy: 0.6529 - val_loss: 0.6433 - val_precision: 0.6533\n",
      "Epoch 6/100\n",
      "\u001b[1m350/350\u001b[0m \u001b[32m━━━━━━━━━━━━━━━━━━━━\u001b[0m\u001b[37m\u001b[0m \u001b[1m2s\u001b[0m 7ms/step - accuracy: 0.6683 - loss: 0.6344 - precision: 0.6595 - val_accuracy: 0.6653 - val_loss: 0.6306 - val_precision: 0.6964\n",
      "Epoch 7/100\n",
      "\u001b[1m350/350\u001b[0m \u001b[32m━━━━━━━━━━━━━━━━━━━━\u001b[0m\u001b[37m\u001b[0m \u001b[1m2s\u001b[0m 7ms/step - accuracy: 0.6925 - loss: 0.6138 - precision: 0.6933 - val_accuracy: 0.6840 - val_loss: 0.6154 - val_precision: 0.6693\n",
      "Epoch 8/100\n",
      "\u001b[1m350/350\u001b[0m \u001b[32m━━━━━━━━━━━━━━━━━━━━\u001b[0m\u001b[37m\u001b[0m \u001b[1m2s\u001b[0m 7ms/step - accuracy: 0.7100 - loss: 0.5967 - precision: 0.7049 - val_accuracy: 0.6892 - val_loss: 0.6049 - val_precision: 0.6583\n",
      "Epoch 9/100\n",
      "\u001b[1m350/350\u001b[0m \u001b[32m━━━━━━━━━━━━━━━━━━━━\u001b[0m\u001b[37m\u001b[0m \u001b[1m2s\u001b[0m 7ms/step - accuracy: 0.7212 - loss: 0.5795 - precision: 0.7132 - val_accuracy: 0.7077 - val_loss: 0.5850 - val_precision: 0.6941\n",
      "Epoch 10/100\n",
      "\u001b[1m350/350\u001b[0m \u001b[32m━━━━━━━━━━━━━━━━━━━━\u001b[0m\u001b[37m\u001b[0m \u001b[1m2s\u001b[0m 7ms/step - accuracy: 0.7330 - loss: 0.5644 - precision: 0.7223 - val_accuracy: 0.7157 - val_loss: 0.5738 - val_precision: 0.7201\n",
      "Epoch 11/100\n",
      "\u001b[1m350/350\u001b[0m \u001b[32m━━━━━━━━━━━━━━━━━━━━\u001b[0m\u001b[37m\u001b[0m \u001b[1m2s\u001b[0m 7ms/step - accuracy: 0.7371 - loss: 0.5555 - precision: 0.7321 - val_accuracy: 0.7224 - val_loss: 0.5646 - val_precision: 0.7170\n",
      "Epoch 12/100\n",
      "\u001b[1m350/350\u001b[0m \u001b[32m━━━━━━━━━━━━━━━━━━━━\u001b[0m\u001b[37m\u001b[0m \u001b[1m2s\u001b[0m 7ms/step - accuracy: 0.7418 - loss: 0.5469 - precision: 0.7410 - val_accuracy: 0.7193 - val_loss: 0.5628 - val_precision: 0.6945\n",
      "Epoch 13/100\n",
      "\u001b[1m350/350\u001b[0m \u001b[32m━━━━━━━━━━━━━━━━━━━━\u001b[0m\u001b[37m\u001b[0m \u001b[1m2s\u001b[0m 7ms/step - accuracy: 0.7493 - loss: 0.5346 - precision: 0.7390 - val_accuracy: 0.7256 - val_loss: 0.5536 - val_precision: 0.7075\n",
      "Epoch 14/100\n",
      "\u001b[1m350/350\u001b[0m \u001b[32m━━━━━━━━━━━━━━━━━━━━\u001b[0m\u001b[37m\u001b[0m \u001b[1m2s\u001b[0m 7ms/step - accuracy: 0.7567 - loss: 0.5248 - precision: 0.7476 - val_accuracy: 0.7356 - val_loss: 0.5456 - val_precision: 0.7415\n",
      "Epoch 15/100\n",
      "\u001b[1m350/350\u001b[0m \u001b[32m━━━━━━━━━━━━━━━━━━━━\u001b[0m\u001b[37m\u001b[0m \u001b[1m2s\u001b[0m 7ms/step - accuracy: 0.7605 - loss: 0.5200 - precision: 0.7538 - val_accuracy: 0.7328 - val_loss: 0.5411 - val_precision: 0.7225\n",
      "Epoch 16/100\n",
      "\u001b[1m350/350\u001b[0m \u001b[32m━━━━━━━━━━━━━━━━━━━━\u001b[0m\u001b[37m\u001b[0m \u001b[1m2s\u001b[0m 7ms/step - accuracy: 0.7589 - loss: 0.5179 - precision: 0.7501 - val_accuracy: 0.7323 - val_loss: 0.5400 - val_precision: 0.7198\n",
      "Epoch 17/100\n",
      "\u001b[1m350/350\u001b[0m \u001b[32m━━━━━━━━━━━━━━━━━━━━\u001b[0m\u001b[37m\u001b[0m \u001b[1m2s\u001b[0m 7ms/step - accuracy: 0.7601 - loss: 0.5122 - precision: 0.7547 - val_accuracy: 0.7373 - val_loss: 0.5383 - val_precision: 0.7355\n",
      "Epoch 18/100\n",
      "\u001b[1m350/350\u001b[0m \u001b[32m━━━━━━━━━━━━━━━━━━━━\u001b[0m\u001b[37m\u001b[0m \u001b[1m2s\u001b[0m 7ms/step - accuracy: 0.7619 - loss: 0.5086 - precision: 0.7542 - val_accuracy: 0.7355 - val_loss: 0.5366 - val_precision: 0.7234\n",
      "Epoch 19/100\n",
      "\u001b[1m350/350\u001b[0m \u001b[32m━━━━━━━━━━━━━━━━━━━━\u001b[0m\u001b[37m\u001b[0m \u001b[1m2s\u001b[0m 7ms/step - accuracy: 0.7700 - loss: 0.5019 - precision: 0.7628 - val_accuracy: 0.7407 - val_loss: 0.5303 - val_precision: 0.7333\n",
      "Epoch 20/100\n",
      "\u001b[1m350/350\u001b[0m \u001b[32m━━━━━━━━━━━━━━━━━━━━\u001b[0m\u001b[37m\u001b[0m \u001b[1m2s\u001b[0m 7ms/step - accuracy: 0.7669 - loss: 0.5044 - precision: 0.7579 - val_accuracy: 0.7391 - val_loss: 0.5328 - val_precision: 0.7260\n",
      "Epoch 21/100\n",
      "\u001b[1m350/350\u001b[0m \u001b[32m━━━━━━━━━━━━━━━━━━━━\u001b[0m\u001b[37m\u001b[0m \u001b[1m2s\u001b[0m 7ms/step - accuracy: 0.7719 - loss: 0.4962 - precision: 0.7645 - val_accuracy: 0.7419 - val_loss: 0.5266 - val_precision: 0.7319\n",
      "Epoch 22/100\n",
      "\u001b[1m350/350\u001b[0m \u001b[32m━━━━━━━━━━━━━━━━━━━━\u001b[0m\u001b[37m\u001b[0m \u001b[1m2s\u001b[0m 7ms/step - accuracy: 0.7735 - loss: 0.4935 - precision: 0.7694 - val_accuracy: 0.7432 - val_loss: 0.5281 - val_precision: 0.7378\n",
      "Epoch 23/100\n",
      "\u001b[1m350/350\u001b[0m \u001b[32m━━━━━━━━━━━━━━━━━━━━\u001b[0m\u001b[37m\u001b[0m \u001b[1m2s\u001b[0m 7ms/step - accuracy: 0.7708 - loss: 0.4926 - precision: 0.7644 - val_accuracy: 0.7449 - val_loss: 0.5229 - val_precision: 0.7470\n",
      "Epoch 24/100\n",
      "\u001b[1m350/350\u001b[0m \u001b[32m━━━━━━━━━━━━━━━━━━━━\u001b[0m\u001b[37m\u001b[0m \u001b[1m2s\u001b[0m 7ms/step - accuracy: 0.7727 - loss: 0.4871 - precision: 0.7691 - val_accuracy: 0.7440 - val_loss: 0.5238 - val_precision: 0.7368\n",
      "Epoch 25/100\n",
      "\u001b[1m350/350\u001b[0m \u001b[32m━━━━━━━━━━━━━━━━━━━━\u001b[0m\u001b[37m\u001b[0m \u001b[1m2s\u001b[0m 7ms/step - accuracy: 0.7753 - loss: 0.4860 - precision: 0.7652 - val_accuracy: 0.7461 - val_loss: 0.5252 - val_precision: 0.7426\n",
      "Epoch 26/100\n",
      "\u001b[1m350/350\u001b[0m \u001b[32m━━━━━━━━━━━━━━━━━━━━\u001b[0m\u001b[37m\u001b[0m \u001b[1m2s\u001b[0m 7ms/step - accuracy: 0.7740 - loss: 0.4881 - precision: 0.7697 - val_accuracy: 0.7469 - val_loss: 0.5218 - val_precision: 0.7438\n",
      "Epoch 27/100\n",
      "\u001b[1m350/350\u001b[0m \u001b[32m━━━━━━━━━━━━━━━━━━━━\u001b[0m\u001b[37m\u001b[0m \u001b[1m2s\u001b[0m 7ms/step - accuracy: 0.7763 - loss: 0.4855 - precision: 0.7715 - val_accuracy: 0.7452 - val_loss: 0.5217 - val_precision: 0.7521\n",
      "Epoch 28/100\n",
      "\u001b[1m350/350\u001b[0m \u001b[32m━━━━━━━━━━━━━━━━━━━━\u001b[0m\u001b[37m\u001b[0m \u001b[1m2s\u001b[0m 7ms/step - accuracy: 0.7742 - loss: 0.4871 - precision: 0.7652 - val_accuracy: 0.7479 - val_loss: 0.5246 - val_precision: 0.7488\n",
      "Epoch 29/100\n",
      "\u001b[1m350/350\u001b[0m \u001b[32m━━━━━━━━━━━━━━━━━━━━\u001b[0m\u001b[37m\u001b[0m \u001b[1m2s\u001b[0m 7ms/step - accuracy: 0.7767 - loss: 0.4859 - precision: 0.7702 - val_accuracy: 0.7483 - val_loss: 0.5211 - val_precision: 0.7348\n",
      "Epoch 30/100\n",
      "\u001b[1m350/350\u001b[0m \u001b[32m━━━━━━━━━━━━━━━━━━━━\u001b[0m\u001b[37m\u001b[0m \u001b[1m2s\u001b[0m 7ms/step - accuracy: 0.7822 - loss: 0.4777 - precision: 0.7745 - val_accuracy: 0.7487 - val_loss: 0.5225 - val_precision: 0.7374\n",
      "Epoch 31/100\n",
      "\u001b[1m350/350\u001b[0m \u001b[32m━━━━━━━━━━━━━━━━━━━━\u001b[0m\u001b[37m\u001b[0m \u001b[1m2s\u001b[0m 7ms/step - accuracy: 0.7842 - loss: 0.4766 - precision: 0.7770 - val_accuracy: 0.7475 - val_loss: 0.5194 - val_precision: 0.7620\n",
      "Epoch 32/100\n",
      "\u001b[1m350/350\u001b[0m \u001b[32m━━━━━━━━━━━━━━━━━━━━\u001b[0m\u001b[37m\u001b[0m \u001b[1m2s\u001b[0m 7ms/step - accuracy: 0.7798 - loss: 0.4786 - precision: 0.7737 - val_accuracy: 0.7487 - val_loss: 0.5170 - val_precision: 0.7439\n",
      "Epoch 33/100\n",
      "\u001b[1m350/350\u001b[0m \u001b[32m━━━━━━━━━━━━━━━━━━━━\u001b[0m\u001b[37m\u001b[0m \u001b[1m2s\u001b[0m 7ms/step - accuracy: 0.7876 - loss: 0.4685 - precision: 0.7784 - val_accuracy: 0.7487 - val_loss: 0.5245 - val_precision: 0.7446\n",
      "Epoch 34/100\n",
      "\u001b[1m350/350\u001b[0m \u001b[32m━━━━━━━━━━━━━━━━━━━━\u001b[0m\u001b[37m\u001b[0m \u001b[1m2s\u001b[0m 7ms/step - accuracy: 0.7818 - loss: 0.4776 - precision: 0.7766 - val_accuracy: 0.7468 - val_loss: 0.5189 - val_precision: 0.7550\n",
      "Epoch 35/100\n",
      "\u001b[1m350/350\u001b[0m \u001b[32m━━━━━━━━━━━━━━━━━━━━\u001b[0m\u001b[37m\u001b[0m \u001b[1m2s\u001b[0m 7ms/step - accuracy: 0.7809 - loss: 0.4764 - precision: 0.7759 - val_accuracy: 0.7508 - val_loss: 0.5199 - val_precision: 0.7452\n"
     ]
    }
   ],
   "source": [
    "adam = keras.optimizers.Adam(learning_rate=0.0001)\n",
    "model.compile(optimizer=adam, loss='binary_crossentropy', metrics=['accuracy', 'precision'])\n",
    "checkpoint_cb = keras.callbacks.ModelCheckpoint('best_rnn_imdb.keras', save_best_only=True)\n",
    "early_stopping_cb = keras.callbacks.EarlyStopping(patience=3, restore_best_weights=True)\n",
    "fit = model.fit(train_oh, train_target, epochs=100, batch_size=50,\n",
    "                   validation_data=(val_oh, val_target),\n",
    "                   callbacks=[checkpoint_cb, early_stopping_cb], verbose=1)"
   ]
  },
  {
   "cell_type": "code",
   "execution_count": 37,
   "id": "698ddd87-41a2-4c82-8647-28e6b6289288",
   "metadata": {},
   "outputs": [
    {
     "data": {
      "text/plain": [
       "dict_keys(['accuracy', 'loss', 'precision', 'val_accuracy', 'val_loss', 'val_precision'])"
      ]
     },
     "execution_count": 37,
     "metadata": {},
     "output_type": "execute_result"
    }
   ],
   "source": [
    "fit.history.keys()"
   ]
  },
  {
   "cell_type": "code",
   "execution_count": 47,
   "id": "336a5dfa-f797-4c93-a05c-b43c4cd68960",
   "metadata": {},
   "outputs": [
    {
     "data": {
      "text/plain": [
       "9"
      ]
     },
     "execution_count": 47,
     "metadata": {},
     "output_type": "execute_result"
    }
   ],
   "source": [
    "len(fit.history['loss'])"
   ]
  },
  {
   "cell_type": "code",
   "execution_count": 72,
   "id": "01dfd452-160e-4187-8774-6cea06e6c777",
   "metadata": {},
   "outputs": [
    {
     "data": {
      "image/png": "[encoded data removed]",
      "text/plain": [
       "<Figure size 640x480 with 1 Axes>"
      ]
     },
     "metadata": {},
     "output_type": "display_data"
    }
   ],
   "source": [
    "plt.plot(range(len(fit.history['loss'])), fit.history['loss'],'.-')\n",
    "plt.plot(range(len(fit.history['val_loss'])), fit.history['val_loss'],'.-')\n",
    "plt.xlabel('epoch')\n",
    "plt.ylabel('loss')\n",
    "plt.legend(['train','val'])\n",
    "plt.show()"
   ]
  },
  {
   "cell_type": "code",
   "execution_count": 95,
   "id": "13dd2e64-786e-4665-84f1-1d5754c270cb",
   "metadata": {},
   "outputs": [
    {
     "name": "stdout",
     "output_type": "stream",
     "text": [
      "Epoch 1/100\n",
      "\u001b[1m350/350\u001b[0m \u001b[32m━━━━━━━━━━━━━━━━━━━━\u001b[0m\u001b[37m\u001b[0m \u001b[1m7s\u001b[0m 17ms/step - accuracy: 0.5015 - loss: 0.6932 - precision: 0.4992 - val_accuracy: 0.5148 - val_loss: 0.6927 - val_precision: 0.5272\n",
      "Epoch 2/100\n",
      "\u001b[1m350/350\u001b[0m \u001b[32m━━━━━━━━━━━━━━━━━━━━\u001b[0m\u001b[37m\u001b[0m \u001b[1m4s\u001b[0m 10ms/step - accuracy: 0.5202 - loss: 0.6923 - precision: 0.5191 - val_accuracy: 0.5316 - val_loss: 0.6918 - val_precision: 0.5403\n",
      "Epoch 3/100\n",
      "\u001b[1m350/350\u001b[0m \u001b[32m━━━━━━━━━━━━━━━━━━━━\u001b[0m\u001b[37m\u001b[0m \u001b[1m4s\u001b[0m 10ms/step - accuracy: 0.5483 - loss: 0.6911 - precision: 0.5479 - val_accuracy: 0.5527 - val_loss: 0.6902 - val_precision: 0.5582\n",
      "Epoch 4/100\n",
      "\u001b[1m350/350\u001b[0m \u001b[32m━━━━━━━━━━━━━━━━━━━━\u001b[0m\u001b[37m\u001b[0m \u001b[1m4s\u001b[0m 10ms/step - accuracy: 0.5754 - loss: 0.6881 - precision: 0.5679 - val_accuracy: 0.6308 - val_loss: 0.6503 - val_precision: 0.6305\n",
      "Epoch 5/100\n",
      "\u001b[1m350/350\u001b[0m \u001b[32m━━━━━━━━━━━━━━━━━━━━\u001b[0m\u001b[37m\u001b[0m \u001b[1m4s\u001b[0m 10ms/step - accuracy: 0.6586 - loss: 0.6333 - precision: 0.6670 - val_accuracy: 0.6805 - val_loss: 0.6121 - val_precision: 0.6495\n",
      "Epoch 6/100\n",
      "\u001b[1m350/350\u001b[0m \u001b[32m━━━━━━━━━━━━━━━━━━━━\u001b[0m\u001b[37m\u001b[0m \u001b[1m4s\u001b[0m 10ms/step - accuracy: 0.6940 - loss: 0.6005 - precision: 0.6835 - val_accuracy: 0.7083 - val_loss: 0.5860 - val_precision: 0.6919\n",
      "Epoch 7/100\n",
      "\u001b[1m350/350\u001b[0m \u001b[32m━━━━━━━━━━━━━━━━━━━━\u001b[0m\u001b[37m\u001b[0m \u001b[1m4s\u001b[0m 10ms/step - accuracy: 0.7188 - loss: 0.5766 - precision: 0.7157 - val_accuracy: 0.7168 - val_loss: 0.5697 - val_precision: 0.7322\n",
      "Epoch 8/100\n",
      "\u001b[1m350/350\u001b[0m \u001b[32m━━━━━━━━━━━━━━━━━━━━\u001b[0m\u001b[37m\u001b[0m \u001b[1m4s\u001b[0m 10ms/step - accuracy: 0.7284 - loss: 0.5607 - precision: 0.7282 - val_accuracy: 0.7327 - val_loss: 0.5534 - val_precision: 0.7306\n",
      "Epoch 9/100\n",
      "\u001b[1m350/350\u001b[0m \u001b[32m━━━━━━━━━━━━━━━━━━━━\u001b[0m\u001b[37m\u001b[0m \u001b[1m4s\u001b[0m 10ms/step - accuracy: 0.7452 - loss: 0.5370 - precision: 0.7357 - val_accuracy: 0.7401 - val_loss: 0.5412 - val_precision: 0.7403\n",
      "Epoch 10/100\n",
      "\u001b[1m350/350\u001b[0m \u001b[32m━━━━━━━━━━━━━━━━━━━━\u001b[0m\u001b[37m\u001b[0m \u001b[1m4s\u001b[0m 10ms/step - accuracy: 0.7442 - loss: 0.5360 - precision: 0.7321 - val_accuracy: 0.7440 - val_loss: 0.5318 - val_precision: 0.7298\n",
      "Epoch 11/100\n",
      "\u001b[1m350/350\u001b[0m \u001b[32m━━━━━━━━━━━━━━━━━━━━\u001b[0m\u001b[37m\u001b[0m \u001b[1m4s\u001b[0m 10ms/step - accuracy: 0.7572 - loss: 0.5187 - precision: 0.7459 - val_accuracy: 0.7487 - val_loss: 0.5259 - val_precision: 0.7393\n",
      "Epoch 12/100\n",
      "\u001b[1m350/350\u001b[0m \u001b[32m━━━━━━━━━━━━━━━━━━━━\u001b[0m\u001b[37m\u001b[0m \u001b[1m4s\u001b[0m 10ms/step - accuracy: 0.7617 - loss: 0.5099 - precision: 0.7455 - val_accuracy: 0.7500 - val_loss: 0.5206 - val_precision: 0.7359\n",
      "Epoch 13/100\n",
      "\u001b[1m350/350\u001b[0m \u001b[32m━━━━━━━━━━━━━━━━━━━━\u001b[0m\u001b[37m\u001b[0m \u001b[1m4s\u001b[0m 10ms/step - accuracy: 0.7615 - loss: 0.5056 - precision: 0.7462 - val_accuracy: 0.7471 - val_loss: 0.5216 - val_precision: 0.7579\n",
      "Epoch 14/100\n",
      "\u001b[1m350/350\u001b[0m \u001b[32m━━━━━━━━━━━━━━━━━━━━\u001b[0m\u001b[37m\u001b[0m \u001b[1m4s\u001b[0m 10ms/step - accuracy: 0.7638 - loss: 0.5000 - precision: 0.7523 - val_accuracy: 0.7552 - val_loss: 0.5136 - val_precision: 0.7327\n",
      "Epoch 15/100\n",
      "\u001b[1m350/350\u001b[0m \u001b[32m━━━━━━━━━━━━━━━━━━━━\u001b[0m\u001b[37m\u001b[0m \u001b[1m4s\u001b[0m 10ms/step - accuracy: 0.7642 - loss: 0.4994 - precision: 0.7462 - val_accuracy: 0.7527 - val_loss: 0.5128 - val_precision: 0.7582\n",
      "Epoch 16/100\n",
      "\u001b[1m350/350\u001b[0m \u001b[32m━━━━━━━━━━━━━━━━━━━━\u001b[0m\u001b[37m\u001b[0m \u001b[1m4s\u001b[0m 10ms/step - accuracy: 0.7630 - loss: 0.5010 - precision: 0.7482 - val_accuracy: 0.7485 - val_loss: 0.5177 - val_precision: 0.7703\n",
      "Epoch 17/100\n",
      "\u001b[1m350/350\u001b[0m \u001b[32m━━━━━━━━━━━━━━━━━━━━\u001b[0m\u001b[37m\u001b[0m \u001b[1m4s\u001b[0m 10ms/step - accuracy: 0.7722 - loss: 0.4907 - precision: 0.7589 - val_accuracy: 0.7571 - val_loss: 0.5076 - val_precision: 0.7330\n",
      "Epoch 18/100\n",
      "\u001b[1m350/350\u001b[0m \u001b[32m━━━━━━━━━━━━━━━━━━━━\u001b[0m\u001b[37m\u001b[0m \u001b[1m4s\u001b[0m 10ms/step - accuracy: 0.7742 - loss: 0.4865 - precision: 0.7623 - val_accuracy: 0.7580 - val_loss: 0.5052 - val_precision: 0.7353\n",
      "Epoch 19/100\n",
      "\u001b[1m350/350\u001b[0m \u001b[32m━━━━━━━━━━━━━━━━━━━━\u001b[0m\u001b[37m\u001b[0m \u001b[1m4s\u001b[0m 10ms/step - accuracy: 0.7736 - loss: 0.4854 - precision: 0.7621 - val_accuracy: 0.7592 - val_loss: 0.5038 - val_precision: 0.7499\n",
      "Epoch 20/100\n",
      "\u001b[1m350/350\u001b[0m \u001b[32m━━━━━━━━━━━━━━━━━━━━\u001b[0m\u001b[37m\u001b[0m \u001b[1m4s\u001b[0m 10ms/step - accuracy: 0.7733 - loss: 0.4852 - precision: 0.7608 - val_accuracy: 0.7583 - val_loss: 0.5031 - val_precision: 0.7439\n",
      "Epoch 21/100\n",
      "\u001b[1m350/350\u001b[0m \u001b[32m━━━━━━━━━━━━━━━━━━━━\u001b[0m\u001b[37m\u001b[0m \u001b[1m4s\u001b[0m 10ms/step - accuracy: 0.7690 - loss: 0.4875 - precision: 0.7557 - val_accuracy: 0.7559 - val_loss: 0.5060 - val_precision: 0.7390\n",
      "Epoch 22/100\n",
      "\u001b[1m350/350\u001b[0m \u001b[32m━━━━━━━━━━━━━━━━━━━━\u001b[0m\u001b[37m\u001b[0m \u001b[1m4s\u001b[0m 10ms/step - accuracy: 0.7737 - loss: 0.4824 - precision: 0.7595 - val_accuracy: 0.7600 - val_loss: 0.5009 - val_precision: 0.7498\n",
      "Epoch 23/100\n",
      "\u001b[1m350/350\u001b[0m \u001b[32m━━━━━━━━━━━━━━━━━━━━\u001b[0m\u001b[37m\u001b[0m \u001b[1m4s\u001b[0m 10ms/step - accuracy: 0.7774 - loss: 0.4772 - precision: 0.7652 - val_accuracy: 0.7577 - val_loss: 0.5020 - val_precision: 0.7328\n",
      "Epoch 24/100\n",
      "\u001b[1m350/350\u001b[0m \u001b[32m━━━━━━━━━━━━━━━━━━━━\u001b[0m\u001b[37m\u001b[0m \u001b[1m4s\u001b[0m 10ms/step - accuracy: 0.7775 - loss: 0.4784 - precision: 0.7631 - val_accuracy: 0.7587 - val_loss: 0.5023 - val_precision: 0.7347\n",
      "Epoch 25/100\n",
      "\u001b[1m350/350\u001b[0m \u001b[32m━━━━━━━━━━━━━━━━━━━━\u001b[0m\u001b[37m\u001b[0m \u001b[1m4s\u001b[0m 10ms/step - accuracy: 0.7700 - loss: 0.4808 - precision: 0.7569 - val_accuracy: 0.7588 - val_loss: 0.5008 - val_precision: 0.7503\n",
      "Epoch 26/100\n",
      "\u001b[1m350/350\u001b[0m \u001b[32m━━━━━━━━━━━━━━━━━━━━\u001b[0m\u001b[37m\u001b[0m \u001b[1m4s\u001b[0m 10ms/step - accuracy: 0.7722 - loss: 0.4756 - precision: 0.7606 - val_accuracy: 0.7588 - val_loss: 0.5033 - val_precision: 0.7504\n",
      "Epoch 27/100\n",
      "\u001b[1m350/350\u001b[0m \u001b[32m━━━━━━━━━━━━━━━━━━━━\u001b[0m\u001b[37m\u001b[0m \u001b[1m4s\u001b[0m 10ms/step - accuracy: 0.7809 - loss: 0.4707 - precision: 0.7658 - val_accuracy: 0.7587 - val_loss: 0.5018 - val_precision: 0.7331\n",
      "Epoch 28/100\n",
      "\u001b[1m350/350\u001b[0m \u001b[32m━━━━━━━━━━━━━━━━━━━━\u001b[0m\u001b[37m\u001b[0m \u001b[1m4s\u001b[0m 10ms/step - accuracy: 0.7738 - loss: 0.4771 - precision: 0.7620 - val_accuracy: 0.7585 - val_loss: 0.4993 - val_precision: 0.7490\n",
      "Epoch 29/100\n",
      "\u001b[1m350/350\u001b[0m \u001b[32m━━━━━━━━━━━━━━━━━━━━\u001b[0m\u001b[37m\u001b[0m \u001b[1m4s\u001b[0m 10ms/step - accuracy: 0.7792 - loss: 0.4722 - precision: 0.7699 - val_accuracy: 0.7573 - val_loss: 0.5023 - val_precision: 0.7662\n",
      "Epoch 30/100\n",
      "\u001b[1m350/350\u001b[0m \u001b[32m━━━━━━━━━━━━━━━━━━━━\u001b[0m\u001b[37m\u001b[0m \u001b[1m4s\u001b[0m 10ms/step - accuracy: 0.7808 - loss: 0.4696 - precision: 0.7706 - val_accuracy: 0.7580 - val_loss: 0.4981 - val_precision: 0.7334\n",
      "Epoch 31/100\n",
      "\u001b[1m350/350\u001b[0m \u001b[32m━━━━━━━━━━━━━━━━━━━━\u001b[0m\u001b[37m\u001b[0m \u001b[1m4s\u001b[0m 10ms/step - accuracy: 0.7721 - loss: 0.4786 - precision: 0.7587 - val_accuracy: 0.7599 - val_loss: 0.4976 - val_precision: 0.7491\n",
      "Epoch 32/100\n",
      "\u001b[1m350/350\u001b[0m \u001b[32m━━━━━━━━━━━━━━━━━━━━\u001b[0m\u001b[37m\u001b[0m \u001b[1m3s\u001b[0m 10ms/step - accuracy: 0.7744 - loss: 0.4804 - precision: 0.7628 - val_accuracy: 0.7595 - val_loss: 0.4978 - val_precision: 0.7573\n",
      "Epoch 33/100\n",
      "\u001b[1m350/350\u001b[0m \u001b[32m━━━━━━━━━━━━━━━━━━━━\u001b[0m\u001b[37m\u001b[0m \u001b[1m4s\u001b[0m 10ms/step - accuracy: 0.7741 - loss: 0.4716 - precision: 0.7627 - val_accuracy: 0.7587 - val_loss: 0.4972 - val_precision: 0.7456\n",
      "Epoch 34/100\n",
      "\u001b[1m350/350\u001b[0m \u001b[32m━━━━━━━━━━━━━━━━━━━━\u001b[0m\u001b[37m\u001b[0m \u001b[1m4s\u001b[0m 10ms/step - accuracy: 0.7817 - loss: 0.4642 - precision: 0.7704 - val_accuracy: 0.7583 - val_loss: 0.5004 - val_precision: 0.7661\n",
      "Epoch 35/100\n",
      "\u001b[1m350/350\u001b[0m \u001b[32m━━━━━━━━━━━━━━━━━━━━\u001b[0m\u001b[37m\u001b[0m \u001b[1m4s\u001b[0m 10ms/step - accuracy: 0.7770 - loss: 0.4713 - precision: 0.7623 - val_accuracy: 0.7615 - val_loss: 0.4971 - val_precision: 0.7642\n",
      "Epoch 36/100\n",
      "\u001b[1m350/350\u001b[0m \u001b[32m━━━━━━━━━━━━━━━━━━━━\u001b[0m\u001b[37m\u001b[0m \u001b[1m4s\u001b[0m 10ms/step - accuracy: 0.7824 - loss: 0.4650 - precision: 0.7700 - val_accuracy: 0.7616 - val_loss: 0.4962 - val_precision: 0.7600\n",
      "Epoch 37/100\n",
      "\u001b[1m350/350\u001b[0m \u001b[32m━━━━━━━━━━━━━━━━━━━━\u001b[0m\u001b[37m\u001b[0m \u001b[1m4s\u001b[0m 10ms/step - accuracy: 0.7808 - loss: 0.4677 - precision: 0.7695 - val_accuracy: 0.7603 - val_loss: 0.4955 - val_precision: 0.7466\n",
      "Epoch 38/100\n",
      "\u001b[1m350/350\u001b[0m \u001b[32m━━━━━━━━━━━━━━━━━━━━\u001b[0m\u001b[37m\u001b[0m \u001b[1m4s\u001b[0m 10ms/step - accuracy: 0.7747 - loss: 0.4734 - precision: 0.7609 - val_accuracy: 0.7613 - val_loss: 0.4967 - val_precision: 0.7562\n",
      "Epoch 39/100\n",
      "\u001b[1m350/350\u001b[0m \u001b[32m━━━━━━━━━━━━━━━━━━━━\u001b[0m\u001b[37m\u001b[0m \u001b[1m4s\u001b[0m 10ms/step - accuracy: 0.7810 - loss: 0.4663 - precision: 0.7692 - val_accuracy: 0.7559 - val_loss: 0.5013 - val_precision: 0.7354\n",
      "Epoch 40/100\n",
      "\u001b[1m350/350\u001b[0m \u001b[32m━━━━━━━━━━━━━━━━━━━━\u001b[0m\u001b[37m\u001b[0m \u001b[1m4s\u001b[0m 10ms/step - accuracy: 0.7755 - loss: 0.4670 - precision: 0.7665 - val_accuracy: 0.7593 - val_loss: 0.4981 - val_precision: 0.7452\n"
     ]
    }
   ],
   "source": [
    "# create a LSTM model\n",
    "model = keras.Sequential()\n",
    "model.add(keras.layers.LSTM(10, input_shape=(150,300))) # 150 : time step, 300 : # of unique words\n",
    "model.add(keras.layers.Dense(1, activation='sigmoid')) # sigmoid for binary classification\n",
    "\n",
    "adam = keras.optimizers.Adam(learning_rate=0.0001)\n",
    "model.compile(optimizer=adam, loss='binary_crossentropy', metrics=['accuracy', 'precision'])\n",
    "checkpoint_cb = keras.callbacks.ModelCheckpoint('best_rnn_imdb.keras', save_best_only=True)\n",
    "early_stopping_cb = keras.callbacks.EarlyStopping(patience=3, restore_best_weights=True)\n",
    "fit = model.fit(train_oh, train_target, epochs=100, batch_size=50,\n",
    "                   validation_data=(val_oh, val_target),\n",
    "                   callbacks=[checkpoint_cb, early_stopping_cb], verbose=1)"
   ]
  },
  {
   "cell_type": "code",
   "execution_count": 96,
   "id": "f7805e63-4a0d-4979-89d8-cdfde48ea1c9",
   "metadata": {},
   "outputs": [
    {
     "data": {
      "image/png": "[encoded data removed]",
      "text/plain": [
       "<Figure size 640x480 with 1 Axes>"
      ]
     },
     "metadata": {},
     "output_type": "display_data"
    }
   ],
   "source": [
    "plt.plot(range(len(fit.history['loss'])), fit.history['loss'],'.-')\n",
    "plt.plot(range(len(fit.history['val_loss'])), fit.history['val_loss'],'.-')\n",
    "plt.xlabel('epoch')\n",
    "plt.ylabel('loss')\n",
    "plt.legend(['train','val'])\n",
    "plt.show()"
   ]
  },
  {
   "cell_type": "code",
   "execution_count": null,
   "id": "41a08b41-a4ac-4ff8-ba4f-0780d9b0cb85",
   "metadata": {},
   "outputs": [],
   "source": []
  }
 ],
 "metadata": {
  "kernelspec": {
   "display_name": "Python 3 (ipykernel)",
   "language": "python",
   "name": "python3"
  },
  "language_info": {
   "codemirror_mode": {
    "name": "ipython",
    "version": 3
   },
   "file_extension": ".py",
   "mimetype": "text/x-python",
   "name": "python",
   "nbconvert_exporter": "python",
   "pygments_lexer": "ipython3",
   "version": "3.12.7"
  }
 },
 "nbformat": 4,
 "nbformat_minor": 5
}
