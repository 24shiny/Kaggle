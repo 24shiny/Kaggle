{
 "cells": [
  {
   "cell_type": "code",
   "execution_count": 1,
   "id": "5b04e60b-713f-4ca6-8170-9ba8197893dd",
   "metadata": {},
   "outputs": [
    {
     "name": "stdout",
     "output_type": "stream",
     "text": [
      "Path to dataset files: C:\\Users\\shiny\\.cache\\kagglehub\\datasets\\averkij\\tennessee-eastman-process-simulation-dataset\\versions\\1\n"
     ]
    }
   ],
   "source": [
    "import kagglehub\n",
    "\n",
    "# Download latest version\n",
    "path = kagglehub.dataset_download(\"averkij/tennessee-eastman-process-simulation-dataset\")\n",
    "print(\"Path to dataset files:\", path)"
   ]
  },
  {
   "cell_type": "code",
   "execution_count": 2,
   "id": "ec8fbe08-e4a7-4493-a2cf-3f8282ca313a",
   "metadata": {},
   "outputs": [
    {
     "data": {
      "text/plain": [
       "['TEP_FaultFree_Testing.RData',\n",
       " 'TEP_FaultFree_Training.RData',\n",
       " 'TEP_Faulty_Testing.RData',\n",
       " 'TEP_Faulty_Training.RData']"
      ]
     },
     "execution_count": 2,
     "metadata": {},
     "output_type": "execute_result"
    }
   ],
   "source": [
    "import os\n",
    "os.listdir(path)"
   ]
  },
  {
   "cell_type": "markdown",
   "id": "1edcc7b1-be3c-42a5-bd56-becba6873b46",
   "metadata": {},
   "source": [
    "# Content\n",
    "Each .RData file is an external representation of an R dataframe that can be read into an R environment with the 'load' function. The variables loaded are named ‘fault_free_training’, ‘fault_free_testing’, ‘faulty_testing’, and ‘faulty_training’, corresponding to the RData files.\n",
    "\n",
    "Each dataframe contains 55 columns:\n",
    "\n",
    "Column 1 ('faultNumber') ranges from 1 to 20 in the “Faulty” datasets and represents the fault type in the TEP. The “FaultFree” datasets only contain fault 0 (i.e. normal operating conditions).\n",
    "\n",
    "Column 2 ('simulationRun') ranges from 1 to 500 and represents a different random number generator state from which a full TEP dataset was generated (Note: the actual seeds used to generate training and testing datasets were non-overlapping).\n",
    "\n",
    "Column 3 ('sample') ranges either from 1 to 500 (“Training” datasets) or 1 to 960 (“Testing” datasets). The TEP variables (columns 4 to 55) were sampled every 3 minutes for a total duration of 25 hours and 48 hours respectively. Note that the faults were introduced 1 and 8 hours into the Faulty Training and Faulty Testing datasets, respectively.\n",
    "\n",
    "Columns 4 to 55 contain the process variables; the column names retain the original variable names.\n",
    "\n",
    "link to the data : https://www.kaggle.com/datasets/averkij/tennessee-eastman-process-simulation-dataset"
   ]
  },
  {
   "cell_type": "code",
   "execution_count": 3,
   "id": "1d130c30-6a78-4305-8f4f-5c143e6b048e",
   "metadata": {},
   "outputs": [
    {
     "data": {
      "text/html": [
       "<div>\n",
       "<style scoped>\n",
       "    .dataframe tbody tr th:only-of-type {\n",
       "        vertical-align: middle;\n",
       "    }\n",
       "\n",
       "    .dataframe tbody tr th {\n",
       "        vertical-align: top;\n",
       "    }\n",
       "\n",
       "    .dataframe thead th {\n",
       "        text-align: right;\n",
       "    }\n",
       "</style>\n",
       "<table border=\"1\" class=\"dataframe\">\n",
       "  <thead>\n",
       "    <tr style=\"text-align: right;\">\n",
       "      <th></th>\n",
       "      <th>faultNumber</th>\n",
       "      <th>simulationRun</th>\n",
       "      <th>sample</th>\n",
       "      <th>xmeas_1</th>\n",
       "      <th>xmeas_2</th>\n",
       "      <th>xmeas_3</th>\n",
       "      <th>xmeas_4</th>\n",
       "      <th>xmeas_5</th>\n",
       "      <th>xmeas_6</th>\n",
       "      <th>xmeas_7</th>\n",
       "      <th>...</th>\n",
       "      <th>xmv_2</th>\n",
       "      <th>xmv_3</th>\n",
       "      <th>xmv_4</th>\n",
       "      <th>xmv_5</th>\n",
       "      <th>xmv_6</th>\n",
       "      <th>xmv_7</th>\n",
       "      <th>xmv_8</th>\n",
       "      <th>xmv_9</th>\n",
       "      <th>xmv_10</th>\n",
       "      <th>xmv_11</th>\n",
       "    </tr>\n",
       "  </thead>\n",
       "  <tbody>\n",
       "    <tr>\n",
       "      <th>0</th>\n",
       "      <td>1</td>\n",
       "      <td>1.0</td>\n",
       "      <td>1</td>\n",
       "      <td>0.25038</td>\n",
       "      <td>3674.0</td>\n",
       "      <td>4529.0</td>\n",
       "      <td>9.2320</td>\n",
       "      <td>26.889</td>\n",
       "      <td>42.402</td>\n",
       "      <td>2704.3</td>\n",
       "      <td>...</td>\n",
       "      <td>53.744</td>\n",
       "      <td>24.657</td>\n",
       "      <td>62.544</td>\n",
       "      <td>22.137</td>\n",
       "      <td>39.935</td>\n",
       "      <td>42.323</td>\n",
       "      <td>47.757</td>\n",
       "      <td>47.510</td>\n",
       "      <td>41.258</td>\n",
       "      <td>18.447</td>\n",
       "    </tr>\n",
       "    <tr>\n",
       "      <th>1</th>\n",
       "      <td>1</td>\n",
       "      <td>1.0</td>\n",
       "      <td>2</td>\n",
       "      <td>0.25109</td>\n",
       "      <td>3659.4</td>\n",
       "      <td>4556.6</td>\n",
       "      <td>9.4264</td>\n",
       "      <td>26.721</td>\n",
       "      <td>42.576</td>\n",
       "      <td>2705.0</td>\n",
       "      <td>...</td>\n",
       "      <td>53.414</td>\n",
       "      <td>24.588</td>\n",
       "      <td>59.259</td>\n",
       "      <td>22.084</td>\n",
       "      <td>40.176</td>\n",
       "      <td>38.554</td>\n",
       "      <td>43.692</td>\n",
       "      <td>47.427</td>\n",
       "      <td>41.359</td>\n",
       "      <td>17.194</td>\n",
       "    </tr>\n",
       "    <tr>\n",
       "      <th>2</th>\n",
       "      <td>1</td>\n",
       "      <td>1.0</td>\n",
       "      <td>3</td>\n",
       "      <td>0.25038</td>\n",
       "      <td>3660.3</td>\n",
       "      <td>4477.8</td>\n",
       "      <td>9.4426</td>\n",
       "      <td>26.875</td>\n",
       "      <td>42.070</td>\n",
       "      <td>2706.2</td>\n",
       "      <td>...</td>\n",
       "      <td>54.357</td>\n",
       "      <td>24.666</td>\n",
       "      <td>61.275</td>\n",
       "      <td>22.380</td>\n",
       "      <td>40.244</td>\n",
       "      <td>38.990</td>\n",
       "      <td>46.699</td>\n",
       "      <td>47.468</td>\n",
       "      <td>41.199</td>\n",
       "      <td>20.530</td>\n",
       "    </tr>\n",
       "    <tr>\n",
       "      <th>3</th>\n",
       "      <td>1</td>\n",
       "      <td>1.0</td>\n",
       "      <td>4</td>\n",
       "      <td>0.24977</td>\n",
       "      <td>3661.3</td>\n",
       "      <td>4512.1</td>\n",
       "      <td>9.4776</td>\n",
       "      <td>26.758</td>\n",
       "      <td>42.063</td>\n",
       "      <td>2707.2</td>\n",
       "      <td>...</td>\n",
       "      <td>53.946</td>\n",
       "      <td>24.725</td>\n",
       "      <td>59.856</td>\n",
       "      <td>22.277</td>\n",
       "      <td>40.257</td>\n",
       "      <td>38.072</td>\n",
       "      <td>47.541</td>\n",
       "      <td>47.658</td>\n",
       "      <td>41.643</td>\n",
       "      <td>18.089</td>\n",
       "    </tr>\n",
       "    <tr>\n",
       "      <th>4</th>\n",
       "      <td>1</td>\n",
       "      <td>1.0</td>\n",
       "      <td>5</td>\n",
       "      <td>0.29405</td>\n",
       "      <td>3679.0</td>\n",
       "      <td>4497.0</td>\n",
       "      <td>9.3381</td>\n",
       "      <td>26.889</td>\n",
       "      <td>42.650</td>\n",
       "      <td>2705.1</td>\n",
       "      <td>...</td>\n",
       "      <td>53.658</td>\n",
       "      <td>28.797</td>\n",
       "      <td>60.717</td>\n",
       "      <td>21.947</td>\n",
       "      <td>39.144</td>\n",
       "      <td>41.955</td>\n",
       "      <td>47.645</td>\n",
       "      <td>47.346</td>\n",
       "      <td>41.507</td>\n",
       "      <td>18.461</td>\n",
       "    </tr>\n",
       "  </tbody>\n",
       "</table>\n",
       "<p>5 rows × 55 columns</p>\n",
       "</div>"
      ],
      "text/plain": [
       "   faultNumber  simulationRun  sample  xmeas_1  xmeas_2  xmeas_3  xmeas_4  \\\n",
       "0            1            1.0       1  0.25038   3674.0   4529.0   9.2320   \n",
       "1            1            1.0       2  0.25109   3659.4   4556.6   9.4264   \n",
       "2            1            1.0       3  0.25038   3660.3   4477.8   9.4426   \n",
       "3            1            1.0       4  0.24977   3661.3   4512.1   9.4776   \n",
       "4            1            1.0       5  0.29405   3679.0   4497.0   9.3381   \n",
       "\n",
       "   xmeas_5  xmeas_6  xmeas_7  ...   xmv_2   xmv_3   xmv_4   xmv_5   xmv_6  \\\n",
       "0   26.889   42.402   2704.3  ...  53.744  24.657  62.544  22.137  39.935   \n",
       "1   26.721   42.576   2705.0  ...  53.414  24.588  59.259  22.084  40.176   \n",
       "2   26.875   42.070   2706.2  ...  54.357  24.666  61.275  22.380  40.244   \n",
       "3   26.758   42.063   2707.2  ...  53.946  24.725  59.856  22.277  40.257   \n",
       "4   26.889   42.650   2705.1  ...  53.658  28.797  60.717  21.947  39.144   \n",
       "\n",
       "    xmv_7   xmv_8   xmv_9  xmv_10  xmv_11  \n",
       "0  42.323  47.757  47.510  41.258  18.447  \n",
       "1  38.554  43.692  47.427  41.359  17.194  \n",
       "2  38.990  46.699  47.468  41.199  20.530  \n",
       "3  38.072  47.541  47.658  41.643  18.089  \n",
       "4  41.955  47.645  47.346  41.507  18.461  \n",
       "\n",
       "[5 rows x 55 columns]"
      ]
     },
     "execution_count": 3,
     "metadata": {},
     "output_type": "execute_result"
    }
   ],
   "source": [
    "# read the R files with the use of pyreader\n",
    "import pyreadr\n",
    "df_fault = pyreadr.read_r(path+'/TEP_Faulty_Training.RData')\n",
    "df_fault = df_fault['faulty_training']\n",
    "df_fault.head()"
   ]
  },
  {
   "cell_type": "code",
   "execution_count": 4,
   "id": "572c607a-4663-4a2e-8d80-c24a918ef0af",
   "metadata": {},
   "outputs": [
    {
     "name": "stdout",
     "output_type": "stream",
     "text": [
      "<class 'pandas.core.frame.DataFrame'>\n",
      "RangeIndex: 5000000 entries, 0 to 4999999\n",
      "Data columns (total 55 columns):\n",
      " #   Column         Dtype  \n",
      "---  ------         -----  \n",
      " 0   faultNumber    int32  \n",
      " 1   simulationRun  float64\n",
      " 2   sample         int32  \n",
      " 3   xmeas_1        float64\n",
      " 4   xmeas_2        float64\n",
      " 5   xmeas_3        float64\n",
      " 6   xmeas_4        float64\n",
      " 7   xmeas_5        float64\n",
      " 8   xmeas_6        float64\n",
      " 9   xmeas_7        float64\n",
      " 10  xmeas_8        float64\n",
      " 11  xmeas_9        float64\n",
      " 12  xmeas_10       float64\n",
      " 13  xmeas_11       float64\n",
      " 14  xmeas_12       float64\n",
      " 15  xmeas_13       float64\n",
      " 16  xmeas_14       float64\n",
      " 17  xmeas_15       float64\n",
      " 18  xmeas_16       float64\n",
      " 19  xmeas_17       float64\n",
      " 20  xmeas_18       float64\n",
      " 21  xmeas_19       float64\n",
      " 22  xmeas_20       float64\n",
      " 23  xmeas_21       float64\n",
      " 24  xmeas_22       float64\n",
      " 25  xmeas_23       float64\n",
      " 26  xmeas_24       float64\n",
      " 27  xmeas_25       float64\n",
      " 28  xmeas_26       float64\n",
      " 29  xmeas_27       float64\n",
      " 30  xmeas_28       float64\n",
      " 31  xmeas_29       float64\n",
      " 32  xmeas_30       float64\n",
      " 33  xmeas_31       float64\n",
      " 34  xmeas_32       float64\n",
      " 35  xmeas_33       float64\n",
      " 36  xmeas_34       float64\n",
      " 37  xmeas_35       float64\n",
      " 38  xmeas_36       float64\n",
      " 39  xmeas_37       float64\n",
      " 40  xmeas_38       float64\n",
      " 41  xmeas_39       float64\n",
      " 42  xmeas_40       float64\n",
      " 43  xmeas_41       float64\n",
      " 44  xmv_1          float64\n",
      " 45  xmv_2          float64\n",
      " 46  xmv_3          float64\n",
      " 47  xmv_4          float64\n",
      " 48  xmv_5          float64\n",
      " 49  xmv_6          float64\n",
      " 50  xmv_7          float64\n",
      " 51  xmv_8          float64\n",
      " 52  xmv_9          float64\n",
      " 53  xmv_10         float64\n",
      " 54  xmv_11         float64\n",
      "dtypes: float64(53), int32(2)\n",
      "memory usage: 2.0 GB\n"
     ]
    }
   ],
   "source": [
    "df_fault.info()"
   ]
  },
  {
   "cell_type": "code",
   "execution_count": 5,
   "id": "f817bbc5-72dc-42bf-933d-9594d172264e",
   "metadata": {},
   "outputs": [
    {
     "data": {
      "text/plain": [
       "faultNumber      0\n",
       "simulationRun    0\n",
       "sample           0\n",
       "xmeas_1          0\n",
       "xmeas_2          0\n",
       "xmeas_3          0\n",
       "xmeas_4          0\n",
       "xmeas_5          0\n",
       "xmeas_6          0\n",
       "xmeas_7          0\n",
       "xmeas_8          0\n",
       "xmeas_9          0\n",
       "xmeas_10         0\n",
       "xmeas_11         0\n",
       "xmeas_12         0\n",
       "xmeas_13         0\n",
       "xmeas_14         0\n",
       "xmeas_15         0\n",
       "xmeas_16         0\n",
       "xmeas_17         0\n",
       "xmeas_18         0\n",
       "xmeas_19         0\n",
       "xmeas_20         0\n",
       "xmeas_21         0\n",
       "xmeas_22         0\n",
       "xmeas_23         0\n",
       "xmeas_24         0\n",
       "xmeas_25         0\n",
       "xmeas_26         0\n",
       "xmeas_27         0\n",
       "xmeas_28         0\n",
       "xmeas_29         0\n",
       "xmeas_30         0\n",
       "xmeas_31         0\n",
       "xmeas_32         0\n",
       "xmeas_33         0\n",
       "xmeas_34         0\n",
       "xmeas_35         0\n",
       "xmeas_36         0\n",
       "xmeas_37         0\n",
       "xmeas_38         0\n",
       "xmeas_39         0\n",
       "xmeas_40         0\n",
       "xmeas_41         0\n",
       "xmv_1            0\n",
       "xmv_2            0\n",
       "xmv_3            0\n",
       "xmv_4            0\n",
       "xmv_5            0\n",
       "xmv_6            0\n",
       "xmv_7            0\n",
       "xmv_8            0\n",
       "xmv_9            0\n",
       "xmv_10           0\n",
       "xmv_11           0\n",
       "dtype: int64"
      ]
     },
     "execution_count": 5,
     "metadata": {},
     "output_type": "execute_result"
    }
   ],
   "source": [
    "# check the existence of missing values\n",
    "df_fault.isna().sum()"
   ]
  },
  {
   "cell_type": "code",
   "execution_count": 12,
   "id": "e9c21dcd-58b7-4ec6-ac7a-b19f1473b6e2",
   "metadata": {},
   "outputs": [
    {
     "data": {
      "text/plain": [
       "array([ 1,  2,  3,  4,  5,  6,  7,  8,  9, 10, 11, 12, 13, 14, 15, 16, 17,\n",
       "       18, 19, 20], dtype=int32)"
      ]
     },
     "execution_count": 12,
     "metadata": {},
     "output_type": "execute_result"
    }
   ],
   "source": [
    "df_fault['faultNumber'].unique()"
   ]
  },
  {
   "cell_type": "markdown",
   "id": "a4423ef4-be80-4d1c-ae62-860edcf00bf3",
   "metadata": {},
   "source": [
    "Draw histograms of each TEP variable"
   ]
  },
  {
   "cell_type": "code",
   "execution_count": 15,
   "id": "0d1d5a39-3b42-40d1-8d76-54483cfda420",
   "metadata": {},
   "outputs": [
    {
     "data": {
      "text/plain": [
       "52"
      ]
     },
     "execution_count": 15,
     "metadata": {},
     "output_type": "execute_result"
    }
   ],
   "source": [
    "# make a list of TEP variables\n",
    "tep = df_fault.columns[3:].to_list()\n",
    "len(tep)"
   ]
  },
  {
   "cell_type": "code",
   "execution_count": 16,
   "id": "a9ee41b7-375e-44e8-aaa8-657dd62e6b0c",
   "metadata": {},
   "outputs": [
    {
     "data": {
      "image/png": "[encoded data removed]",
      "text/plain": [
       "<Figure size 640x480 with 1 Axes>"
      ]
     },
     "metadata": {},
     "output_type": "display_data"
    }
   ],
   "source": [
    "import matplotlib.pyplot as plt\n",
    "plt.hist(tep[0])\n",
    "plt.xlabel('value')\n",
    "plt.ylabel('freq')\n",
    "plt.show()"
   ]
  },
  {
   "cell_type": "code",
   "execution_count": 20,
   "id": "5c676966-449a-4025-bf82-567d5d812af5",
   "metadata": {},
   "outputs": [
    {
     "ename": "IndexError",
     "evalue": "index 10 is out of bounds for axis 0 with size 10",
     "output_type": "error",
     "traceback": [
      "\u001b[1;31m---------------------------------------------------------------------------\u001b[0m",
      "\u001b[1;31mIndexError\u001b[0m                                Traceback (most recent call last)",
      "Cell \u001b[1;32mIn[20], line 4\u001b[0m\n\u001b[0;32m      2\u001b[0m fig\u001b[38;5;241m.\u001b[39mtight_layout()\n\u001b[0;32m      3\u001b[0m \u001b[38;5;28;01mfor\u001b[39;00m i \u001b[38;5;129;01min\u001b[39;00m \u001b[38;5;28mrange\u001b[39m(\u001b[38;5;28mlen\u001b[39m(tep)):\n\u001b[1;32m----> 4\u001b[0m     \u001b[43maxs\u001b[49m\u001b[43m[\u001b[49m\u001b[43mi\u001b[49m\u001b[38;5;241;43m/\u001b[39;49m\u001b[38;5;241;43m/\u001b[39;49m\u001b[38;5;241;43m5\u001b[39;49m\u001b[43m]\u001b[49m[i\u001b[38;5;241m%\u001b[39m\u001b[38;5;241m5\u001b[39m]\u001b[38;5;241m.\u001b[39mhist(tep[i])\n\u001b[0;32m      5\u001b[0m     axs[i\u001b[38;5;241m/\u001b[39m\u001b[38;5;241m/\u001b[39m\u001b[38;5;241m5\u001b[39m][i\u001b[38;5;241m%\u001b[39m\u001b[38;5;241m5\u001b[39m]\u001b[38;5;241m.\u001b[39mset_title(tep[i])\n\u001b[0;32m      6\u001b[0m plt\u001b[38;5;241m.\u001b[39mshow()\n",
      "\u001b[1;31mIndexError\u001b[0m: index 10 is out of bounds for axis 0 with size 10"
     ]
    },
    {
     "data": {
      "image/png": "[encoded data removed]",
      "text/plain": [
       "<Figure size 640x480 with 50 Axes>"
      ]
     },
     "metadata": {},
     "output_type": "display_data"
    }
   ],
   "source": [
    "fig, axs = plt.subplots(10, 5)\n",
    "fig.tight_layout()\n",
    "for i in range(len(tep)):\n",
    "    axs[i//5][i%5].hist(tep[i])\n",
    "    axs[i//5][i%5].set_title(tep[i])\n",
    "plt.show()"
   ]
  },
  {
   "cell_type": "code",
   "execution_count": 6,
   "id": "df09cdbd-ea5a-4640-9ab7-97d23b21fd6a",
   "metadata": {},
   "outputs": [
    {
     "data": {
      "text/html": [
       "<div>\n",
       "<style scoped>\n",
       "    .dataframe tbody tr th:only-of-type {\n",
       "        vertical-align: middle;\n",
       "    }\n",
       "\n",
       "    .dataframe tbody tr th {\n",
       "        vertical-align: top;\n",
       "    }\n",
       "\n",
       "    .dataframe thead th {\n",
       "        text-align: right;\n",
       "    }\n",
       "</style>\n",
       "<table border=\"1\" class=\"dataframe\">\n",
       "  <thead>\n",
       "    <tr style=\"text-align: right;\">\n",
       "      <th></th>\n",
       "      <th>faultNumber</th>\n",
       "      <th>simulationRun</th>\n",
       "      <th>sample</th>\n",
       "      <th>xmeas_1</th>\n",
       "      <th>xmeas_2</th>\n",
       "      <th>xmeas_3</th>\n",
       "      <th>xmeas_4</th>\n",
       "      <th>xmeas_5</th>\n",
       "      <th>xmeas_6</th>\n",
       "      <th>xmeas_7</th>\n",
       "      <th>...</th>\n",
       "      <th>xmv_2</th>\n",
       "      <th>xmv_3</th>\n",
       "      <th>xmv_4</th>\n",
       "      <th>xmv_5</th>\n",
       "      <th>xmv_6</th>\n",
       "      <th>xmv_7</th>\n",
       "      <th>xmv_8</th>\n",
       "      <th>xmv_9</th>\n",
       "      <th>xmv_10</th>\n",
       "      <th>xmv_11</th>\n",
       "    </tr>\n",
       "  </thead>\n",
       "  <tbody>\n",
       "    <tr>\n",
       "      <th>0</th>\n",
       "      <td>0.0</td>\n",
       "      <td>1.0</td>\n",
       "      <td>1</td>\n",
       "      <td>0.25038</td>\n",
       "      <td>3674.0</td>\n",
       "      <td>4529.0</td>\n",
       "      <td>9.2320</td>\n",
       "      <td>26.889</td>\n",
       "      <td>42.402</td>\n",
       "      <td>2704.3</td>\n",
       "      <td>...</td>\n",
       "      <td>53.744</td>\n",
       "      <td>24.657</td>\n",
       "      <td>62.544</td>\n",
       "      <td>22.137</td>\n",
       "      <td>39.935</td>\n",
       "      <td>42.323</td>\n",
       "      <td>47.757</td>\n",
       "      <td>47.510</td>\n",
       "      <td>41.258</td>\n",
       "      <td>18.447</td>\n",
       "    </tr>\n",
       "    <tr>\n",
       "      <th>1</th>\n",
       "      <td>0.0</td>\n",
       "      <td>1.0</td>\n",
       "      <td>2</td>\n",
       "      <td>0.25109</td>\n",
       "      <td>3659.4</td>\n",
       "      <td>4556.6</td>\n",
       "      <td>9.4264</td>\n",
       "      <td>26.721</td>\n",
       "      <td>42.576</td>\n",
       "      <td>2705.0</td>\n",
       "      <td>...</td>\n",
       "      <td>53.414</td>\n",
       "      <td>24.588</td>\n",
       "      <td>59.259</td>\n",
       "      <td>22.084</td>\n",
       "      <td>40.176</td>\n",
       "      <td>38.554</td>\n",
       "      <td>43.692</td>\n",
       "      <td>47.427</td>\n",
       "      <td>41.359</td>\n",
       "      <td>17.194</td>\n",
       "    </tr>\n",
       "    <tr>\n",
       "      <th>2</th>\n",
       "      <td>0.0</td>\n",
       "      <td>1.0</td>\n",
       "      <td>3</td>\n",
       "      <td>0.25038</td>\n",
       "      <td>3660.3</td>\n",
       "      <td>4477.8</td>\n",
       "      <td>9.4426</td>\n",
       "      <td>26.875</td>\n",
       "      <td>42.070</td>\n",
       "      <td>2706.2</td>\n",
       "      <td>...</td>\n",
       "      <td>54.357</td>\n",
       "      <td>24.666</td>\n",
       "      <td>61.275</td>\n",
       "      <td>22.380</td>\n",
       "      <td>40.244</td>\n",
       "      <td>38.990</td>\n",
       "      <td>46.699</td>\n",
       "      <td>47.468</td>\n",
       "      <td>41.199</td>\n",
       "      <td>20.530</td>\n",
       "    </tr>\n",
       "    <tr>\n",
       "      <th>3</th>\n",
       "      <td>0.0</td>\n",
       "      <td>1.0</td>\n",
       "      <td>4</td>\n",
       "      <td>0.24977</td>\n",
       "      <td>3661.3</td>\n",
       "      <td>4512.1</td>\n",
       "      <td>9.4776</td>\n",
       "      <td>26.758</td>\n",
       "      <td>42.063</td>\n",
       "      <td>2707.2</td>\n",
       "      <td>...</td>\n",
       "      <td>53.946</td>\n",
       "      <td>24.725</td>\n",
       "      <td>59.856</td>\n",
       "      <td>22.277</td>\n",
       "      <td>40.257</td>\n",
       "      <td>38.072</td>\n",
       "      <td>47.541</td>\n",
       "      <td>47.658</td>\n",
       "      <td>41.643</td>\n",
       "      <td>18.089</td>\n",
       "    </tr>\n",
       "    <tr>\n",
       "      <th>4</th>\n",
       "      <td>0.0</td>\n",
       "      <td>1.0</td>\n",
       "      <td>5</td>\n",
       "      <td>0.29405</td>\n",
       "      <td>3679.0</td>\n",
       "      <td>4497.0</td>\n",
       "      <td>9.3381</td>\n",
       "      <td>26.889</td>\n",
       "      <td>42.650</td>\n",
       "      <td>2705.1</td>\n",
       "      <td>...</td>\n",
       "      <td>53.658</td>\n",
       "      <td>28.797</td>\n",
       "      <td>60.717</td>\n",
       "      <td>21.947</td>\n",
       "      <td>39.144</td>\n",
       "      <td>41.955</td>\n",
       "      <td>47.645</td>\n",
       "      <td>47.346</td>\n",
       "      <td>41.507</td>\n",
       "      <td>18.461</td>\n",
       "    </tr>\n",
       "  </tbody>\n",
       "</table>\n",
       "<p>5 rows × 55 columns</p>\n",
       "</div>"
      ],
      "text/plain": [
       "   faultNumber  simulationRun  sample  xmeas_1  xmeas_2  xmeas_3  xmeas_4  \\\n",
       "0          0.0            1.0       1  0.25038   3674.0   4529.0   9.2320   \n",
       "1          0.0            1.0       2  0.25109   3659.4   4556.6   9.4264   \n",
       "2          0.0            1.0       3  0.25038   3660.3   4477.8   9.4426   \n",
       "3          0.0            1.0       4  0.24977   3661.3   4512.1   9.4776   \n",
       "4          0.0            1.0       5  0.29405   3679.0   4497.0   9.3381   \n",
       "\n",
       "   xmeas_5  xmeas_6  xmeas_7  ...   xmv_2   xmv_3   xmv_4   xmv_5   xmv_6  \\\n",
       "0   26.889   42.402   2704.3  ...  53.744  24.657  62.544  22.137  39.935   \n",
       "1   26.721   42.576   2705.0  ...  53.414  24.588  59.259  22.084  40.176   \n",
       "2   26.875   42.070   2706.2  ...  54.357  24.666  61.275  22.380  40.244   \n",
       "3   26.758   42.063   2707.2  ...  53.946  24.725  59.856  22.277  40.257   \n",
       "4   26.889   42.650   2705.1  ...  53.658  28.797  60.717  21.947  39.144   \n",
       "\n",
       "    xmv_7   xmv_8   xmv_9  xmv_10  xmv_11  \n",
       "0  42.323  47.757  47.510  41.258  18.447  \n",
       "1  38.554  43.692  47.427  41.359  17.194  \n",
       "2  38.990  46.699  47.468  41.199  20.530  \n",
       "3  38.072  47.541  47.658  41.643  18.089  \n",
       "4  41.955  47.645  47.346  41.507  18.461  \n",
       "\n",
       "[5 rows x 55 columns]"
      ]
     },
     "execution_count": 6,
     "metadata": {},
     "output_type": "execute_result"
    }
   ],
   "source": [
    "df_free = pyreadr.read_r(path+'/TEP_FaultFree_Training.RData')\n",
    "df_free = df_free['fault_free_training']\n",
    "df_free.head()"
   ]
  },
  {
   "cell_type": "code",
   "execution_count": 8,
   "id": "bfbfe52a-7a75-4a12-9ff8-2dc4ed8d7bd4",
   "metadata": {},
   "outputs": [
    {
     "data": {
      "text/plain": [
       "array([0.])"
      ]
     },
     "execution_count": 8,
     "metadata": {},
     "output_type": "execute_result"
    }
   ],
   "source": [
    "# faultNumber==0 refers to being fault-free\n",
    "df_free['faultNumber'].unique()"
   ]
  },
  {
   "cell_type": "code",
   "execution_count": 9,
   "id": "6c86991e-ffee-4908-bde3-5880eba136d8",
   "metadata": {},
   "outputs": [
    {
     "data": {
      "text/plain": [
       "faultNumber      0\n",
       "simulationRun    0\n",
       "sample           0\n",
       "xmeas_1          0\n",
       "xmeas_2          0\n",
       "xmeas_3          0\n",
       "xmeas_4          0\n",
       "xmeas_5          0\n",
       "xmeas_6          0\n",
       "xmeas_7          0\n",
       "xmeas_8          0\n",
       "xmeas_9          0\n",
       "xmeas_10         0\n",
       "xmeas_11         0\n",
       "xmeas_12         0\n",
       "xmeas_13         0\n",
       "xmeas_14         0\n",
       "xmeas_15         0\n",
       "xmeas_16         0\n",
       "xmeas_17         0\n",
       "xmeas_18         0\n",
       "xmeas_19         0\n",
       "xmeas_20         0\n",
       "xmeas_21         0\n",
       "xmeas_22         0\n",
       "xmeas_23         0\n",
       "xmeas_24         0\n",
       "xmeas_25         0\n",
       "xmeas_26         0\n",
       "xmeas_27         0\n",
       "xmeas_28         0\n",
       "xmeas_29         0\n",
       "xmeas_30         0\n",
       "xmeas_31         0\n",
       "xmeas_32         0\n",
       "xmeas_33         0\n",
       "xmeas_34         0\n",
       "xmeas_35         0\n",
       "xmeas_36         0\n",
       "xmeas_37         0\n",
       "xmeas_38         0\n",
       "xmeas_39         0\n",
       "xmeas_40         0\n",
       "xmeas_41         0\n",
       "xmv_1            0\n",
       "xmv_2            0\n",
       "xmv_3            0\n",
       "xmv_4            0\n",
       "xmv_5            0\n",
       "xmv_6            0\n",
       "xmv_7            0\n",
       "xmv_8            0\n",
       "xmv_9            0\n",
       "xmv_10           0\n",
       "xmv_11           0\n",
       "dtype: int64"
      ]
     },
     "execution_count": 9,
     "metadata": {},
     "output_type": "execute_result"
    }
   ],
   "source": [
    "# missing values?\n",
    "df_free.isna().sum()"
   ]
  },
  {
   "cell_type": "code",
   "execution_count": 11,
   "id": "b603ba5c-9aae-4826-a0e4-6eaa01783c16",
   "metadata": {},
   "outputs": [
    {
     "data": {
      "text/plain": [
       "np.False_"
      ]
     },
     "execution_count": 11,
     "metadata": {},
     "output_type": "execute_result"
    }
   ],
   "source": [
    "import numpy as np\n",
    "np.any(df_free.isna().sum()!=0)"
   ]
  },
  {
   "cell_type": "code",
   "execution_count": null,
   "id": "059590f4-efcf-4440-8c70-e261b073411f",
   "metadata": {},
   "outputs": [],
   "source": []
  }
 ],
 "metadata": {
  "kernelspec": {
   "display_name": "Python 3 (ipykernel)",
   "language": "python",
   "name": "python3"
  },
  "language_info": {
   "codemirror_mode": {
    "name": "ipython",
    "version": 3
   },
   "file_extension": ".py",
   "mimetype": "text/x-python",
   "name": "python",
   "nbconvert_exporter": "python",
   "pygments_lexer": "ipython3",
   "version": "3.12.7"
  }
 },
 "nbformat": 4,
 "nbformat_minor": 5
}
