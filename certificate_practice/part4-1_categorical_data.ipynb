{
 "cells": [
  {
   "cell_type": "markdown",
   "id": "d9086c0f-602c-4ded-bf77-7991a4f1cf21",
   "metadata": {},
   "source": [
    "<strong>Goodness of fit test</strong> aims to evaluate how close a distribution of data to a reference distribution\n",
    "<br>Do the goodness of fit test w.r.t 250 cars, manufactured by five car companies from A to E\n",
    "<ol>\n",
    "    <li>H0 : preference takes suggested values: A(0.3), B(0.15), C(0.1), D(0.25), and E(0.2)</li>\n",
    "    <li>H1 : at least one value differs from the suggested probabilites</li>\n",
    "</ol>"
   ]
  },
  {
   "cell_type": "code",
   "execution_count": null,
   "id": "59185895-5f0e-4e9f-89f8-9e79fd8e485e",
   "metadata": {},
   "outputs": [],
   "source": [
    "# Do the goodness of fit test w.r.t 250 cars, manufactured by five car companies from A to E\n"
   ]
  },
  {
   "cell_type": "code",
   "execution_count": 4,
   "id": "27dfdf58-1e0c-4f5e-8d0e-8562e18c51f1",
   "metadata": {},
   "outputs": [],
   "source": [
    "import numpy as np\n",
    "observed = np.array([90,30,35,55,40])\n",
    "expected = np.array([0.3, 0.15, 0.1, 0.25, 0.2])*250"
   ]
  },
  {
   "cell_type": "code",
   "execution_count": 5,
   "id": "097ac8d4-d70d-4d2d-ae1b-fd0b854db0d8",
   "metadata": {},
   "outputs": [
    {
     "data": {
      "text/plain": [
       "np.float64(250.0)"
      ]
     },
     "execution_count": 5,
     "metadata": {},
     "output_type": "execute_result"
    }
   ],
   "source": [
    "expected.sum()"
   ]
  },
  {
   "cell_type": "code",
   "execution_count": 6,
   "id": "d090f60f-83ca-4b0b-8f8d-13188c342587",
   "metadata": {},
   "outputs": [
    {
     "data": {
      "text/plain": [
       "Power_divergenceResult(statistic=np.float64(11.4), pvalue=np.float64(0.02241796856505753))"
      ]
     },
     "execution_count": 6,
     "metadata": {},
     "output_type": "execute_result"
    }
   ],
   "source": [
    "from scipy.stats import chisquare\n",
    "chisquare(observed, expected)"
   ]
  },
  {
   "cell_type": "markdown",
   "id": "f365d3d4-0139-4af0-8356-e677cc6ced5f",
   "metadata": {},
   "source": [
    "<strong>Test of Independece</strong> aims to check relation between variables (dependent or independent)\n",
    "<br>Do this test to see if there is a relation between gender and sales of three products.\n",
    "<ol>\n",
    "    <li>H0 : No relation between variables</li>\n",
    "    <li>H1 : there exits a relation between variables</li>\n",
    "</ol>"
   ]
  },
  {
   "cell_type": "code",
   "execution_count": 15,
   "id": "730e9938-573b-43c4-ace6-6c4dc7807370",
   "metadata": {},
   "outputs": [
    {
     "data": {
      "text/html": [
       "<div>\n",
       "<style scoped>\n",
       "    .dataframe tbody tr th:only-of-type {\n",
       "        vertical-align: middle;\n",
       "    }\n",
       "\n",
       "    .dataframe tbody tr th {\n",
       "        vertical-align: top;\n",
       "    }\n",
       "\n",
       "    .dataframe thead th {\n",
       "        text-align: right;\n",
       "    }\n",
       "</style>\n",
       "<table border=\"1\" class=\"dataframe\">\n",
       "  <thead>\n",
       "    <tr style=\"text-align: right;\">\n",
       "      <th></th>\n",
       "      <th>prod1</th>\n",
       "      <th>prod2</th>\n",
       "      <th>prod3</th>\n",
       "    </tr>\n",
       "  </thead>\n",
       "  <tbody>\n",
       "    <tr>\n",
       "      <th>female</th>\n",
       "      <td>269</td>\n",
       "      <td>83</td>\n",
       "      <td>215</td>\n",
       "    </tr>\n",
       "    <tr>\n",
       "      <th>male</th>\n",
       "      <td>155</td>\n",
       "      <td>57</td>\n",
       "      <td>181</td>\n",
       "    </tr>\n",
       "  </tbody>\n",
       "</table>\n",
       "</div>"
      ],
      "text/plain": [
       "        prod1  prod2  prod3\n",
       "female    269     83    215\n",
       "male      155     57    181"
      ]
     },
     "execution_count": 15,
     "metadata": {},
     "output_type": "execute_result"
    }
   ],
   "source": [
    "# create a crosstab\n",
    "import pandas as pd\n",
    "female = [269, 83, 215]\n",
    "male = [155, 57, 181]\n",
    "df = pd.DataFrame([female, male], columns=['prod1','prod2','prod3'], index=['female','male'])\n",
    "df"
   ]
  },
  {
   "cell_type": "code",
   "execution_count": 16,
   "id": "615f087f-a175-474e-b87e-228ee39d768d",
   "metadata": {},
   "outputs": [
    {
     "name": "stdout",
     "output_type": "stream",
     "text": [
      "7.094264414804222 0.028807134195296135\n"
     ]
    }
   ],
   "source": [
    "from scipy.stats import chi2_contingency\n",
    "# this method get the crosstab as input\n",
    "chi, p, df, expected = chi2_contingency(df, correction=False)\n",
    "print(chi, p)"
   ]
  },
  {
   "cell_type": "markdown",
   "id": "de0e5b63-910c-4016-b475-6ff858a6f177",
   "metadata": {},
   "source": [
    "<strong>Test of Homogeneity</strong> aims to check whether more than two groups have the same distribution, in other words, whether their distribution is homogenious.\n",
    "<br>Do this test to see if the quality of products is consistent with time\n",
    "<ol>\n",
    "    <li>H0 : the quality of products is invariant regardless of time</li>\n",
    "    <li>H1 : the quality of products varies with time</li>\n",
    "</ol>"
   ]
  },
  {
   "cell_type": "code",
   "execution_count": 19,
   "id": "8d11d239-afa0-4fb9-b490-b3d680dab5e8",
   "metadata": {},
   "outputs": [
    {
     "name": "stdout",
     "output_type": "stream",
     "text": [
      "['day' 'evening' 'night']\n",
      "['day' 'evening' 'night' 'day' 'evening' 'night']\n"
     ]
    }
   ],
   "source": [
    "# create a crosstab\n",
    "print(np.tile(['day','evening','night'],1))\n",
    "print(np.tile(['day','evening','night'],2))"
   ]
  },
  {
   "cell_type": "code",
   "execution_count": 20,
   "id": "4ea08e82-4664-4ed4-8c62-cc3137073507",
   "metadata": {},
   "outputs": [
    {
     "name": "stdout",
     "output_type": "stream",
     "text": [
      "['fault' 'normal']\n",
      "['fault' 'fault' 'normal' 'normal']\n"
     ]
    }
   ],
   "source": [
    "print(np.repeat(['fault','normal'],1))\n",
    "print(np.repeat(['fault','normal'],2))"
   ]
  },
  {
   "cell_type": "code",
   "execution_count": 24,
   "id": "9640ca3f-1b22-486b-809d-d1e1707facb4",
   "metadata": {},
   "outputs": [
    {
     "name": "stdout",
     "output_type": "stream",
     "text": [
      "[['day' 'evening' 'night']\n",
      " ['day' 'evening' 'night']]\n"
     ]
    }
   ],
   "source": [
    "# no difference when it comes to an 1D array, but you can do this with np.tile\n",
    "print(np.tile(['day','evening','night'],(2,1)))"
   ]
  },
  {
   "cell_type": "code",
   "execution_count": 28,
   "id": "dacda8a1-d852-4933-84cc-60fcd38b56e4",
   "metadata": {},
   "outputs": [
    {
     "name": "stderr",
     "output_type": "stream",
     "text": [
      "C:\\Users\\shiny\\AppData\\Local\\Temp\\ipykernel_26580\\390725232.py:5: FutureWarning: The provided callable <built-in function sum> is currently using DataFrameGroupBy.sum. In a future version of pandas, the provided callable will be used directly. To keep current behavior pass the string \"sum\" instead.\n",
      "  dTable = pd.crosstab(index=data['status'], columns=data['time'], values=data['count'], aggfunc=sum, margins=True, margins_name='total')\n",
      "C:\\Users\\shiny\\AppData\\Local\\Temp\\ipykernel_26580\\390725232.py:5: FutureWarning: The provided callable <built-in function sum> is currently using DataFrameGroupBy.sum. In a future version of pandas, the provided callable will be used directly. To keep current behavior pass the string \"sum\" instead.\n",
      "  dTable = pd.crosstab(index=data['status'], columns=data['time'], values=data['count'], aggfunc=sum, margins=True, margins_name='total')\n",
      "C:\\Users\\shiny\\AppData\\Local\\Temp\\ipykernel_26580\\390725232.py:5: FutureWarning: The provided callable <built-in function sum> is currently using DataFrameGroupBy.sum. In a future version of pandas, the provided callable will be used directly. To keep current behavior pass the string \"sum\" instead.\n",
      "  dTable = pd.crosstab(index=data['status'], columns=data['time'], values=data['count'], aggfunc=sum, margins=True, margins_name='total')\n"
     ]
    },
    {
     "data": {
      "text/html": [
       "<div>\n",
       "<style scoped>\n",
       "    .dataframe tbody tr th:only-of-type {\n",
       "        vertical-align: middle;\n",
       "    }\n",
       "\n",
       "    .dataframe tbody tr th {\n",
       "        vertical-align: top;\n",
       "    }\n",
       "\n",
       "    .dataframe thead th {\n",
       "        text-align: right;\n",
       "    }\n",
       "</style>\n",
       "<table border=\"1\" class=\"dataframe\">\n",
       "  <thead>\n",
       "    <tr style=\"text-align: right;\">\n",
       "      <th>col_0</th>\n",
       "      <th>day</th>\n",
       "      <th>evening</th>\n",
       "      <th>night</th>\n",
       "      <th>total</th>\n",
       "    </tr>\n",
       "    <tr>\n",
       "      <th>row_0</th>\n",
       "      <th></th>\n",
       "      <th></th>\n",
       "      <th></th>\n",
       "      <th></th>\n",
       "    </tr>\n",
       "  </thead>\n",
       "  <tbody>\n",
       "    <tr>\n",
       "      <th>fault</th>\n",
       "      <td>905</td>\n",
       "      <td>890</td>\n",
       "      <td>870</td>\n",
       "      <td>2665</td>\n",
       "    </tr>\n",
       "    <tr>\n",
       "      <th>normal</th>\n",
       "      <td>45</td>\n",
       "      <td>55</td>\n",
       "      <td>70</td>\n",
       "      <td>170</td>\n",
       "    </tr>\n",
       "    <tr>\n",
       "      <th>total</th>\n",
       "      <td>950</td>\n",
       "      <td>945</td>\n",
       "      <td>940</td>\n",
       "      <td>2835</td>\n",
       "    </tr>\n",
       "  </tbody>\n",
       "</table>\n",
       "</div>"
      ],
      "text/plain": [
       "col_0   day  evening  night  total\n",
       "row_0                             \n",
       "fault   905      890    870   2665\n",
       "normal   45       55     70    170\n",
       "total   950      945    940   2835"
      ]
     },
     "execution_count": 28,
     "metadata": {},
     "output_type": "execute_result"
    }
   ],
   "source": [
    "time = np.tile(['day','evening','night'],2)\n",
    "count = np.array([905, 890, 870, 45, 55, 70])\n",
    "status = np.repeat(['fault','normal'],3)\n",
    "data = {'time':time, 'status':status, 'count':count}\n",
    "dTable = pd.crosstab(index=data['status'], columns=data['time'], values=data['count'], aggfunc=sum, margins=True, margins_name='total')\n",
    "dTable"
   ]
  },
  {
   "cell_type": "code",
   "execution_count": 33,
   "id": "971440d7-1fc1-414f-87be-71345eabc384",
   "metadata": {},
   "outputs": [
    {
     "name": "stdout",
     "output_type": "stream",
     "text": [
      "6.233920047684764 0.3975030174967241\n"
     ]
    }
   ],
   "source": [
    "chi, p, df, expected = chi2_contingency(dTable)\n",
    "print(chi, p)"
   ]
  }
 ],
 "metadata": {
  "kernelspec": {
   "display_name": "Python 3 (ipykernel)",
   "language": "python",
   "name": "python3"
  },
  "language_info": {
   "codemirror_mode": {
    "name": "ipython",
    "version": 3
   },
   "file_extension": ".py",
   "mimetype": "text/x-python",
   "name": "python",
   "nbconvert_exporter": "python",
   "pygments_lexer": "ipython3",
   "version": "3.12.7"
  }
 },
 "nbformat": 4,
 "nbformat_minor": 5
}
