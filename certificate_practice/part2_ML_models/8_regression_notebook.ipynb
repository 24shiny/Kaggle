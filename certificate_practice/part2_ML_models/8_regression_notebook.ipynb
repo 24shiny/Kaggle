{
 "cells": [
  {
   "cell_type": "code",
   "execution_count": 73,
   "id": "88f3c4e3-2713-4eae-ba9e-6d6f603b110e",
   "metadata": {},
   "outputs": [
    {
     "data": {
      "text/html": [
       "<div>\n",
       "<style scoped>\n",
       "    .dataframe tbody tr th:only-of-type {\n",
       "        vertical-align: middle;\n",
       "    }\n",
       "\n",
       "    .dataframe tbody tr th {\n",
       "        vertical-align: top;\n",
       "    }\n",
       "\n",
       "    .dataframe thead th {\n",
       "        text-align: right;\n",
       "    }\n",
       "</style>\n",
       "<table border=\"1\" class=\"dataframe\">\n",
       "  <thead>\n",
       "    <tr style=\"text-align: right;\">\n",
       "      <th></th>\n",
       "      <th>Brand</th>\n",
       "      <th>Model</th>\n",
       "      <th>Series</th>\n",
       "      <th>Processor</th>\n",
       "      <th>Processor_Gen</th>\n",
       "      <th>RAM</th>\n",
       "      <th>Hard_Disk_Capacity</th>\n",
       "      <th>OS</th>\n",
       "      <th>Rating</th>\n",
       "      <th>Price</th>\n",
       "    </tr>\n",
       "  </thead>\n",
       "  <tbody>\n",
       "    <tr>\n",
       "      <th>0</th>\n",
       "      <td>ASUS</td>\n",
       "      <td>VivoBook</td>\n",
       "      <td>15</td>\n",
       "      <td>i3</td>\n",
       "      <td>10th</td>\n",
       "      <td>8.0</td>\n",
       "      <td>512 GB SSD</td>\n",
       "      <td>Windows 11 Home</td>\n",
       "      <td>4.3</td>\n",
       "      <td>37940</td>\n",
       "    </tr>\n",
       "    <tr>\n",
       "      <th>1</th>\n",
       "      <td>DELL</td>\n",
       "      <td>Inspiron</td>\n",
       "      <td>NaN</td>\n",
       "      <td>i3</td>\n",
       "      <td>11th</td>\n",
       "      <td>8.0</td>\n",
       "      <td>1 TB HDD</td>\n",
       "      <td>Windows 11 Home</td>\n",
       "      <td>3.7</td>\n",
       "      <td>39040</td>\n",
       "    </tr>\n",
       "    <tr>\n",
       "      <th>2</th>\n",
       "      <td>ASUS</td>\n",
       "      <td>VivoBook</td>\n",
       "      <td>15</td>\n",
       "      <td>i7</td>\n",
       "      <td>10th</td>\n",
       "      <td>16.0</td>\n",
       "      <td>512 GB SSD</td>\n",
       "      <td>Windows 11 Home</td>\n",
       "      <td>4.1</td>\n",
       "      <td>57940</td>\n",
       "    </tr>\n",
       "    <tr>\n",
       "      <th>3</th>\n",
       "      <td>DELL</td>\n",
       "      <td>NaN</td>\n",
       "      <td>NaN</td>\n",
       "      <td>i3</td>\n",
       "      <td>10th</td>\n",
       "      <td>8.0</td>\n",
       "      <td>1 TB HDD</td>\n",
       "      <td>Windows 10</td>\n",
       "      <td>3.2</td>\n",
       "      <td>41340</td>\n",
       "    </tr>\n",
       "    <tr>\n",
       "      <th>4</th>\n",
       "      <td>Lenovo</td>\n",
       "      <td>IdeaPad</td>\n",
       "      <td>Slim</td>\n",
       "      <td>i3</td>\n",
       "      <td>11th</td>\n",
       "      <td>8.0</td>\n",
       "      <td>512 GB SSD</td>\n",
       "      <td>Windows 10 Home</td>\n",
       "      <td>4.4</td>\n",
       "      <td>45440</td>\n",
       "    </tr>\n",
       "  </tbody>\n",
       "</table>\n",
       "</div>"
      ],
      "text/plain": [
       "    Brand     Model Series Processor Processor_Gen   RAM Hard_Disk_Capacity  \\\n",
       "0    ASUS  VivoBook     15        i3          10th   8.0         512 GB SSD   \n",
       "1    DELL  Inspiron    NaN        i3          11th   8.0           1 TB HDD   \n",
       "2    ASUS  VivoBook     15        i7          10th  16.0         512 GB SSD   \n",
       "3    DELL       NaN    NaN        i3          10th   8.0           1 TB HDD   \n",
       "4  Lenovo   IdeaPad   Slim        i3          11th   8.0         512 GB SSD   \n",
       "\n",
       "                OS  Rating  Price  \n",
       "0  Windows 11 Home     4.3  37940  \n",
       "1  Windows 11 Home     3.7  39040  \n",
       "2  Windows 11 Home     4.1  57940  \n",
       "3       Windows 10     3.2  41340  \n",
       "4  Windows 10 Home     4.4  45440  "
      ]
     },
     "execution_count": 73,
     "metadata": {},
     "output_type": "execute_result"
    }
   ],
   "source": [
    "import pandas as pd\n",
    "train = pd.read_csv('data/laptop_train.csv')\n",
    "test = pd.read_csv('data/laptop_test.csv')\n",
    "train.head()"
   ]
  },
  {
   "cell_type": "code",
   "execution_count": 74,
   "id": "79a89d96-e9bf-452c-9de4-80126a3b028e",
   "metadata": {},
   "outputs": [
    {
     "data": {
      "text/html": [
       "<div>\n",
       "<style scoped>\n",
       "    .dataframe tbody tr th:only-of-type {\n",
       "        vertical-align: middle;\n",
       "    }\n",
       "\n",
       "    .dataframe tbody tr th {\n",
       "        vertical-align: top;\n",
       "    }\n",
       "\n",
       "    .dataframe thead th {\n",
       "        text-align: right;\n",
       "    }\n",
       "</style>\n",
       "<table border=\"1\" class=\"dataframe\">\n",
       "  <thead>\n",
       "    <tr style=\"text-align: right;\">\n",
       "      <th></th>\n",
       "      <th>Brand</th>\n",
       "      <th>Model</th>\n",
       "      <th>Series</th>\n",
       "      <th>Processor</th>\n",
       "      <th>Processor_Gen</th>\n",
       "      <th>RAM</th>\n",
       "      <th>Hard_Disk_Capacity</th>\n",
       "      <th>OS</th>\n",
       "      <th>Rating</th>\n",
       "    </tr>\n",
       "  </thead>\n",
       "  <tbody>\n",
       "    <tr>\n",
       "      <th>0</th>\n",
       "      <td>DELL</td>\n",
       "      <td>Vostro</td>\n",
       "      <td>NaN</td>\n",
       "      <td>i3</td>\n",
       "      <td>10th</td>\n",
       "      <td>8.0</td>\n",
       "      <td>256 GB SSD</td>\n",
       "      <td>Windows 10 Home</td>\n",
       "      <td>4.3</td>\n",
       "    </tr>\n",
       "    <tr>\n",
       "      <th>1</th>\n",
       "      <td>Lenovo</td>\n",
       "      <td>IdeaPad</td>\n",
       "      <td>3</td>\n",
       "      <td>i3</td>\n",
       "      <td>10th</td>\n",
       "      <td>8.0</td>\n",
       "      <td>256 GB SSD</td>\n",
       "      <td>Windows 11 Home</td>\n",
       "      <td>4.3</td>\n",
       "    </tr>\n",
       "    <tr>\n",
       "      <th>2</th>\n",
       "      <td>HP</td>\n",
       "      <td>NaN</td>\n",
       "      <td>NaN</td>\n",
       "      <td>i5</td>\n",
       "      <td>11th</td>\n",
       "      <td>8.0</td>\n",
       "      <td>512 GB SSD</td>\n",
       "      <td>Windows 11 Home</td>\n",
       "      <td>4.4</td>\n",
       "    </tr>\n",
       "    <tr>\n",
       "      <th>3</th>\n",
       "      <td>Lenovo</td>\n",
       "      <td>IdeaPad</td>\n",
       "      <td>3</td>\n",
       "      <td>i3</td>\n",
       "      <td>11th</td>\n",
       "      <td>8.0</td>\n",
       "      <td>256 GB SSD</td>\n",
       "      <td>Windows 11 Home</td>\n",
       "      <td>4.3</td>\n",
       "    </tr>\n",
       "    <tr>\n",
       "      <th>4</th>\n",
       "      <td>HP</td>\n",
       "      <td>250-G6</td>\n",
       "      <td>NaN</td>\n",
       "      <td>i5</td>\n",
       "      <td>7th</td>\n",
       "      <td>4.0</td>\n",
       "      <td>1 TB HDD</td>\n",
       "      <td>DOS</td>\n",
       "      <td>4.2</td>\n",
       "    </tr>\n",
       "  </tbody>\n",
       "</table>\n",
       "</div>"
      ],
      "text/plain": [
       "    Brand    Model Series Processor Processor_Gen  RAM Hard_Disk_Capacity  \\\n",
       "0    DELL   Vostro    NaN        i3          10th  8.0         256 GB SSD   \n",
       "1  Lenovo  IdeaPad      3        i3          10th  8.0         256 GB SSD   \n",
       "2      HP      NaN    NaN        i5          11th  8.0         512 GB SSD   \n",
       "3  Lenovo  IdeaPad      3        i3          11th  8.0         256 GB SSD   \n",
       "4      HP   250-G6    NaN        i5           7th  4.0           1 TB HDD   \n",
       "\n",
       "                OS  Rating  \n",
       "0  Windows 10 Home     4.3  \n",
       "1  Windows 11 Home     4.3  \n",
       "2  Windows 11 Home     4.4  \n",
       "3  Windows 11 Home     4.3  \n",
       "4              DOS     4.2  "
      ]
     },
     "execution_count": 74,
     "metadata": {},
     "output_type": "execute_result"
    }
   ],
   "source": [
    "test.head()"
   ]
  },
  {
   "cell_type": "code",
   "execution_count": 75,
   "id": "ad3e0eb6-a0d0-4a85-9bd5-8e66579ee425",
   "metadata": {},
   "outputs": [
    {
     "data": {
      "text/plain": [
       "Brand                  0\n",
       "Model                  9\n",
       "Series                36\n",
       "Processor              5\n",
       "Processor_Gen          5\n",
       "RAM                    6\n",
       "Hard_Disk_Capacity     6\n",
       "OS                     6\n",
       "Rating                 0\n",
       "Price                  0\n",
       "dtype: int64"
      ]
     },
     "execution_count": 75,
     "metadata": {},
     "output_type": "execute_result"
    }
   ],
   "source": [
    "train.isna().sum()"
   ]
  },
  {
   "cell_type": "code",
   "execution_count": 76,
   "id": "310cc994-3c6f-4dbb-a327-98e25b881c49",
   "metadata": {},
   "outputs": [
    {
     "data": {
      "text/plain": [
       "Brand                  0\n",
       "Model                  5\n",
       "Series                14\n",
       "Processor              2\n",
       "Processor_Gen          2\n",
       "RAM                    2\n",
       "Hard_Disk_Capacity     2\n",
       "OS                     2\n",
       "Rating                 0\n",
       "dtype: int64"
      ]
     },
     "execution_count": 76,
     "metadata": {},
     "output_type": "execute_result"
    }
   ],
   "source": [
    "test.isna().sum()"
   ]
  },
  {
   "cell_type": "code",
   "execution_count": 77,
   "id": "ba96c4d9-682e-4a7f-8417-13254e383f5c",
   "metadata": {},
   "outputs": [
    {
     "name": "stdout",
     "output_type": "stream",
     "text": [
      "(91, 10) (39, 9)\n"
     ]
    }
   ],
   "source": [
    "print(train.shape, test.shape)"
   ]
  },
  {
   "cell_type": "code",
   "execution_count": 78,
   "id": "18f1649a-1f8d-4274-9210-3cea87e5f5d7",
   "metadata": {},
   "outputs": [
    {
     "name": "stdout",
     "output_type": "stream",
     "text": [
      "<class 'pandas.core.frame.DataFrame'>\n",
      "RangeIndex: 91 entries, 0 to 90\n",
      "Data columns (total 10 columns):\n",
      " #   Column              Non-Null Count  Dtype  \n",
      "---  ------              --------------  -----  \n",
      " 0   Brand               91 non-null     object \n",
      " 1   Model               82 non-null     object \n",
      " 2   Series              55 non-null     object \n",
      " 3   Processor           86 non-null     object \n",
      " 4   Processor_Gen       86 non-null     object \n",
      " 5   RAM                 85 non-null     float64\n",
      " 6   Hard_Disk_Capacity  85 non-null     object \n",
      " 7   OS                  85 non-null     object \n",
      " 8   Rating              91 non-null     float64\n",
      " 9   Price               91 non-null     int64  \n",
      "dtypes: float64(2), int64(1), object(7)\n",
      "memory usage: 7.2+ KB\n"
     ]
    }
   ],
   "source": [
    "train.info()"
   ]
  },
  {
   "cell_type": "code",
   "execution_count": 79,
   "id": "69f41ddf-1192-49c2-a9b2-90c35dc641d3",
   "metadata": {},
   "outputs": [
    {
     "data": {
      "text/plain": [
       "array(['15', nan, 'Slim', 'Gaming', 'Ultra', 'Macbook', 'Ryzen', '3',\n",
       "       '3405', 'Pavilion', 'Athlon', 'Celeron', 'TUF', '5', 'Duo', '14',\n",
       "       'K15', '530s', 'Air', 'Thin', 'Dual'], dtype=object)"
      ]
     },
     "execution_count": 79,
     "metadata": {},
     "output_type": "execute_result"
    }
   ],
   "source": [
    "train['Series'].unique()"
   ]
  },
  {
   "cell_type": "code",
   "execution_count": 80,
   "id": "104b6019-106f-46ee-99ce-df3dfeb6d051",
   "metadata": {},
   "outputs": [
    {
     "data": {
      "text/plain": [
       "False"
      ]
     },
     "execution_count": 80,
     "metadata": {},
     "output_type": "execute_result"
    }
   ],
   "source": [
    "# do the model names match ?\n",
    "set(train['Model'])==set(test['Model'])"
   ]
  },
  {
   "cell_type": "code",
   "execution_count": 81,
   "id": "f3ac9ccb-2dc4-4195-bfaf-6b0b451015d0",
   "metadata": {},
   "outputs": [
    {
     "name": "stdout",
     "output_type": "stream",
     "text": [
      "Brand                 0\n",
      "Processor             0\n",
      "Processor_Gen         0\n",
      "RAM                   0\n",
      "Hard_Disk_Capacity    0\n",
      "OS                    0\n",
      "Rating                0\n",
      "dtype: int64\n",
      "Brand                 0\n",
      "Processor             0\n",
      "Processor_Gen         0\n",
      "RAM                   0\n",
      "Hard_Disk_Capacity    0\n",
      "OS                    0\n",
      "Rating                0\n",
      "dtype: int64\n"
     ]
    }
   ],
   "source": [
    "# separat the price column and drop redundant ones\n",
    "train_price = train['Price']\n",
    "train = train.drop(columns=['Price', 'Series','Model'])\n",
    "test = test.drop(columns=['Series','Model'])\n",
    "\n",
    "# missing values in RAM <- -1 and others <- 'X'\n",
    "train['RAM'] = train['RAM'].fillna(-1)\n",
    "test['RAM'] = test['RAM'].fillna(-1)\n",
    "\n",
    "train = train.fillna('X')\n",
    "test = test.fillna('X')\n",
    "\n",
    "print(train.isna().sum())\n",
    "print(test.isna().sum())"
   ]
  },
  {
   "cell_type": "code",
   "execution_count": 82,
   "id": "09e7f3ee-11b4-419a-83f1-7811c6911d20",
   "metadata": {},
   "outputs": [
    {
     "data": {
      "text/plain": [
       "56"
      ]
     },
     "execution_count": 82,
     "metadata": {},
     "output_type": "execute_result"
    }
   ],
   "source": [
    "# combine the two and apply the one-hot encoding\n",
    "combined = pd.concat([train, test])\n",
    "combined = pd.get_dummies(combined)\n",
    "len(combined.keys())"
   ]
  },
  {
   "cell_type": "code",
   "execution_count": 83,
   "id": "0c30c4f8-0dea-46b8-b0a0-b4c2ca0a4eee",
   "metadata": {},
   "outputs": [
    {
     "name": "stdout",
     "output_type": "stream",
     "text": [
      "(91, 56) (39, 56)\n",
      "56 56\n"
     ]
    }
   ],
   "source": [
    "# and split again\n",
    "train = combined[:len(train)]\n",
    "test = combined[-len(test):]\n",
    "\n",
    "#check \n",
    "print(train.shape, test.shape)\n",
    "print(len(train.keys()), len(test.keys()))"
   ]
  },
  {
   "cell_type": "code",
   "execution_count": 84,
   "id": "fd4d0501-403a-446e-bb60-0d53a0ecf441",
   "metadata": {},
   "outputs": [
    {
     "data": {
      "text/plain": [
       "True"
      ]
     },
     "execution_count": 84,
     "metadata": {},
     "output_type": "execute_result"
    }
   ],
   "source": [
    "set(train.keys())==set(test.keys())"
   ]
  },
  {
   "cell_type": "code",
   "execution_count": 85,
   "id": "65c81a41-4827-452d-a52f-b0eab1b8f392",
   "metadata": {},
   "outputs": [
    {
     "name": "stdout",
     "output_type": "stream",
     "text": [
      "0.9503578326389559 0.8794427011740493\n"
     ]
    }
   ],
   "source": [
    "from sklearn.model_selection import train_test_split\n",
    "train_input, val_input, train_target, val_target = train_test_split(train, train_price)\n",
    "\n",
    "from sklearn.ensemble import RandomForestRegressor\n",
    "rf = RandomForestRegressor()\n",
    "rf.fit(train_input, train_target)\n",
    "print(rf.score(train_input, train_target), rf.score(val_input, val_target))"
   ]
  },
  {
   "cell_type": "code",
   "execution_count": 86,
   "id": "e0c81db9-5a6c-40e7-80fc-2da54b667971",
   "metadata": {},
   "outputs": [
    {
     "data": {
      "text/html": [
       "<div>\n",
       "<style scoped>\n",
       "    .dataframe tbody tr th:only-of-type {\n",
       "        vertical-align: middle;\n",
       "    }\n",
       "\n",
       "    .dataframe tbody tr th {\n",
       "        vertical-align: top;\n",
       "    }\n",
       "\n",
       "    .dataframe thead th {\n",
       "        text-align: right;\n",
       "    }\n",
       "</style>\n",
       "<table border=\"1\" class=\"dataframe\">\n",
       "  <thead>\n",
       "    <tr style=\"text-align: right;\">\n",
       "      <th></th>\n",
       "      <th>pred</th>\n",
       "    </tr>\n",
       "  </thead>\n",
       "  <tbody>\n",
       "    <tr>\n",
       "      <th>0</th>\n",
       "      <td>39965.540000</td>\n",
       "    </tr>\n",
       "    <tr>\n",
       "      <th>1</th>\n",
       "      <td>40906.406667</td>\n",
       "    </tr>\n",
       "    <tr>\n",
       "      <th>2</th>\n",
       "      <td>61752.380000</td>\n",
       "    </tr>\n",
       "    <tr>\n",
       "      <th>3</th>\n",
       "      <td>40687.756667</td>\n",
       "    </tr>\n",
       "    <tr>\n",
       "      <th>4</th>\n",
       "      <td>49872.650000</td>\n",
       "    </tr>\n",
       "  </tbody>\n",
       "</table>\n",
       "</div>"
      ],
      "text/plain": [
       "           pred\n",
       "0  39965.540000\n",
       "1  40906.406667\n",
       "2  61752.380000\n",
       "3  40687.756667\n",
       "4  49872.650000"
      ]
     },
     "execution_count": 86,
     "metadata": {},
     "output_type": "execute_result"
    }
   ],
   "source": [
    "pred= rf.predict(test)\n",
    "submit = pd.DataFrame({'pred':pred})\n",
    "submit.head()"
   ]
  },
  {
   "cell_type": "code",
   "execution_count": 87,
   "id": "57b6c149-471b-432a-ba0d-b6044524fd6a",
   "metadata": {},
   "outputs": [],
   "source": [
    "submit.to_csv('8_regression_notebook.csv', index=False)"
   ]
  },
  {
   "cell_type": "code",
   "execution_count": null,
   "id": "93c6cff8-96bb-42bf-b35b-108cdce04060",
   "metadata": {},
   "outputs": [],
   "source": []
  }
 ],
 "metadata": {
  "kernelspec": {
   "display_name": "Python 3 (ipykernel)",
   "language": "python",
   "name": "python3"
  },
  "language_info": {
   "codemirror_mode": {
    "name": "ipython",
    "version": 3
   },
   "file_extension": ".py",
   "mimetype": "text/x-python",
   "name": "python",
   "nbconvert_exporter": "python",
   "pygments_lexer": "ipython3",
   "version": "3.12.7"
  }
 },
 "nbformat": 4,
 "nbformat_minor": 5
}
