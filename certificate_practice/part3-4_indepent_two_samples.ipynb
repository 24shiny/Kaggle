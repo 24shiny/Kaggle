{
 "cells": [
  {
   "cell_type": "markdown",
   "id": "55ec74e5-a0ec-489f-8c04-46e6bc47cba3",
   "metadata": {},
   "source": [
    "Independent sampes t-test\n",
    "<ol>\n",
    "    <li>proves whether their average values show a difference or not</li>\n",
    "    <li>basic hyposthesis 1 : the two in concern follow the normal distribution</li>\n",
    "    <li>when the number of samples is larger than 30, they can be considered to meet the normality</li>\n",
    "    <li>basic hypothesis 2 : samples are equivariant</li>\n",
    "</ol>"
   ]
  },
  {
   "cell_type": "code",
   "execution_count": 20,
   "id": "649eed2f-82ec-4d89-b45e-aa64ea82b0d1",
   "metadata": {},
   "outputs": [
    {
     "name": "stdout",
     "output_type": "stream",
     "text": [
      "[14 24 18 10 25 22 12 23 24 15 19 24 12 19 17 26 16 18 20 15]\n",
      "[14 27 12 20 21 15 25 12 19 19 19 23 23 12 27 10 27 16 11 20]\n"
     ]
    }
   ],
   "source": [
    "# check the effectiveness of an anti-depressant\n",
    "import numpy as np\n",
    "treatment = np.random.randint(10, 28, 20)\n",
    "control = np.random.randint(10, 28, 20)\n",
    "print(treatment)\n",
    "print(control)"
   ]
  },
  {
   "cell_type": "code",
   "execution_count": 21,
   "id": "e118ad74-60df-4354-bc22-472a35e7ffa2",
   "metadata": {},
   "outputs": [
    {
     "data": {
      "image/png": "[encoded data removed]",
      "text/plain": [
       "<Figure size 640x480 with 2 Axes>"
      ]
     },
     "metadata": {},
     "output_type": "display_data"
    }
   ],
   "source": [
    "import matplotlib.pyplot as plt\n",
    "fig, axs = plt.subplots(1,2)\n",
    "axs[0].hist(treatment, edgecolor='w', color='skyblue')\n",
    "axs[0].set_title('treatment')\n",
    "axs[1].hist(control, edgecolor='w', color='lightpink')\n",
    "axs[1].set_title('control')\n",
    "plt.show()"
   ]
  },
  {
   "cell_type": "code",
   "execution_count": 22,
   "id": "cceb5d87-99ce-46e0-a365-075405fa6987",
   "metadata": {},
   "outputs": [
    {
     "name": "stdout",
     "output_type": "stream",
     "text": [
      "ShapiroResult(statistic=np.float64(0.955146677975784), pvalue=np.float64(0.4519818376904469))\n",
      "ShapiroResult(statistic=np.float64(0.9311975175963765), pvalue=np.float64(0.16282902248143355))\n"
     ]
    }
   ],
   "source": [
    "# check their normality\n",
    "from scipy import stats\n",
    "print(stats.shapiro(treatment))\n",
    "print(stats.shapiro(control))"
   ]
  },
  {
   "cell_type": "markdown",
   "id": "2f9e73b7-5c35-4484-b3fc-23c92d9c57a7",
   "metadata": {},
   "source": [
    "As their pvalues are higher than 0.05, aceept the null hypothesis: they follow the normal distribution"
   ]
  },
  {
   "cell_type": "code",
   "execution_count": 23,
   "id": "52b0287e-be40-4acd-8926-94f49b0b98c6",
   "metadata": {},
   "outputs": [
    {
     "data": {
      "text/plain": [
       "LeveneResult(statistic=np.float64(0.5216896831844021), pvalue=np.float64(0.47454354217305195))"
      ]
     },
     "execution_count": 23,
     "metadata": {},
     "output_type": "execute_result"
    }
   ],
   "source": [
    "# check whether they are equivariant by Levene's test \n",
    "stats.levene(treatment, control)"
   ]
  },
  {
   "cell_type": "markdown",
   "id": "91e2be77-bc6b-4313-8c0e-14d465ac7d6d",
   "metadata": {},
   "source": [
    "As their pvalues are higher than 0.05, aceept the null hypothesis: they are equivariant.\n",
    "<ol>\n",
    "    <li>H0 : the treatment is ineffective (treatment=control)</li>\n",
    "    <li>H1 : the treatment is effective (treatment&#47;control&#59; the treatnebt lowers the depression index)</li>\n",
    "</ol>"
   ]
  },
  {
   "cell_type": "code",
   "execution_count": 24,
   "id": "70d468ba-25e2-430a-9603-902811e2cf41",
   "metadata": {},
   "outputs": [
    {
     "data": {
      "text/plain": [
       "TtestResult(statistic=np.float64(0.030232975522879634), pvalue=np.float64(0.5119802585558525), df=np.float64(38.0))"
      ]
     },
     "execution_count": 24,
     "metadata": {},
     "output_type": "execute_result"
    }
   ],
   "source": [
    "stats.ttest_ind(treatment, control, equal_var=True, alternative='less')"
   ]
  },
  {
   "cell_type": "markdown",
   "id": "9525c9b0-28f9-459b-9207-3c0b95f7b818",
   "metadata": {},
   "source": [
    "<ul>\n",
    "    <li>the 'statictic' = 0.03 means that the difference between their means is approximately 0.03 time as larger as std error.</li>\n",
    "    <li>the parameter 'equal_var' gets whether the samples meet the equivarance hypothesis</li>\n",
    "    <li>the 'df' refers to the degree of freedom</li>\n",
    "</ul>\n",
    "\n",
    "\n"
   ]
  },
  {
   "cell_type": "code",
   "execution_count": null,
   "id": "241e8816-e41c-480c-895e-a99c9e2c7371",
   "metadata": {},
   "outputs": [],
   "source": []
  }
 ],
 "metadata": {
  "kernelspec": {
   "display_name": "Python 3 (ipykernel)",
   "language": "python",
   "name": "python3"
  },
  "language_info": {
   "codemirror_mode": {
    "name": "ipython",
    "version": 3
   },
   "file_extension": ".py",
   "mimetype": "text/x-python",
   "name": "python",
   "nbconvert_exporter": "python",
   "pygments_lexer": "ipython3",
   "version": "3.12.7"
  }
 },
 "nbformat": 4,
 "nbformat_minor": 5
}
