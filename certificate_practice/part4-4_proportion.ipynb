{
 "cells": [
  {
   "cell_type": "markdown",
   "id": "4bf509d7-b297-4f0d-b002-840a4565a95c",
   "metadata": {},
   "source": [
    "Goodness of fit test :\n",
    "<br>In regard to cold data, test if its distribution is the same to the suggested one, which reads :\n",
    "<ul>\n",
    "    <li>(1) headache : 0.05</li>\n",
    "    <li>(2) sleepiness : 0.1</li>\n",
    "    <li>(3) stomachache : 0.05</li>\n",
    "    <li>(4) no sideeffects : 0.18</li>\n",
    "</ul>"
   ]
  },
  {
   "cell_type": "code",
   "execution_count": 1,
   "id": "9817972b-2143-44ae-9376-15cc27bad46f",
   "metadata": {},
   "outputs": [
    {
     "data": {
      "text/html": [
       "<div>\n",
       "<style scoped>\n",
       "    .dataframe tbody tr th:only-of-type {\n",
       "        vertical-align: middle;\n",
       "    }\n",
       "\n",
       "    .dataframe tbody tr th {\n",
       "        vertical-align: top;\n",
       "    }\n",
       "\n",
       "    .dataframe thead th {\n",
       "        text-align: right;\n",
       "    }\n",
       "</style>\n",
       "<table border=\"1\" class=\"dataframe\">\n",
       "  <thead>\n",
       "    <tr style=\"text-align: right;\">\n",
       "      <th></th>\n",
       "      <th>코드</th>\n",
       "    </tr>\n",
       "  </thead>\n",
       "  <tbody>\n",
       "    <tr>\n",
       "      <th>0</th>\n",
       "      <td>4</td>\n",
       "    </tr>\n",
       "    <tr>\n",
       "      <th>1</th>\n",
       "      <td>2</td>\n",
       "    </tr>\n",
       "    <tr>\n",
       "      <th>2</th>\n",
       "      <td>4</td>\n",
       "    </tr>\n",
       "    <tr>\n",
       "      <th>3</th>\n",
       "      <td>4</td>\n",
       "    </tr>\n",
       "    <tr>\n",
       "      <th>4</th>\n",
       "      <td>4</td>\n",
       "    </tr>\n",
       "  </tbody>\n",
       "</table>\n",
       "</div>"
      ],
      "text/plain": [
       "   코드\n",
       "0   4\n",
       "1   2\n",
       "2   4\n",
       "3   4\n",
       "4   4"
      ]
     },
     "execution_count": 1,
     "metadata": {},
     "output_type": "execute_result"
    }
   ],
   "source": [
    "import pandas as pd\n",
    "cold = pd.read_csv('data/cold.csv', encoding='euc-kr')\n",
    "cold.head()"
   ]
  },
  {
   "cell_type": "code",
   "execution_count": 5,
   "id": "eb2f7d94-5bee-4050-9c29-386c7313fd04",
   "metadata": {},
   "outputs": [
    {
     "data": {
      "text/html": [
       "<div>\n",
       "<style scoped>\n",
       "    .dataframe tbody tr th:only-of-type {\n",
       "        vertical-align: middle;\n",
       "    }\n",
       "\n",
       "    .dataframe tbody tr th {\n",
       "        vertical-align: top;\n",
       "    }\n",
       "\n",
       "    .dataframe thead th {\n",
       "        text-align: right;\n",
       "    }\n",
       "</style>\n",
       "<table border=\"1\" class=\"dataframe\">\n",
       "  <thead>\n",
       "    <tr style=\"text-align: right;\">\n",
       "      <th></th>\n",
       "      <th>코드</th>\n",
       "      <th>count</th>\n",
       "    </tr>\n",
       "  </thead>\n",
       "  <tbody>\n",
       "    <tr>\n",
       "      <th>0</th>\n",
       "      <td>4</td>\n",
       "      <td>199</td>\n",
       "    </tr>\n",
       "    <tr>\n",
       "      <th>1</th>\n",
       "      <td>2</td>\n",
       "      <td>24</td>\n",
       "    </tr>\n",
       "    <tr>\n",
       "      <th>2</th>\n",
       "      <td>1</td>\n",
       "      <td>15</td>\n",
       "    </tr>\n",
       "    <tr>\n",
       "      <th>3</th>\n",
       "      <td>3</td>\n",
       "      <td>15</td>\n",
       "    </tr>\n",
       "  </tbody>\n",
       "</table>\n",
       "</div>"
      ],
      "text/plain": [
       "   코드  count\n",
       "0   4    199\n",
       "1   2     24\n",
       "2   1     15\n",
       "3   3     15"
      ]
     },
     "execution_count": 5,
     "metadata": {},
     "output_type": "execute_result"
    }
   ],
   "source": [
    "# 1. calculate their ratios\n",
    "cold_count = cold['코드'].value_counts().reset_index()\n",
    "cold_count"
   ]
  },
  {
   "cell_type": "code",
   "execution_count": 19,
   "id": "2ed6916e-286a-4cf4-a3a4-30ac2883fed4",
   "metadata": {},
   "outputs": [
    {
     "data": {
      "text/html": [
       "<div>\n",
       "<style scoped>\n",
       "    .dataframe tbody tr th:only-of-type {\n",
       "        vertical-align: middle;\n",
       "    }\n",
       "\n",
       "    .dataframe tbody tr th {\n",
       "        vertical-align: top;\n",
       "    }\n",
       "\n",
       "    .dataframe thead th {\n",
       "        text-align: right;\n",
       "    }\n",
       "</style>\n",
       "<table border=\"1\" class=\"dataframe\">\n",
       "  <thead>\n",
       "    <tr style=\"text-align: right;\">\n",
       "      <th></th>\n",
       "      <th>코드</th>\n",
       "      <th>count</th>\n",
       "      <th>ratio</th>\n",
       "    </tr>\n",
       "  </thead>\n",
       "  <tbody>\n",
       "    <tr>\n",
       "      <th>0</th>\n",
       "      <td>4</td>\n",
       "      <td>199</td>\n",
       "      <td>0.787</td>\n",
       "    </tr>\n",
       "    <tr>\n",
       "      <th>1</th>\n",
       "      <td>2</td>\n",
       "      <td>24</td>\n",
       "      <td>0.095</td>\n",
       "    </tr>\n",
       "    <tr>\n",
       "      <th>2</th>\n",
       "      <td>1</td>\n",
       "      <td>15</td>\n",
       "      <td>0.059</td>\n",
       "    </tr>\n",
       "    <tr>\n",
       "      <th>3</th>\n",
       "      <td>3</td>\n",
       "      <td>15</td>\n",
       "      <td>0.059</td>\n",
       "    </tr>\n",
       "  </tbody>\n",
       "</table>\n",
       "</div>"
      ],
      "text/plain": [
       "   코드  count  ratio\n",
       "0   4    199  0.787\n",
       "1   2     24  0.095\n",
       "2   1     15  0.059\n",
       "3   3     15  0.059"
      ]
     },
     "execution_count": 19,
     "metadata": {},
     "output_type": "execute_result"
    }
   ],
   "source": [
    "# add a column of ratios\n",
    "cold_count['ratio'] = np.round(cold_count['count'] / cold_count['count'].sum(), 3)\n",
    "cold_count.head()"
   ]
  },
  {
   "cell_type": "code",
   "execution_count": 20,
   "id": "029e9458-8baa-4fc0-98b1-54864abdbc8b",
   "metadata": {},
   "outputs": [
    {
     "data": {
      "text/plain": [
       "array([0.787])"
      ]
     },
     "execution_count": 20,
     "metadata": {},
     "output_type": "execute_result"
    }
   ],
   "source": [
    "# print the ratio of the code 4\n",
    "cold_count[cold_count['코드']==4]['ratio'].values"
   ]
  },
  {
   "cell_type": "code",
   "execution_count": 26,
   "id": "79b2ff77-fcb6-4103-a460-7417773c9101",
   "metadata": {},
   "outputs": [
    {
     "data": {
      "text/plain": [
       "Power_divergenceResult(statistic=np.float64(806.2457180500661), pvalue=np.float64(1.9128381837098984e-174))"
      ]
     },
     "execution_count": 26,
     "metadata": {},
     "output_type": "execute_result"
    }
   ],
   "source": [
    "# do the chisquare test\n",
    "# note that you need to compare frequencies, not ratios\n",
    "import numpy as np\n",
    "observed = cold_count['count'].values\n",
    "expected = np.array([0.15,0.3,0.15,0.4])*253\n",
    "\n",
    "from scipy.stats import chisquare\n",
    "chisquare(observed, expected)"
   ]
  },
  {
   "cell_type": "markdown",
   "id": "3a66c07d-0a40-4b61-aaa1-971f00c8d9a9",
   "metadata": {},
   "source": [
    "Given that pvalue < 0.05, reject the null hypothesis and conclude that the distribution of cold data differs from the suggested one."
   ]
  },
  {
   "cell_type": "code",
   "execution_count": 27,
   "id": "2b527c1b-0d93-4693-85cf-14c1c6a4579f",
   "metadata": {},
   "outputs": [
    {
     "data": {
      "text/plain": [
       "np.float64(1.9128381837098984e-174)"
      ]
     },
     "execution_count": 27,
     "metadata": {},
     "output_type": "execute_result"
    }
   ],
   "source": [
    "st, p = chisquare(observed, expected)\n",
    "p"
   ]
  },
  {
   "cell_type": "code",
   "execution_count": null,
   "id": "3149f0eb-37d3-4e02-810b-df2e3eba5b53",
   "metadata": {},
   "outputs": [],
   "source": []
  }
 ],
 "metadata": {
  "kernelspec": {
   "display_name": "Python 3 (ipykernel)",
   "language": "python",
   "name": "python3"
  },
  "language_info": {
   "codemirror_mode": {
    "name": "ipython",
    "version": 3
   },
   "file_extension": ".py",
   "mimetype": "text/x-python",
   "name": "python",
   "nbconvert_exporter": "python",
   "pygments_lexer": "ipython3",
   "version": "3.12.7"
  }
 },
 "nbformat": 4,
 "nbformat_minor": 5
}
