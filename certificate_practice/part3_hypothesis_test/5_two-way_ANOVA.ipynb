{
 "cells": [
  {
   "cell_type": "markdown",
   "id": "e33c8c16-c3ef-42b6-a01a-dbfef76b624c",
   "metadata": {},
   "source": [
    "<strong>Two way ANOVA</strong>\n",
    "<br>Basis hypotheses : independence, normality and equivariance\n",
    "<br>As an example, consider testing if breeds and fertilizers affect the growth rate of trees\n",
    "<br>Hypothesis 1 : Effect of var 1 (breeds)\n",
    "<ul>\n",
    "    <li>H0 : the growth rate of trees score has nothing to do with breeds</li>\n",
    "    <li>H1 : the growth rate of trees score has something to do with breeds/li>\n",
    "</ul>\n",
    "Hypothesis 2 : Effect of var 2 (fertilizers)\n",
    "<ul>\n",
    "    <li>H0 : the growth rate of trees has nothing to do with fertilizers</li>\n",
    "    <li>H1 : the growth rate of trees has something to do with fertilizers</li>\n",
    "</ul>\n",
    "Hypothesis 3 : Interaction between var 1 and var 2\n",
    "<ul>\n",
    "    <li>H0 : breeds and fertilizers are irrelevant</li>\n",
    "    <li>H1 : breeds and fertilizers are relevant</li>\n",
    "</ul>"
   ]
  },
  {
   "cell_type": "code",
   "execution_count": 1,
   "id": "4882127f-9214-48f2-88db-396ef37609a4",
   "metadata": {},
   "outputs": [
    {
     "data": {
      "text/html": [
       "<div>\n",
       "<style scoped>\n",
       "    .dataframe tbody tr th:only-of-type {\n",
       "        vertical-align: middle;\n",
       "    }\n",
       "\n",
       "    .dataframe tbody tr th {\n",
       "        vertical-align: top;\n",
       "    }\n",
       "\n",
       "    .dataframe thead th {\n",
       "        text-align: right;\n",
       "    }\n",
       "</style>\n",
       "<table border=\"1\" class=\"dataframe\">\n",
       "  <thead>\n",
       "    <tr style=\"text-align: right;\">\n",
       "      <th></th>\n",
       "      <th>나무</th>\n",
       "      <th>비료</th>\n",
       "      <th>성장률</th>\n",
       "    </tr>\n",
       "  </thead>\n",
       "  <tbody>\n",
       "    <tr>\n",
       "      <th>0</th>\n",
       "      <td>A</td>\n",
       "      <td>1</td>\n",
       "      <td>54.967142</td>\n",
       "    </tr>\n",
       "    <tr>\n",
       "      <th>1</th>\n",
       "      <td>A</td>\n",
       "      <td>1</td>\n",
       "      <td>48.617357</td>\n",
       "    </tr>\n",
       "    <tr>\n",
       "      <th>2</th>\n",
       "      <td>A</td>\n",
       "      <td>1</td>\n",
       "      <td>56.476885</td>\n",
       "    </tr>\n",
       "    <tr>\n",
       "      <th>3</th>\n",
       "      <td>A</td>\n",
       "      <td>1</td>\n",
       "      <td>65.230299</td>\n",
       "    </tr>\n",
       "    <tr>\n",
       "      <th>4</th>\n",
       "      <td>A</td>\n",
       "      <td>1</td>\n",
       "      <td>47.658466</td>\n",
       "    </tr>\n",
       "  </tbody>\n",
       "</table>\n",
       "</div>"
      ],
      "text/plain": [
       "  나무  비료        성장률\n",
       "0  A   1  54.967142\n",
       "1  A   1  48.617357\n",
       "2  A   1  56.476885\n",
       "3  A   1  65.230299\n",
       "4  A   1  47.658466"
      ]
     },
     "execution_count": 1,
     "metadata": {},
     "output_type": "execute_result"
    }
   ],
   "source": [
    "import pandas as pd\n",
    "plant = pd.read_csv('data/tree.csv')\n",
    "plant.head()"
   ]
  },
  {
   "cell_type": "code",
   "execution_count": 2,
   "id": "baf43e30-9349-4490-ac37-cc9e688eac3e",
   "metadata": {},
   "outputs": [
    {
     "name": "stdout",
     "output_type": "stream",
     "text": [
      "['A' 'B' 'C' 'D']\n",
      "[1 2 3]\n"
     ]
    }
   ],
   "source": [
    "print(plant['나무'].unique())\n",
    "print(plant['비료'].unique())"
   ]
  },
  {
   "cell_type": "code",
   "execution_count": 4,
   "id": "79dc2e48-8282-4d28-b80a-931ce687cb3c",
   "metadata": {},
   "outputs": [
    {
     "data": {
      "image/png": "[encoded data removed]",
      "text/plain": [
       "<Figure size 640x480 with 1 Axes>"
      ]
     },
     "metadata": {},
     "output_type": "display_data"
    }
   ],
   "source": [
    "import matplotlib.pyplot as plt\n",
    "plt.hist(plant['성장률'], edgecolor='white')\n",
    "plt.xlabel('growth rate')\n",
    "plt.ylabel('frequency')\n",
    "plt.show()"
   ]
  },
  {
   "cell_type": "code",
   "execution_count": 5,
   "id": "fdddc23f-e71c-4163-b063-64dd444f7d7c",
   "metadata": {},
   "outputs": [
    {
     "data": {
      "text/html": [
       "<div>\n",
       "<style scoped>\n",
       "    .dataframe tbody tr th:only-of-type {\n",
       "        vertical-align: middle;\n",
       "    }\n",
       "\n",
       "    .dataframe tbody tr th {\n",
       "        vertical-align: top;\n",
       "    }\n",
       "\n",
       "    .dataframe thead th {\n",
       "        text-align: right;\n",
       "    }\n",
       "</style>\n",
       "<table border=\"1\" class=\"dataframe\">\n",
       "  <thead>\n",
       "    <tr style=\"text-align: right;\">\n",
       "      <th></th>\n",
       "      <th>df</th>\n",
       "      <th>sum_sq</th>\n",
       "      <th>mean_sq</th>\n",
       "      <th>F</th>\n",
       "      <th>PR(&gt;F)</th>\n",
       "    </tr>\n",
       "  </thead>\n",
       "  <tbody>\n",
       "    <tr>\n",
       "      <th>C(나무)</th>\n",
       "      <td>3.0</td>\n",
       "      <td>4783.353938</td>\n",
       "      <td>1594.451313</td>\n",
       "      <td>18.855528</td>\n",
       "      <td>6.600012e-10</td>\n",
       "    </tr>\n",
       "    <tr>\n",
       "      <th>C(비료)</th>\n",
       "      <td>2.0</td>\n",
       "      <td>1127.924259</td>\n",
       "      <td>563.962129</td>\n",
       "      <td>6.669256</td>\n",
       "      <td>1.857612e-03</td>\n",
       "    </tr>\n",
       "    <tr>\n",
       "      <th>C(나무):C(비료)</th>\n",
       "      <td>6.0</td>\n",
       "      <td>717.520672</td>\n",
       "      <td>119.586779</td>\n",
       "      <td>1.414199</td>\n",
       "      <td>2.157357e-01</td>\n",
       "    </tr>\n",
       "    <tr>\n",
       "      <th>Residual</th>\n",
       "      <td>108.0</td>\n",
       "      <td>9132.639448</td>\n",
       "      <td>84.561476</td>\n",
       "      <td>NaN</td>\n",
       "      <td>NaN</td>\n",
       "    </tr>\n",
       "  </tbody>\n",
       "</table>\n",
       "</div>"
      ],
      "text/plain": [
       "                df       sum_sq      mean_sq          F        PR(>F)\n",
       "C(나무)          3.0  4783.353938  1594.451313  18.855528  6.600012e-10\n",
       "C(비료)          2.0  1127.924259   563.962129   6.669256  1.857612e-03\n",
       "C(나무):C(비료)    6.0   717.520672   119.586779   1.414199  2.157357e-01\n",
       "Residual     108.0  9132.639448    84.561476        NaN           NaN"
      ]
     },
     "execution_count": 5,
     "metadata": {},
     "output_type": "execute_result"
    }
   ],
   "source": [
    "from statsmodels.stats.anova import anova_lm\n",
    "from statsmodels.formula.api import ols\n",
    "model = ols('성장률 ~ C(나무)*C(비료)', plant).fit()\n",
    "anova_lm(model)"
   ]
  },
  {
   "cell_type": "markdown",
   "id": "b465272a-8872-4a58-a1c1-62d5b5af8d60",
   "metadata": {},
   "source": [
    "About all hypotheses, reject H0 and conclude that both factors play roles in test scores and they are related."
   ]
  }
 ],
 "metadata": {
  "kernelspec": {
   "display_name": "Python 3 (ipykernel)",
   "language": "python",
   "name": "python3"
  },
  "language_info": {
   "codemirror_mode": {
    "name": "ipython",
    "version": 3
   },
   "file_extension": ".py",
   "mimetype": "text/x-python",
   "name": "python",
   "nbconvert_exporter": "python",
   "pygments_lexer": "ipython3",
   "version": "3.12.7"
  }
 },
 "nbformat": 4,
 "nbformat_minor": 5
}
