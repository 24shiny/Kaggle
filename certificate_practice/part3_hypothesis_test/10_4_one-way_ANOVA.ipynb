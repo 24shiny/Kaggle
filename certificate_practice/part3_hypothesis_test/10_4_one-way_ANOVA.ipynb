{
 "cells": [
  {
   "cell_type": "code",
   "execution_count": 1,
   "id": "2fd3a16f-5c53-4425-b257-703d9e76e27d",
   "metadata": {},
   "outputs": [
    {
     "data": {
      "text/html": [
       "<div>\n",
       "<style scoped>\n",
       "    .dataframe tbody tr th:only-of-type {\n",
       "        vertical-align: middle;\n",
       "    }\n",
       "\n",
       "    .dataframe tbody tr th {\n",
       "        vertical-align: top;\n",
       "    }\n",
       "\n",
       "    .dataframe thead th {\n",
       "        text-align: right;\n",
       "    }\n",
       "</style>\n",
       "<table border=\"1\" class=\"dataframe\">\n",
       "  <thead>\n",
       "    <tr style=\"text-align: right;\">\n",
       "      <th></th>\n",
       "      <th>groups</th>\n",
       "      <th>scores</th>\n",
       "    </tr>\n",
       "  </thead>\n",
       "  <tbody>\n",
       "    <tr>\n",
       "      <th>0</th>\n",
       "      <td>group_A</td>\n",
       "      <td>85</td>\n",
       "    </tr>\n",
       "    <tr>\n",
       "      <th>1</th>\n",
       "      <td>group_A</td>\n",
       "      <td>88</td>\n",
       "    </tr>\n",
       "    <tr>\n",
       "      <th>2</th>\n",
       "      <td>group_A</td>\n",
       "      <td>90</td>\n",
       "    </tr>\n",
       "    <tr>\n",
       "      <th>3</th>\n",
       "      <td>group_A</td>\n",
       "      <td>82</td>\n",
       "    </tr>\n",
       "    <tr>\n",
       "      <th>4</th>\n",
       "      <td>group_A</td>\n",
       "      <td>87</td>\n",
       "    </tr>\n",
       "  </tbody>\n",
       "</table>\n",
       "</div>"
      ],
      "text/plain": [
       "    groups  scores\n",
       "0  group_A      85\n",
       "1  group_A      88\n",
       "2  group_A      90\n",
       "3  group_A      82\n",
       "4  group_A      87"
      ]
     },
     "execution_count": 1,
     "metadata": {},
     "output_type": "execute_result"
    }
   ],
   "source": [
    "# 3. one-way ANOVA\n",
    "# test if four different teaching methods have the same effect\n",
    "\n",
    "import pandas as pd\n",
    "df = pd.read_csv('data/math.csv')\n",
    "df.head()"
   ]
  },
  {
   "cell_type": "code",
   "execution_count": 2,
   "id": "442505fd-cb2a-42bb-be48-cd8bcd6fa459",
   "metadata": {},
   "outputs": [
    {
     "data": {
      "text/plain": [
       "array(['group_A', 'group_B', 'group_C', 'group_D'], dtype=object)"
      ]
     },
     "execution_count": 2,
     "metadata": {},
     "output_type": "execute_result"
    }
   ],
   "source": [
    "df['groups'].unique()"
   ]
  },
  {
   "cell_type": "code",
   "execution_count": 5,
   "id": "5f7f6d0c-57e3-4b79-a94b-3ff47f60ddee",
   "metadata": {},
   "outputs": [],
   "source": [
    "# extract data\n",
    "a = df[df['groups']=='group_A']['scores']\n",
    "b = df[df['groups']=='group_B']['scores']\n",
    "c = df[df['groups']=='group_C']['scores']\n",
    "d = df[df['groups']=='group_D']['scores']"
   ]
  },
  {
   "cell_type": "code",
   "execution_count": 6,
   "id": "4d306145-a763-43f4-b28c-6f93fe3ea993",
   "metadata": {},
   "outputs": [
    {
     "name": "stdout",
     "output_type": "stream",
     "text": [
      "ShapiroResult(statistic=np.float64(0.9715896670696531), pvalue=np.float64(0.9051800443853569))\n",
      "ShapiroResult(statistic=np.float64(0.9499422438060351), pvalue=np.float64(0.6678172590861611))\n",
      "ShapiroResult(statistic=np.float64(0.9299424104842702), pvalue=np.float64(0.44732595113862045))\n",
      "ShapiroResult(statistic=np.float64(0.9065684572704982), pvalue=np.float64(0.25824165549017347))\n"
     ]
    }
   ],
   "source": [
    "# normality test\n",
    "from scipy import stats\n",
    "print(stats.shapiro(a))\n",
    "print(stats.shapiro(b))\n",
    "print(stats.shapiro(c))\n",
    "print(stats.shapiro(d))"
   ]
  },
  {
   "cell_type": "markdown",
   "id": "e4691439-3057-4cfa-9910-9330c0b7a0d2",
   "metadata": {},
   "source": [
    "All are normal!"
   ]
  },
  {
   "cell_type": "code",
   "execution_count": 7,
   "id": "013dc1fb-8de9-4b3e-98a1-ad2d224f73ac",
   "metadata": {},
   "outputs": [
    {
     "name": "stdout",
     "output_type": "stream",
     "text": [
      "LeveneResult(statistic=np.float64(1.8935064935064936), pvalue=np.float64(0.18568733573055562))\n",
      "LeveneResult(statistic=np.float64(0.49668874172185434), pvalue=np.float64(0.48997808568713885))\n",
      "LeveneResult(statistic=np.float64(3.891891891891893), pvalue=np.float64(0.06407956320479491))\n",
      "LeveneResult(statistic=np.float64(0.654545454545455), pvalue=np.float64(0.4290571878025776))\n",
      "LeveneResult(statistic=np.float64(0.8099999999999998), pvalue=np.float64(0.380003701954316))\n",
      "LeveneResult(statistic=np.float64(2.6250000000000004), pvalue=np.float64(0.1225790557969707))\n"
     ]
    }
   ],
   "source": [
    "# test equivariance\n",
    "print(stats.levene(a, b))\n",
    "print(stats.levene(a, c))\n",
    "print(stats.levene(a, d))\n",
    "print(stats.levene(b, c))\n",
    "print(stats.levene(b, d))\n",
    "print(stats.levene(c, d))"
   ]
  },
  {
   "cell_type": "markdown",
   "id": "54805a8a-e0cd-4a9a-8bea-1cb3992b236a",
   "metadata": {},
   "source": [
    "All the pairs are equivariant!"
   ]
  },
  {
   "cell_type": "code",
   "execution_count": 8,
   "id": "a697ed25-3028-401a-93d3-cd6b25e66883",
   "metadata": {},
   "outputs": [
    {
     "data": {
      "text/plain": [
       "F_onewayResult(statistic=np.float64(34.17427385892114), pvalue=np.float64(1.2406415428510513e-10))"
      ]
     },
     "execution_count": 8,
     "metadata": {},
     "output_type": "execute_result"
    }
   ],
   "source": [
    "# ANOVA\n",
    "stats.f_oneway(a,b,c,d)"
   ]
  },
  {
   "cell_type": "markdown",
   "id": "fdec3a11-b0f9-4674-b200-adb4c32e6e44",
   "metadata": {},
   "source": [
    "Reject; there is at least one group which does not show the same effect with others"
   ]
  },
  {
   "cell_type": "code",
   "execution_count": 10,
   "id": "14861cf5-fcc3-4dc1-9ff9-987faef4f6f5",
   "metadata": {},
   "outputs": [
    {
     "data": {
      "text/html": [
       "<table class=\"simpletable\">\n",
       "<caption>OLS Regression Results</caption>\n",
       "<tr>\n",
       "  <th>Dep. Variable:</th>         <td>scores</td>      <th>  R-squared:         </th> <td>   0.740</td>\n",
       "</tr>\n",
       "<tr>\n",
       "  <th>Model:</th>                   <td>OLS</td>       <th>  Adj. R-squared:    </th> <td>   0.718</td>\n",
       "</tr>\n",
       "<tr>\n",
       "  <th>Method:</th>             <td>Least Squares</td>  <th>  F-statistic:       </th> <td>   34.17</td>\n",
       "</tr>\n",
       "<tr>\n",
       "  <th>Date:</th>             <td>Thu, 28 Nov 2024</td> <th>  Prob (F-statistic):</th> <td>1.24e-10</td>\n",
       "</tr>\n",
       "<tr>\n",
       "  <th>Time:</th>                 <td>17:34:50</td>     <th>  Log-Likelihood:    </th> <td> -82.459</td>\n",
       "</tr>\n",
       "<tr>\n",
       "  <th>No. Observations:</th>      <td>    40</td>      <th>  AIC:               </th> <td>   172.9</td>\n",
       "</tr>\n",
       "<tr>\n",
       "  <th>Df Residuals:</th>          <td>    36</td>      <th>  BIC:               </th> <td>   179.7</td>\n",
       "</tr>\n",
       "<tr>\n",
       "  <th>Df Model:</th>              <td>     3</td>      <th>                     </th>     <td> </td>   \n",
       "</tr>\n",
       "<tr>\n",
       "  <th>Covariance Type:</th>      <td>nonrobust</td>    <th>                     </th>     <td> </td>   \n",
       "</tr>\n",
       "</table>\n",
       "<table class=\"simpletable\">\n",
       "<tr>\n",
       "            <td></td>              <th>coef</th>     <th>std err</th>      <th>t</th>      <th>P>|t|</th>  <th>[0.025</th>    <th>0.975]</th>  \n",
       "</tr>\n",
       "<tr>\n",
       "  <th>Intercept</th>            <td>   87.7000</td> <td>    0.634</td> <td>  138.378</td> <td> 0.000</td> <td>   86.415</td> <td>   88.985</td>\n",
       "</tr>\n",
       "<tr>\n",
       "  <th>C(groups)[T.group_B]</th> <td>   -8.5000</td> <td>    0.896</td> <td>   -9.484</td> <td> 0.000</td> <td>  -10.318</td> <td>   -6.682</td>\n",
       "</tr>\n",
       "<tr>\n",
       "  <th>C(groups)[T.group_C]</th> <td>   -5.3000</td> <td>    0.896</td> <td>   -5.913</td> <td> 0.000</td> <td>   -7.118</td> <td>   -3.482</td>\n",
       "</tr>\n",
       "<tr>\n",
       "  <th>C(groups)[T.group_D]</th> <td>   -2.2000</td> <td>    0.896</td> <td>   -2.455</td> <td> 0.019</td> <td>   -4.018</td> <td>   -0.382</td>\n",
       "</tr>\n",
       "</table>\n",
       "<table class=\"simpletable\">\n",
       "<tr>\n",
       "  <th>Omnibus:</th>       <td> 2.095</td> <th>  Durbin-Watson:     </th> <td>   2.330</td>\n",
       "</tr>\n",
       "<tr>\n",
       "  <th>Prob(Omnibus):</th> <td> 0.351</td> <th>  Jarque-Bera (JB):  </th> <td>   1.098</td>\n",
       "</tr>\n",
       "<tr>\n",
       "  <th>Skew:</th>          <td>-0.203</td> <th>  Prob(JB):          </th> <td>   0.578</td>\n",
       "</tr>\n",
       "<tr>\n",
       "  <th>Kurtosis:</th>      <td> 3.703</td> <th>  Cond. No.          </th> <td>    4.79</td>\n",
       "</tr>\n",
       "</table><br/><br/>Notes:<br/>[1] Standard Errors assume that the covariance matrix of the errors is correctly specified."
      ],
      "text/latex": [
       "\\begin{center}\n",
       "\\begin{tabular}{lclc}\n",
       "\\toprule\n",
       "\\textbf{Dep. Variable:}        &      scores      & \\textbf{  R-squared:         } &     0.740   \\\\\n",
       "\\textbf{Model:}                &       OLS        & \\textbf{  Adj. R-squared:    } &     0.718   \\\\\n",
       "\\textbf{Method:}               &  Least Squares   & \\textbf{  F-statistic:       } &     34.17   \\\\\n",
       "\\textbf{Date:}                 & Thu, 28 Nov 2024 & \\textbf{  Prob (F-statistic):} &  1.24e-10   \\\\\n",
       "\\textbf{Time:}                 &     17:34:50     & \\textbf{  Log-Likelihood:    } &   -82.459   \\\\\n",
       "\\textbf{No. Observations:}     &          40      & \\textbf{  AIC:               } &     172.9   \\\\\n",
       "\\textbf{Df Residuals:}         &          36      & \\textbf{  BIC:               } &     179.7   \\\\\n",
       "\\textbf{Df Model:}             &           3      & \\textbf{                     } &             \\\\\n",
       "\\textbf{Covariance Type:}      &    nonrobust     & \\textbf{                     } &             \\\\\n",
       "\\bottomrule\n",
       "\\end{tabular}\n",
       "\\begin{tabular}{lcccccc}\n",
       "                               & \\textbf{coef} & \\textbf{std err} & \\textbf{t} & \\textbf{P$> |$t$|$} & \\textbf{[0.025} & \\textbf{0.975]}  \\\\\n",
       "\\midrule\n",
       "\\textbf{Intercept}             &      87.7000  &        0.634     &   138.378  &         0.000        &       86.415    &       88.985     \\\\\n",
       "\\textbf{C(groups)[T.group\\_B]} &      -8.5000  &        0.896     &    -9.484  &         0.000        &      -10.318    &       -6.682     \\\\\n",
       "\\textbf{C(groups)[T.group\\_C]} &      -5.3000  &        0.896     &    -5.913  &         0.000        &       -7.118    &       -3.482     \\\\\n",
       "\\textbf{C(groups)[T.group\\_D]} &      -2.2000  &        0.896     &    -2.455  &         0.019        &       -4.018    &       -0.382     \\\\\n",
       "\\bottomrule\n",
       "\\end{tabular}\n",
       "\\begin{tabular}{lclc}\n",
       "\\textbf{Omnibus:}       &  2.095 & \\textbf{  Durbin-Watson:     } &    2.330  \\\\\n",
       "\\textbf{Prob(Omnibus):} &  0.351 & \\textbf{  Jarque-Bera (JB):  } &    1.098  \\\\\n",
       "\\textbf{Skew:}          & -0.203 & \\textbf{  Prob(JB):          } &    0.578  \\\\\n",
       "\\textbf{Kurtosis:}      &  3.703 & \\textbf{  Cond. No.          } &     4.79  \\\\\n",
       "\\bottomrule\n",
       "\\end{tabular}\n",
       "%\\caption{OLS Regression Results}\n",
       "\\end{center}\n",
       "\n",
       "Notes: \\newline\n",
       " [1] Standard Errors assume that the covariance matrix of the errors is correctly specified."
      ],
      "text/plain": [
       "<class 'statsmodels.iolib.summary.Summary'>\n",
       "\"\"\"\n",
       "                            OLS Regression Results                            \n",
       "==============================================================================\n",
       "Dep. Variable:                 scores   R-squared:                       0.740\n",
       "Model:                            OLS   Adj. R-squared:                  0.718\n",
       "Method:                 Least Squares   F-statistic:                     34.17\n",
       "Date:                Thu, 28 Nov 2024   Prob (F-statistic):           1.24e-10\n",
       "Time:                        17:34:50   Log-Likelihood:                -82.459\n",
       "No. Observations:                  40   AIC:                             172.9\n",
       "Df Residuals:                      36   BIC:                             179.7\n",
       "Df Model:                           3                                         \n",
       "Covariance Type:            nonrobust                                         \n",
       "========================================================================================\n",
       "                           coef    std err          t      P>|t|      [0.025      0.975]\n",
       "----------------------------------------------------------------------------------------\n",
       "Intercept               87.7000      0.634    138.378      0.000      86.415      88.985\n",
       "C(groups)[T.group_B]    -8.5000      0.896     -9.484      0.000     -10.318      -6.682\n",
       "C(groups)[T.group_C]    -5.3000      0.896     -5.913      0.000      -7.118      -3.482\n",
       "C(groups)[T.group_D]    -2.2000      0.896     -2.455      0.019      -4.018      -0.382\n",
       "==============================================================================\n",
       "Omnibus:                        2.095   Durbin-Watson:                   2.330\n",
       "Prob(Omnibus):                  0.351   Jarque-Bera (JB):                1.098\n",
       "Skew:                          -0.203   Prob(JB):                        0.578\n",
       "Kurtosis:                       3.703   Cond. No.                         4.79\n",
       "==============================================================================\n",
       "\n",
       "Notes:\n",
       "[1] Standard Errors assume that the covariance matrix of the errors is correctly specified.\n",
       "\"\"\""
      ]
     },
     "execution_count": 10,
     "metadata": {},
     "output_type": "execute_result"
    }
   ],
   "source": [
    "# alternatively, with the use of ols,\n",
    "from statsmodels.stats.anova import anova_lm\n",
    "from statsmodels.formula.api import ols\n",
    "model = ols('scores ~ C(groups)', df).fit()\n",
    "model.summary()"
   ]
  },
  {
   "cell_type": "code",
   "execution_count": null,
   "id": "d0aa3714-97b5-445b-934e-5b1155e8b1d3",
   "metadata": {},
   "outputs": [],
   "source": []
  }
 ],
 "metadata": {
  "kernelspec": {
   "display_name": "Python 3 (ipykernel)",
   "language": "python",
   "name": "python3"
  },
  "language_info": {
   "codemirror_mode": {
    "name": "ipython",
    "version": 3
   },
   "file_extension": ".py",
   "mimetype": "text/x-python",
   "name": "python",
   "nbconvert_exporter": "python",
   "pygments_lexer": "ipython3",
   "version": "3.12.7"
  }
 },
 "nbformat": 4,
 "nbformat_minor": 5
}
