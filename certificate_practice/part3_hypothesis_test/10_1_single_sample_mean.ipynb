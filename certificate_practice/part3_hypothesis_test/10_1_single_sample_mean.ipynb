{
 "cells": [
  {
   "cell_type": "code",
   "execution_count": 3,
   "id": "ed2f2af0-a78e-4513-b256-02bd96577f01",
   "metadata": {},
   "outputs": [],
   "source": [
    "# 1. single sample mean\n",
    "\n",
    "# A coffee company argues that their newly released coffe contains caffeine less than 95mg on average. Test to see if this is true\n",
    "import pandas as pd\n",
    "df = pd.DataFrame({\n",
    "    'caffeine': [\n",
    "        94.2, 93.7, 95.5, 93.9, 94.0, 95.2, 94.7, 93.5, 92.8, 94.4,\n",
    "        93.8, 94.6, 93.3, 95.1, 94.3, 94.9, 93.9, 94.8, 95.0, 94.2,\n",
    "        93.7, 94.4, 95.1, 94.0, 93.6\n",
    "    ]\n",
    "})"
   ]
  },
  {
   "cell_type": "code",
   "execution_count": 5,
   "id": "407429a7-004b-4a2d-ad65-02ffa56e7b23",
   "metadata": {},
   "outputs": [
    {
     "data": {
      "text/plain": [
       "np.float64(94.264)"
      ]
     },
     "execution_count": 5,
     "metadata": {},
     "output_type": "execute_result"
    }
   ],
   "source": [
    "# Q1. average of the sample data\n",
    "df['caffeine'].mean()"
   ]
  },
  {
   "cell_type": "code",
   "execution_count": 6,
   "id": "e26cf086-904c-4524-bae3-a6a337a35e2d",
   "metadata": {},
   "outputs": [
    {
     "data": {
      "text/plain": [
       "ShapiroResult(statistic=np.float64(0.9826578166170536), pvalue=np.float64(0.9322031137746971))"
      ]
     },
     "execution_count": 6,
     "metadata": {},
     "output_type": "execute_result"
    }
   ],
   "source": [
    "#Q2. get the p-value of Shapiro-Wilk test\n",
    "from scipy import stats\n",
    "stats.shapiro(df['caffeine']) # normal "
   ]
  },
  {
   "cell_type": "code",
   "execution_count": 7,
   "id": "f4da7cea-0daa-4193-a2c0-dd384c5125fa",
   "metadata": {},
   "outputs": [
    {
     "data": {
      "text/plain": [
       "TtestResult(statistic=np.float64(-5.501737036221897), pvalue=np.float64(5.8686553916715e-06), df=np.int64(24))"
      ]
     },
     "execution_count": 7,
     "metadata": {},
     "output_type": "execute_result"
    }
   ],
   "source": [
    "# Q3. do the t-test\n",
    "stats.ttest_1samp(df['caffeine'], 95, alternative='less')"
   ]
  },
  {
   "cell_type": "code",
   "execution_count": 8,
   "id": "cac9f6c7-3258-4b24-bb22-2e879fba87e8",
   "metadata": {},
   "outputs": [
    {
     "data": {
      "text/plain": [
       "np.float64(5.8686553916715e-06)"
      ]
     },
     "execution_count": 8,
     "metadata": {},
     "output_type": "execute_result"
    }
   ],
   "source": [
    "# Q4. p-value of the t-test\n",
    "stats.ttest_1samp(df['caffeine'], 95, alternative='less').pvalue"
   ]
  },
  {
   "cell_type": "raw",
   "id": "a04f087f-592a-4715-8f51-f1b0f737ed14",
   "metadata": {},
   "source": [
    "# Q5. will you accept or reject the H0?\n",
    "-> reject"
   ]
  }
 ],
 "metadata": {
  "kernelspec": {
   "display_name": "Python 3 (ipykernel)",
   "language": "python",
   "name": "python3"
  },
  "language_info": {
   "codemirror_mode": {
    "name": "ipython",
    "version": 3
   },
   "file_extension": ".py",
   "mimetype": "text/x-python",
   "name": "python",
   "nbconvert_exporter": "python",
   "pygments_lexer": "ipython3",
   "version": "3.12.7"
  }
 },
 "nbformat": 4,
 "nbformat_minor": 5
}
