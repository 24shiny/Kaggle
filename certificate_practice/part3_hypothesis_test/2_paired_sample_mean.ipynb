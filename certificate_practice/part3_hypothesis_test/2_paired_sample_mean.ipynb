{
 "cells": [
  {
   "cell_type": "code",
   "execution_count": 1,
   "id": "a1d8bbce-12ee-4c58-9be7-0c6769911aea",
   "metadata": {},
   "outputs": [],
   "source": [
    "import pandas as pd\n",
    "import numpy as np"
   ]
  },
  {
   "cell_type": "code",
   "execution_count": 3,
   "id": "50a67a33-b709-4b9e-a1e5-6e81017a3582",
   "metadata": {},
   "outputs": [],
   "source": [
    "# perfomance score at workplace as an example\n",
    "# test if , a training prog,ram is effective. to this end, compare before and after score data\n",
    "before = np.random.randint(70, 90, 50)\n",
    "before_normal = np.random.normal(80, 10, 50)\n",
    "after = np.random.randint(80,100, 50)\n",
    "after_normal = np.random.normal(90, 10, 50)"
   ]
  },
  {
   "cell_type": "code",
   "execution_count": 5,
   "id": "0f0ca09c-6fbc-46a8-942e-0ee086bd6a63",
   "metadata": {},
   "outputs": [
    {
     "name": "stdout",
     "output_type": "stream",
     "text": [
      "ShapiroResult(statistic=0.9278302955030526, pvalue=0.004578245647145294)\n",
      "ShapiroResult(statistic=0.9768334629992965, pvalue=0.4274687651089167)\n",
      "ShapiroResult(statistic=0.9253324692131095, pvalue=0.0036952289966951015)\n",
      "ShapiroResult(statistic=0.9846596660641169, pvalue=0.7568788951273022)\n"
     ]
    }
   ],
   "source": [
    "# test of normality\n",
    "from scipy import stats\n",
    "print(stats.shapiro(before))\n",
    "print(stats.shapiro(before_normal))\n",
    "print(stats.shapiro(after))\n",
    "print(stats.shapiro(after_normal))"
   ]
  },
  {
   "cell_type": "markdown",
   "id": "78fdc614-0b2a-4fd2-98cc-db8a41c1ac5a",
   "metadata": {},
   "source": [
    "<strong>one-tailed test</strong>\n",
    "<ul>\n",
    "    <li>H0 : the training problem did no good; before-after=0</li>\n",
    "    <li>H1 : the training problem does good; before-after<0</li>\n",
    "</ul>\n",
    "Choose a test method depending on the normality of data\n",
    "<ul>\n",
    "    <li>data following the normal distribution - ttest_rel</li>\n",
    "    <li>else - Wilcoxon</li>\n",
    "</ul>"
   ]
  },
  {
   "cell_type": "code",
   "execution_count": 6,
   "id": "d2d933c3-3d71-4b9f-a3f8-62b4208c3763",
   "metadata": {},
   "outputs": [
    {
     "name": "stdout",
     "output_type": "stream",
     "text": [
      "TtestResult(statistic=-8.321655446001156, pvalue=3.091220621805739e-11, df=49)\n",
      "WilcoxonResult(statistic=160.0, pvalue=3.861734692023333e-07)\n"
     ]
    }
   ],
   "source": [
    "print(stats.ttest_rel(before, after, alternative='less'))\n",
    "print(stats.wilcoxon(before_normal, after_normal, alternative='less'))"
   ]
  },
  {
   "cell_type": "raw",
   "id": "591308f9-7947-46a3-9364-11b1db6765da",
   "metadata": {},
   "source": [
    "In both cases, we reject H0 and conclude that the training program contributed to improving employee's performance."
   ]
  }
 ],
 "metadata": {
  "kernelspec": {
   "display_name": "Python 3 (ipykernel)",
   "language": "python",
   "name": "python3"
  },
  "language_info": {
   "codemirror_mode": {
    "name": "ipython",
    "version": 3
   },
   "file_extension": ".py",
   "mimetype": "text/x-python",
   "name": "python",
   "nbconvert_exporter": "python",
   "pygments_lexer": "ipython3",
   "version": "3.10.0"
  }
 },
 "nbformat": 4,
 "nbformat_minor": 5
}
