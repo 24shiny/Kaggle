{
 "cells": [
  {
   "cell_type": "markdown",
   "id": "37896e4e-8d5f-4c59-a8b9-218f7170074b",
   "metadata": {},
   "source": [
    "1. Correlation coefficient\n",
    "<br>pd.df.corr(method='pearson', numeric_only=False)\n",
    "<br>options for the method : pearson (default), kendall, spearman\n",
    "<br>options of the numeric_only : False (default), True"
   ]
  },
  {
   "cell_type": "code",
   "execution_count": 1,
   "id": "e5afb055-8b95-41b8-9b6c-5180fa35586d",
   "metadata": {},
   "outputs": [
    {
     "data": {
      "text/html": [
       "<div>\n",
       "<style scoped>\n",
       "    .dataframe tbody tr th:only-of-type {\n",
       "        vertical-align: middle;\n",
       "    }\n",
       "\n",
       "    .dataframe tbody tr th {\n",
       "        vertical-align: top;\n",
       "    }\n",
       "\n",
       "    .dataframe thead th {\n",
       "        text-align: right;\n",
       "    }\n",
       "</style>\n",
       "<table border=\"1\" class=\"dataframe\">\n",
       "  <thead>\n",
       "    <tr style=\"text-align: right;\">\n",
       "      <th></th>\n",
       "      <th>height</th>\n",
       "      <th>weight</th>\n",
       "    </tr>\n",
       "  </thead>\n",
       "  <tbody>\n",
       "    <tr>\n",
       "      <th>height</th>\n",
       "      <td>1.000000</td>\n",
       "      <td>0.919509</td>\n",
       "    </tr>\n",
       "    <tr>\n",
       "      <th>weight</th>\n",
       "      <td>0.919509</td>\n",
       "      <td>1.000000</td>\n",
       "    </tr>\n",
       "  </tbody>\n",
       "</table>\n",
       "</div>"
      ],
      "text/plain": [
       "          height    weight\n",
       "height  1.000000  0.919509\n",
       "weight  0.919509  1.000000"
      ]
     },
     "execution_count": 1,
     "metadata": {},
     "output_type": "execute_result"
    }
   ],
   "source": [
    "# as an example, consider students' height and weight\n",
    "# turn the data to a dataframe to apply .corr()\n",
    "import pandas as pd\n",
    "data = pd.DataFrame({'height':[150, 160, 170, 175, 165], 'weight':[42, 50, 70, 64, 56]})\n",
    "data.corr()"
   ]
  },
  {
   "cell_type": "code",
   "execution_count": 3,
   "id": "55c8acc1-e631-4fba-93b8-c94f309a59e2",
   "metadata": {},
   "outputs": [
    {
     "data": {
      "text/plain": [
       "np.float64(0.9195090879163764)"
      ]
     },
     "execution_count": 3,
     "metadata": {},
     "output_type": "execute_result"
    }
   ],
   "source": [
    "# to select a certain value, use .iloc[row, col]\n",
    "data.corr().iloc[0,1]"
   ]
  },
  {
   "cell_type": "code",
   "execution_count": 4,
   "id": "eaba6681-ca5a-434e-8f7a-34ac4c86add3",
   "metadata": {},
   "outputs": [
    {
     "name": "stdout",
     "output_type": "stream",
     "text": [
      "        height  weight\n",
      "height     1.0     0.8\n",
      "weight     0.8     1.0\n",
      "        height  weight\n",
      "height     1.0     0.9\n",
      "weight     0.9     1.0\n"
     ]
    }
   ],
   "source": [
    "# try another method\n",
    "print(data.corr(method='kendall'))\n",
    "print(data.corr(method='spearman'))"
   ]
  },
  {
   "cell_type": "code",
   "execution_count": 8,
   "id": "771e0bdf-479c-4f84-b1eb-5b6ac5f95d0c",
   "metadata": {},
   "outputs": [
    {
     "name": "stdout",
     "output_type": "stream",
     "text": [
      "PearsonRResult(statistic=np.float64(0.9195090879163766), pvalue=np.float64(0.02707945689558949))\n",
      "SignificanceResult(statistic=np.float64(0.8999999999999998), pvalue=np.float64(0.03738607346849874))\n",
      "SignificanceResult(statistic=np.float64(0.7999999999999999), pvalue=np.float64(0.08333333333333333))\n"
     ]
    }
   ],
   "source": [
    "# t-test on correlation coefficients\n",
    "from scipy import stats\n",
    "print(stats.pearsonr(data['height'], data['weight']))\n",
    "print(stats.spearmanr(data['height'], data['weight']))\n",
    "print(stats.kendalltau(data['height'], data['weight']))"
   ]
  },
  {
   "cell_type": "markdown",
   "id": "ec357042-73f8-4952-aa0f-01488204f21d",
   "metadata": {},
   "source": [
    "2. Simple linear regression"
   ]
  },
  {
   "cell_type": "code",
   "execution_count": 44,
   "id": "f928415b-bce0-4842-8018-a97e706cc6b8",
   "metadata": {},
   "outputs": [
    {
     "data": {
      "text/html": [
       "<table class=\"simpletable\">\n",
       "<caption>OLS Regression Results</caption>\n",
       "<tr>\n",
       "  <th>Dep. Variable:</th>         <td>height</td>      <th>  R-squared:         </th> <td>   0.892</td>\n",
       "</tr>\n",
       "<tr>\n",
       "  <th>Model:</th>                   <td>OLS</td>       <th>  Adj. R-squared:    </th> <td>   0.886</td>\n",
       "</tr>\n",
       "<tr>\n",
       "  <th>Method:</th>             <td>Least Squares</td>  <th>  F-statistic:       </th> <td>   148.0</td>\n",
       "</tr>\n",
       "<tr>\n",
       "  <th>Date:</th>             <td>Thu, 28 Nov 2024</td> <th>  Prob (F-statistic):</th> <td>4.04e-10</td>\n",
       "</tr>\n",
       "<tr>\n",
       "  <th>Time:</th>                 <td>13:19:11</td>     <th>  Log-Likelihood:    </th> <td> -45.761</td>\n",
       "</tr>\n",
       "<tr>\n",
       "  <th>No. Observations:</th>      <td>    20</td>      <th>  AIC:               </th> <td>   95.52</td>\n",
       "</tr>\n",
       "<tr>\n",
       "  <th>Df Residuals:</th>          <td>    18</td>      <th>  BIC:               </th> <td>   97.51</td>\n",
       "</tr>\n",
       "<tr>\n",
       "  <th>Df Model:</th>              <td>     1</td>      <th>                     </th>     <td> </td>   \n",
       "</tr>\n",
       "<tr>\n",
       "  <th>Covariance Type:</th>      <td>nonrobust</td>    <th>                     </th>     <td> </td>   \n",
       "</tr>\n",
       "</table>\n",
       "<table class=\"simpletable\">\n",
       "<tr>\n",
       "      <td></td>         <th>coef</th>     <th>std err</th>      <th>t</th>      <th>P>|t|</th>  <th>[0.025</th>    <th>0.975]</th>  \n",
       "</tr>\n",
       "<tr>\n",
       "  <th>Intercept</th> <td>  115.0676</td> <td>    4.158</td> <td>   27.671</td> <td> 0.000</td> <td>  106.331</td> <td>  123.804</td>\n",
       "</tr>\n",
       "<tr>\n",
       "  <th>weight</th>    <td>    0.8658</td> <td>    0.071</td> <td>   12.167</td> <td> 0.000</td> <td>    0.716</td> <td>    1.015</td>\n",
       "</tr>\n",
       "</table>\n",
       "<table class=\"simpletable\">\n",
       "<tr>\n",
       "  <th>Omnibus:</th>       <td> 0.985</td> <th>  Durbin-Watson:     </th> <td>   2.609</td>\n",
       "</tr>\n",
       "<tr>\n",
       "  <th>Prob(Omnibus):</th> <td> 0.611</td> <th>  Jarque-Bera (JB):  </th> <td>   0.336</td>\n",
       "</tr>\n",
       "<tr>\n",
       "  <th>Skew:</th>          <td>-0.315</td> <th>  Prob(JB):          </th> <td>   0.845</td>\n",
       "</tr>\n",
       "<tr>\n",
       "  <th>Kurtosis:</th>      <td> 3.082</td> <th>  Cond. No.          </th> <td>    432.</td>\n",
       "</tr>\n",
       "</table><br/><br/>Notes:<br/>[1] Standard Errors assume that the covariance matrix of the errors is correctly specified."
      ],
      "text/latex": [
       "\\begin{center}\n",
       "\\begin{tabular}{lclc}\n",
       "\\toprule\n",
       "\\textbf{Dep. Variable:}    &      height      & \\textbf{  R-squared:         } &     0.892   \\\\\n",
       "\\textbf{Model:}            &       OLS        & \\textbf{  Adj. R-squared:    } &     0.886   \\\\\n",
       "\\textbf{Method:}           &  Least Squares   & \\textbf{  F-statistic:       } &     148.0   \\\\\n",
       "\\textbf{Date:}             & Thu, 28 Nov 2024 & \\textbf{  Prob (F-statistic):} &  4.04e-10   \\\\\n",
       "\\textbf{Time:}             &     13:19:11     & \\textbf{  Log-Likelihood:    } &   -45.761   \\\\\n",
       "\\textbf{No. Observations:} &          20      & \\textbf{  AIC:               } &     95.52   \\\\\n",
       "\\textbf{Df Residuals:}     &          18      & \\textbf{  BIC:               } &     97.51   \\\\\n",
       "\\textbf{Df Model:}         &           1      & \\textbf{                     } &             \\\\\n",
       "\\textbf{Covariance Type:}  &    nonrobust     & \\textbf{                     } &             \\\\\n",
       "\\bottomrule\n",
       "\\end{tabular}\n",
       "\\begin{tabular}{lcccccc}\n",
       "                   & \\textbf{coef} & \\textbf{std err} & \\textbf{t} & \\textbf{P$> |$t$|$} & \\textbf{[0.025} & \\textbf{0.975]}  \\\\\n",
       "\\midrule\n",
       "\\textbf{Intercept} &     115.0676  &        4.158     &    27.671  &         0.000        &      106.331    &      123.804     \\\\\n",
       "\\textbf{weight}    &       0.8658  &        0.071     &    12.167  &         0.000        &        0.716    &        1.015     \\\\\n",
       "\\bottomrule\n",
       "\\end{tabular}\n",
       "\\begin{tabular}{lclc}\n",
       "\\textbf{Omnibus:}       &  0.985 & \\textbf{  Durbin-Watson:     } &    2.609  \\\\\n",
       "\\textbf{Prob(Omnibus):} &  0.611 & \\textbf{  Jarque-Bera (JB):  } &    0.336  \\\\\n",
       "\\textbf{Skew:}          & -0.315 & \\textbf{  Prob(JB):          } &    0.845  \\\\\n",
       "\\textbf{Kurtosis:}      &  3.082 & \\textbf{  Cond. No.          } &     432.  \\\\\n",
       "\\bottomrule\n",
       "\\end{tabular}\n",
       "%\\caption{OLS Regression Results}\n",
       "\\end{center}\n",
       "\n",
       "Notes: \\newline\n",
       " [1] Standard Errors assume that the covariance matrix of the errors is correctly specified."
      ],
      "text/plain": [
       "<class 'statsmodels.iolib.summary.Summary'>\n",
       "\"\"\"\n",
       "                            OLS Regression Results                            \n",
       "==============================================================================\n",
       "Dep. Variable:                 height   R-squared:                       0.892\n",
       "Model:                            OLS   Adj. R-squared:                  0.886\n",
       "Method:                 Least Squares   F-statistic:                     148.0\n",
       "Date:                Thu, 28 Nov 2024   Prob (F-statistic):           4.04e-10\n",
       "Time:                        13:19:11   Log-Likelihood:                -45.761\n",
       "No. Observations:                  20   AIC:                             95.52\n",
       "Df Residuals:                      18   BIC:                             97.51\n",
       "Df Model:                           1                                         \n",
       "Covariance Type:            nonrobust                                         \n",
       "==============================================================================\n",
       "                 coef    std err          t      P>|t|      [0.025      0.975]\n",
       "------------------------------------------------------------------------------\n",
       "Intercept    115.0676      4.158     27.671      0.000     106.331     123.804\n",
       "weight         0.8658      0.071     12.167      0.000       0.716       1.015\n",
       "==============================================================================\n",
       "Omnibus:                        0.985   Durbin-Watson:                   2.609\n",
       "Prob(Omnibus):                  0.611   Jarque-Bera (JB):                0.336\n",
       "Skew:                          -0.315   Prob(JB):                        0.845\n",
       "Kurtosis:                       3.082   Cond. No.                         432.\n",
       "==============================================================================\n",
       "\n",
       "Notes:\n",
       "[1] Standard Errors assume that the covariance matrix of the errors is correctly specified.\n",
       "\"\"\""
      ]
     },
     "execution_count": 44,
     "metadata": {},
     "output_type": "execute_result"
    }
   ],
   "source": [
    "data = {\n",
    "    'weight': [42, 50, 70, 64, 56, 48, 68, 60, 65, 52,\n",
    "        54, 67, 49, 51, 58, 55, 69, 61, 66, 53], # input\n",
    "    'height': [150, 160, 170, 175, 165, 155, 172, 168, 174, 158, \n",
    "          162, 173, 156, 159, 167, 163, 171, 169, 176, 161] # output\n",
    "}\n",
    "\n",
    "from statsmodels.formula.api import ols\n",
    "model = ols('height ~ weight', data).fit() # y ~ x\n",
    "model.summary()"
   ]
  },
  {
   "cell_type": "code",
   "execution_count": 45,
   "id": "a9b9bdbe-7c4d-48b5-b453-5df69bec30be",
   "metadata": {},
   "outputs": [
    {
     "data": {
      "text/plain": [
       "np.float64(0.8915914350087261)"
      ]
     },
     "execution_count": 45,
     "metadata": {},
     "output_type": "execute_result"
    }
   ],
   "source": [
    "# to print the R-squared value only:\n",
    "model.rsquared"
   ]
  },
  {
   "cell_type": "code",
   "execution_count": 46,
   "id": "382867eb-2e29-4565-aa38-d8714aa1bb6f",
   "metadata": {},
   "outputs": [
    {
     "data": {
      "text/plain": [
       "Intercept    115.067639\n",
       "weight         0.865844\n",
       "dtype: float64"
      ]
     },
     "execution_count": 46,
     "metadata": {},
     "output_type": "execute_result"
    }
   ],
   "source": [
    "# to access the regression model\n",
    "model.params"
   ]
  },
  {
   "cell_type": "code",
   "execution_count": 47,
   "id": "131dedfb-4c3e-486f-8457-ef72f3b4d997",
   "metadata": {},
   "outputs": [
    {
     "name": "stdout",
     "output_type": "stream",
     "text": [
      "0.8658438852380184\n",
      "115.06763904471866\n"
     ]
    }
   ],
   "source": [
    "print(model.params['weight'])\n",
    "print(model.params['Intercept'])"
   ]
  },
  {
   "cell_type": "code",
   "execution_count": 48,
   "id": "1679cb48-54bd-476f-a8b3-7fcca3e52ce3",
   "metadata": {},
   "outputs": [
    {
     "data": {
      "text/plain": [
       "Intercept    3.335096e-16\n",
       "weight       4.037933e-10\n",
       "dtype: float64"
      ]
     },
     "execution_count": 48,
     "metadata": {},
     "output_type": "execute_result"
    }
   ],
   "source": [
    "model.pvalues"
   ]
  },
  {
   "cell_type": "code",
   "execution_count": 49,
   "id": "be021ab3-5f18-4a0e-9caf-eff8923b9f4b",
   "metadata": {},
   "outputs": [
    {
     "name": "stdout",
     "output_type": "stream",
     "text": [
      "0.0000000004\n",
      "0.0000000004\n"
     ]
    }
   ],
   "source": [
    "# to change the unit, there are two options :\n",
    "print(format(model.pvalues['weight'], \".10f\"))\n",
    "print(\"{:.10f}\".format(model.pvalues['weight']))"
   ]
  },
  {
   "cell_type": "code",
   "execution_count": 50,
   "id": "a178cd96-742f-402f-9291-d4c5f50c53a4",
   "metadata": {},
   "outputs": [
    {
     "data": {
      "text/plain": [
       "np.float64(158.35983330661958)"
      ]
     },
     "execution_count": 50,
     "metadata": {},
     "output_type": "execute_result"
    }
   ],
   "source": [
    "# predict a value\n",
    "new_data = pd.DataFrame({'weight':[50]})\n",
    "model.predict(new_data)[0]"
   ]
  },
  {
   "cell_type": "code",
   "execution_count": 52,
   "id": "59338dc2-dd96-4919-a524-46a81fb53a39",
   "metadata": {},
   "outputs": [
    {
     "data": {
      "text/plain": [
       "0     151.433082\n",
       "1     158.359833\n",
       "2     175.676711\n",
       "3     170.481648\n",
       "4     163.554897\n",
       "5     156.628146\n",
       "6     173.945023\n",
       "7     167.018272\n",
       "8     171.347492\n",
       "9     160.091521\n",
       "10    161.823209\n",
       "11    173.079179\n",
       "12    157.493989\n",
       "13    159.225677\n",
       "14    165.286584\n",
       "15    162.689053\n",
       "16    174.810867\n",
       "17    167.884116\n",
       "18    172.213335\n",
       "19    160.957365\n",
       "dtype: float64"
      ]
     },
     "execution_count": 52,
     "metadata": {},
     "output_type": "execute_result"
    }
   ],
   "source": [
    "model.predict(df['weight'])"
   ]
  },
  {
   "cell_type": "code",
   "execution_count": 53,
   "id": "d29e8479-7517-45b5-8ccd-5d4606f8c955",
   "metadata": {},
   "outputs": [
    {
     "data": {
      "text/html": [
       "<div>\n",
       "<style scoped>\n",
       "    .dataframe tbody tr th:only-of-type {\n",
       "        vertical-align: middle;\n",
       "    }\n",
       "\n",
       "    .dataframe tbody tr th {\n",
       "        vertical-align: top;\n",
       "    }\n",
       "\n",
       "    .dataframe thead th {\n",
       "        text-align: right;\n",
       "    }\n",
       "</style>\n",
       "<table border=\"1\" class=\"dataframe\">\n",
       "  <thead>\n",
       "    <tr style=\"text-align: right;\">\n",
       "      <th></th>\n",
       "      <th>weight</th>\n",
       "      <th>height</th>\n",
       "      <th>predict</th>\n",
       "    </tr>\n",
       "  </thead>\n",
       "  <tbody>\n",
       "    <tr>\n",
       "      <th>0</th>\n",
       "      <td>42</td>\n",
       "      <td>150</td>\n",
       "      <td>151.433082</td>\n",
       "    </tr>\n",
       "    <tr>\n",
       "      <th>1</th>\n",
       "      <td>50</td>\n",
       "      <td>160</td>\n",
       "      <td>158.359833</td>\n",
       "    </tr>\n",
       "    <tr>\n",
       "      <th>2</th>\n",
       "      <td>70</td>\n",
       "      <td>170</td>\n",
       "      <td>175.676711</td>\n",
       "    </tr>\n",
       "    <tr>\n",
       "      <th>3</th>\n",
       "      <td>64</td>\n",
       "      <td>175</td>\n",
       "      <td>170.481648</td>\n",
       "    </tr>\n",
       "    <tr>\n",
       "      <th>4</th>\n",
       "      <td>56</td>\n",
       "      <td>165</td>\n",
       "      <td>163.554897</td>\n",
       "    </tr>\n",
       "    <tr>\n",
       "      <th>5</th>\n",
       "      <td>48</td>\n",
       "      <td>155</td>\n",
       "      <td>156.628146</td>\n",
       "    </tr>\n",
       "    <tr>\n",
       "      <th>6</th>\n",
       "      <td>68</td>\n",
       "      <td>172</td>\n",
       "      <td>173.945023</td>\n",
       "    </tr>\n",
       "    <tr>\n",
       "      <th>7</th>\n",
       "      <td>60</td>\n",
       "      <td>168</td>\n",
       "      <td>167.018272</td>\n",
       "    </tr>\n",
       "    <tr>\n",
       "      <th>8</th>\n",
       "      <td>65</td>\n",
       "      <td>174</td>\n",
       "      <td>171.347492</td>\n",
       "    </tr>\n",
       "    <tr>\n",
       "      <th>9</th>\n",
       "      <td>52</td>\n",
       "      <td>158</td>\n",
       "      <td>160.091521</td>\n",
       "    </tr>\n",
       "    <tr>\n",
       "      <th>10</th>\n",
       "      <td>54</td>\n",
       "      <td>162</td>\n",
       "      <td>161.823209</td>\n",
       "    </tr>\n",
       "    <tr>\n",
       "      <th>11</th>\n",
       "      <td>67</td>\n",
       "      <td>173</td>\n",
       "      <td>173.079179</td>\n",
       "    </tr>\n",
       "    <tr>\n",
       "      <th>12</th>\n",
       "      <td>49</td>\n",
       "      <td>156</td>\n",
       "      <td>157.493989</td>\n",
       "    </tr>\n",
       "    <tr>\n",
       "      <th>13</th>\n",
       "      <td>51</td>\n",
       "      <td>159</td>\n",
       "      <td>159.225677</td>\n",
       "    </tr>\n",
       "    <tr>\n",
       "      <th>14</th>\n",
       "      <td>58</td>\n",
       "      <td>167</td>\n",
       "      <td>165.286584</td>\n",
       "    </tr>\n",
       "    <tr>\n",
       "      <th>15</th>\n",
       "      <td>55</td>\n",
       "      <td>163</td>\n",
       "      <td>162.689053</td>\n",
       "    </tr>\n",
       "    <tr>\n",
       "      <th>16</th>\n",
       "      <td>69</td>\n",
       "      <td>171</td>\n",
       "      <td>174.810867</td>\n",
       "    </tr>\n",
       "    <tr>\n",
       "      <th>17</th>\n",
       "      <td>61</td>\n",
       "      <td>169</td>\n",
       "      <td>167.884116</td>\n",
       "    </tr>\n",
       "    <tr>\n",
       "      <th>18</th>\n",
       "      <td>66</td>\n",
       "      <td>176</td>\n",
       "      <td>172.213335</td>\n",
       "    </tr>\n",
       "    <tr>\n",
       "      <th>19</th>\n",
       "      <td>53</td>\n",
       "      <td>161</td>\n",
       "      <td>160.957365</td>\n",
       "    </tr>\n",
       "  </tbody>\n",
       "</table>\n",
       "</div>"
      ],
      "text/plain": [
       "    weight  height     predict\n",
       "0       42     150  151.433082\n",
       "1       50     160  158.359833\n",
       "2       70     170  175.676711\n",
       "3       64     175  170.481648\n",
       "4       56     165  163.554897\n",
       "5       48     155  156.628146\n",
       "6       68     172  173.945023\n",
       "7       60     168  167.018272\n",
       "8       65     174  171.347492\n",
       "9       52     158  160.091521\n",
       "10      54     162  161.823209\n",
       "11      67     173  173.079179\n",
       "12      49     156  157.493989\n",
       "13      51     159  159.225677\n",
       "14      58     167  165.286584\n",
       "15      55     163  162.689053\n",
       "16      69     171  174.810867\n",
       "17      61     169  167.884116\n",
       "18      66     176  172.213335\n",
       "19      53     161  160.957365"
      ]
     },
     "execution_count": 53,
     "metadata": {},
     "output_type": "execute_result"
    }
   ],
   "source": [
    "df = pd.DataFrame(data)\n",
    "df['predict'] = model.predict(df) # same with model.predict(df['weight'])\n",
    "df"
   ]
  },
  {
   "cell_type": "code",
   "execution_count": 54,
   "id": "16e21537-0bb1-4f73-bc98-8befbdb6d11d",
   "metadata": {},
   "outputs": [
    {
     "data": {
      "text/html": [
       "<div>\n",
       "<style scoped>\n",
       "    .dataframe tbody tr th:only-of-type {\n",
       "        vertical-align: middle;\n",
       "    }\n",
       "\n",
       "    .dataframe tbody tr th {\n",
       "        vertical-align: top;\n",
       "    }\n",
       "\n",
       "    .dataframe thead th {\n",
       "        text-align: right;\n",
       "    }\n",
       "</style>\n",
       "<table border=\"1\" class=\"dataframe\">\n",
       "  <thead>\n",
       "    <tr style=\"text-align: right;\">\n",
       "      <th></th>\n",
       "      <th>weight</th>\n",
       "      <th>height</th>\n",
       "      <th>predict</th>\n",
       "      <th>error</th>\n",
       "    </tr>\n",
       "  </thead>\n",
       "  <tbody>\n",
       "    <tr>\n",
       "      <th>0</th>\n",
       "      <td>42</td>\n",
       "      <td>150</td>\n",
       "      <td>151.433082</td>\n",
       "      <td>-1.433082</td>\n",
       "    </tr>\n",
       "    <tr>\n",
       "      <th>1</th>\n",
       "      <td>50</td>\n",
       "      <td>160</td>\n",
       "      <td>158.359833</td>\n",
       "      <td>1.640167</td>\n",
       "    </tr>\n",
       "    <tr>\n",
       "      <th>2</th>\n",
       "      <td>70</td>\n",
       "      <td>170</td>\n",
       "      <td>175.676711</td>\n",
       "      <td>-5.676711</td>\n",
       "    </tr>\n",
       "    <tr>\n",
       "      <th>3</th>\n",
       "      <td>64</td>\n",
       "      <td>175</td>\n",
       "      <td>170.481648</td>\n",
       "      <td>4.518352</td>\n",
       "    </tr>\n",
       "    <tr>\n",
       "      <th>4</th>\n",
       "      <td>56</td>\n",
       "      <td>165</td>\n",
       "      <td>163.554897</td>\n",
       "      <td>1.445103</td>\n",
       "    </tr>\n",
       "  </tbody>\n",
       "</table>\n",
       "</div>"
      ],
      "text/plain": [
       "   weight  height     predict     error\n",
       "0      42     150  151.433082 -1.433082\n",
       "1      50     160  158.359833  1.640167\n",
       "2      70     170  175.676711 -5.676711\n",
       "3      64     175  170.481648  4.518352\n",
       "4      56     165  163.554897  1.445103"
      ]
     },
     "execution_count": 54,
     "metadata": {},
     "output_type": "execute_result"
    }
   ],
   "source": [
    "# error is defined as the original values subtracted by prediction values\n",
    "df['error'] = df['height'] - df['predict']\n",
    "df.head()"
   ]
  },
  {
   "cell_type": "code",
   "execution_count": 56,
   "id": "ffd5dd36-2e4e-400a-9c60-6c59872c770c",
   "metadata": {},
   "outputs": [
    {
     "data": {
      "text/plain": [
       "113.74226638884454"
      ]
     },
     "execution_count": 56,
     "metadata": {},
     "output_type": "execute_result"
    }
   ],
   "source": [
    "# SSE (Sum of Squareds of Error)\n",
    "sum(df['error']**2)"
   ]
  },
  {
   "cell_type": "code",
   "execution_count": 57,
   "id": "81e986b5-ea1b-4f52-ace3-50462f294a95",
   "metadata": {},
   "outputs": [
    {
     "data": {
      "text/plain": [
       "np.float64(5.687113319442227)"
      ]
     },
     "execution_count": 57,
     "metadata": {},
     "output_type": "execute_result"
    }
   ],
   "source": [
    "# MSE (Mean Squared Error)\n",
    "MSE = (df['error']**2).mean()\n",
    "MSE"
   ]
  },
  {
   "cell_type": "code",
   "execution_count": 59,
   "id": "27ae69af-f3f3-493b-8061-0592d16c91ae",
   "metadata": {},
   "outputs": [
    {
     "data": {
      "text/plain": [
       "np.float64(5.687113319442227)"
      ]
     },
     "execution_count": 59,
     "metadata": {},
     "output_type": "execute_result"
    }
   ],
   "source": [
    "# alternatively, use sklearn.metrics\n",
    "from sklearn.metrics import mean_squared_error\n",
    "pred = model.predict(df['weight'])\n",
    "mse = mean_squared_error(df['height'], pred)\n",
    "mse"
   ]
  },
  {
   "cell_type": "markdown",
   "id": "a6f611be-f5c8-46a0-9d8b-d52bd5d3b7af",
   "metadata": {},
   "source": [
    "3. Multiple linear regression\n",
    "<br>y = a + b1*x + b2 * x + b3 * x + error"
   ]
  },
  {
   "cell_type": "code",
   "execution_count": 60,
   "id": "0489809c-f13b-4e41-b75e-782d60aaebdd",
   "metadata": {},
   "outputs": [],
   "source": [
    "# build a multiple linear regression model of sales w.r.t the others\n",
    "data = {\n",
    "    'sales': [300, 320, 250, 360, 315, 328, 310, 335, 326, 280,\n",
    "            290, 300, 315, 328, 310, 335, 300, 400, 500, 600], # output\n",
    "    'advertisement_fee': [70, 75, 30, 80, 72, 77, 70, 82, 70, 80,\n",
    "            68, 90, 72, 77, 70, 82, 40, 20, 75, 80], # input 1\n",
    "    'num_employees': [15, 16, 14, 20, 19, 17, 16, 19, 15, 20,\n",
    "            14, 5, 16, 17, 16, 14, 30, 40, 10, 50] # input 2\n",
    "    }"
   ]
  },
  {
   "cell_type": "code",
   "execution_count": 61,
   "id": "611c3107-cc2f-4301-9158-4144b2a627b7",
   "metadata": {},
   "outputs": [
    {
     "data": {
      "text/html": [
       "<table class=\"simpletable\">\n",
       "<caption>OLS Regression Results</caption>\n",
       "<tr>\n",
       "  <th>Dep. Variable:</th>          <td>sales</td>      <th>  R-squared:         </th> <td>   0.512</td>\n",
       "</tr>\n",
       "<tr>\n",
       "  <th>Model:</th>                   <td>OLS</td>       <th>  Adj. R-squared:    </th> <td>   0.454</td>\n",
       "</tr>\n",
       "<tr>\n",
       "  <th>Method:</th>             <td>Least Squares</td>  <th>  F-statistic:       </th> <td>   8.907</td>\n",
       "</tr>\n",
       "<tr>\n",
       "  <th>Date:</th>             <td>Thu, 28 Nov 2024</td> <th>  Prob (F-statistic):</th>  <td>0.00226</td>\n",
       "</tr>\n",
       "<tr>\n",
       "  <th>Time:</th>                 <td>13:32:33</td>     <th>  Log-Likelihood:    </th> <td> -108.22</td>\n",
       "</tr>\n",
       "<tr>\n",
       "  <th>No. Observations:</th>      <td>    20</td>      <th>  AIC:               </th> <td>   222.4</td>\n",
       "</tr>\n",
       "<tr>\n",
       "  <th>Df Residuals:</th>          <td>    17</td>      <th>  BIC:               </th> <td>   225.4</td>\n",
       "</tr>\n",
       "<tr>\n",
       "  <th>Df Model:</th>              <td>     2</td>      <th>                     </th>     <td> </td>   \n",
       "</tr>\n",
       "<tr>\n",
       "  <th>Covariance Type:</th>      <td>nonrobust</td>    <th>                     </th>     <td> </td>   \n",
       "</tr>\n",
       "</table>\n",
       "<table class=\"simpletable\">\n",
       "<tr>\n",
       "          <td></td>             <th>coef</th>     <th>std err</th>      <th>t</th>      <th>P>|t|</th>  <th>[0.025</th>    <th>0.975]</th>  \n",
       "</tr>\n",
       "<tr>\n",
       "  <th>Intercept</th>         <td>  101.0239</td> <td>   71.716</td> <td>    1.409</td> <td> 0.177</td> <td>  -50.284</td> <td>  252.331</td>\n",
       "</tr>\n",
       "<tr>\n",
       "  <th>advertisement_fee</th> <td>    1.8194</td> <td>    0.807</td> <td>    2.255</td> <td> 0.038</td> <td>    0.117</td> <td>    3.522</td>\n",
       "</tr>\n",
       "<tr>\n",
       "  <th>num_employees</th>     <td>    5.9288</td> <td>    1.430</td> <td>    4.147</td> <td> 0.001</td> <td>    2.912</td> <td>    8.945</td>\n",
       "</tr>\n",
       "</table>\n",
       "<table class=\"simpletable\">\n",
       "<tr>\n",
       "  <th>Omnibus:</th>       <td>30.534</td> <th>  Durbin-Watson:     </th> <td>   1.354</td>\n",
       "</tr>\n",
       "<tr>\n",
       "  <th>Prob(Omnibus):</th> <td> 0.000</td> <th>  Jarque-Bera (JB):  </th> <td>  64.655</td>\n",
       "</tr>\n",
       "<tr>\n",
       "  <th>Skew:</th>          <td> 2.444</td> <th>  Prob(JB):          </th> <td>9.13e-15</td>\n",
       "</tr>\n",
       "<tr>\n",
       "  <th>Kurtosis:</th>      <td>10.327</td> <th>  Cond. No.          </th> <td>    401.</td>\n",
       "</tr>\n",
       "</table><br/><br/>Notes:<br/>[1] Standard Errors assume that the covariance matrix of the errors is correctly specified."
      ],
      "text/latex": [
       "\\begin{center}\n",
       "\\begin{tabular}{lclc}\n",
       "\\toprule\n",
       "\\textbf{Dep. Variable:}     &      sales       & \\textbf{  R-squared:         } &     0.512   \\\\\n",
       "\\textbf{Model:}             &       OLS        & \\textbf{  Adj. R-squared:    } &     0.454   \\\\\n",
       "\\textbf{Method:}            &  Least Squares   & \\textbf{  F-statistic:       } &     8.907   \\\\\n",
       "\\textbf{Date:}              & Thu, 28 Nov 2024 & \\textbf{  Prob (F-statistic):} &  0.00226    \\\\\n",
       "\\textbf{Time:}              &     13:32:33     & \\textbf{  Log-Likelihood:    } &   -108.22   \\\\\n",
       "\\textbf{No. Observations:}  &          20      & \\textbf{  AIC:               } &     222.4   \\\\\n",
       "\\textbf{Df Residuals:}      &          17      & \\textbf{  BIC:               } &     225.4   \\\\\n",
       "\\textbf{Df Model:}          &           2      & \\textbf{                     } &             \\\\\n",
       "\\textbf{Covariance Type:}   &    nonrobust     & \\textbf{                     } &             \\\\\n",
       "\\bottomrule\n",
       "\\end{tabular}\n",
       "\\begin{tabular}{lcccccc}\n",
       "                            & \\textbf{coef} & \\textbf{std err} & \\textbf{t} & \\textbf{P$> |$t$|$} & \\textbf{[0.025} & \\textbf{0.975]}  \\\\\n",
       "\\midrule\n",
       "\\textbf{Intercept}          &     101.0239  &       71.716     &     1.409  &         0.177        &      -50.284    &      252.331     \\\\\n",
       "\\textbf{advertisement\\_fee} &       1.8194  &        0.807     &     2.255  &         0.038        &        0.117    &        3.522     \\\\\n",
       "\\textbf{num\\_employees}     &       5.9288  &        1.430     &     4.147  &         0.001        &        2.912    &        8.945     \\\\\n",
       "\\bottomrule\n",
       "\\end{tabular}\n",
       "\\begin{tabular}{lclc}\n",
       "\\textbf{Omnibus:}       & 30.534 & \\textbf{  Durbin-Watson:     } &    1.354  \\\\\n",
       "\\textbf{Prob(Omnibus):} &  0.000 & \\textbf{  Jarque-Bera (JB):  } &   64.655  \\\\\n",
       "\\textbf{Skew:}          &  2.444 & \\textbf{  Prob(JB):          } & 9.13e-15  \\\\\n",
       "\\textbf{Kurtosis:}      & 10.327 & \\textbf{  Cond. No.          } &     401.  \\\\\n",
       "\\bottomrule\n",
       "\\end{tabular}\n",
       "%\\caption{OLS Regression Results}\n",
       "\\end{center}\n",
       "\n",
       "Notes: \\newline\n",
       " [1] Standard Errors assume that the covariance matrix of the errors is correctly specified."
      ],
      "text/plain": [
       "<class 'statsmodels.iolib.summary.Summary'>\n",
       "\"\"\"\n",
       "                            OLS Regression Results                            \n",
       "==============================================================================\n",
       "Dep. Variable:                  sales   R-squared:                       0.512\n",
       "Model:                            OLS   Adj. R-squared:                  0.454\n",
       "Method:                 Least Squares   F-statistic:                     8.907\n",
       "Date:                Thu, 28 Nov 2024   Prob (F-statistic):            0.00226\n",
       "Time:                        13:32:33   Log-Likelihood:                -108.22\n",
       "No. Observations:                  20   AIC:                             222.4\n",
       "Df Residuals:                      17   BIC:                             225.4\n",
       "Df Model:                           2                                         \n",
       "Covariance Type:            nonrobust                                         \n",
       "=====================================================================================\n",
       "                        coef    std err          t      P>|t|      [0.025      0.975]\n",
       "-------------------------------------------------------------------------------------\n",
       "Intercept           101.0239     71.716      1.409      0.177     -50.284     252.331\n",
       "advertisement_fee     1.8194      0.807      2.255      0.038       0.117       3.522\n",
       "num_employees         5.9288      1.430      4.147      0.001       2.912       8.945\n",
       "==============================================================================\n",
       "Omnibus:                       30.534   Durbin-Watson:                   1.354\n",
       "Prob(Omnibus):                  0.000   Jarque-Bera (JB):               64.655\n",
       "Skew:                           2.444   Prob(JB):                     9.13e-15\n",
       "Kurtosis:                      10.327   Cond. No.                         401.\n",
       "==============================================================================\n",
       "\n",
       "Notes:\n",
       "[1] Standard Errors assume that the covariance matrix of the errors is correctly specified.\n",
       "\"\"\""
      ]
     },
     "execution_count": 61,
     "metadata": {},
     "output_type": "execute_result"
    }
   ],
   "source": [
    "model = ols('sales ~ advertisement_fee + num_employees', data).fit()\n",
    "model.summary()"
   ]
  },
  {
   "cell_type": "code",
   "execution_count": 64,
   "id": "a3ebb66c-46ae-4042-b713-68eaeb67de2a",
   "metadata": {},
   "outputs": [
    {
     "data": {
      "text/plain": [
       "np.float64(0.13316981737040345)"
      ]
     },
     "execution_count": 64,
     "metadata": {},
     "output_type": "execute_result"
    }
   ],
   "source": [
    "# correlation coefficient between adv_fee and sales\n",
    "# to get a correlation coefficient between two variables only,\n",
    "df = pd.DataFrame(data)\n",
    "df['sales'].corr(df['advertisement_fee'])"
   ]
  },
  {
   "cell_type": "code",
   "execution_count": 65,
   "id": "17697c2f-4b63-4f92-accb-5aae15590035",
   "metadata": {},
   "outputs": [
    {
     "data": {
      "text/plain": [
       "PearsonRResult(statistic=np.float64(0.1331698173704034), pvalue=np.float64(0.5756778801904271))"
      ]
     },
     "execution_count": 65,
     "metadata": {},
     "output_type": "execute_result"
    }
   ],
   "source": [
    "# t-test of the correlation coefficient\n",
    "stats.pearsonr(df['sales'], df['advertisement_fee']) # have correlation !"
   ]
  },
  {
   "cell_type": "code",
   "execution_count": 66,
   "id": "263945f3-afa2-4801-a9f8-fdf6750b5c21",
   "metadata": {},
   "outputs": [
    {
     "data": {
      "text/plain": [
       "Intercept            101.023872\n",
       "advertisement_fee      1.819427\n",
       "num_employees          5.928756\n",
       "dtype: float64"
      ]
     },
     "execution_count": 66,
     "metadata": {},
     "output_type": "execute_result"
    }
   ],
   "source": [
    "# info about the regression model\n",
    "model.params"
   ]
  },
  {
   "cell_type": "markdown",
   "id": "3cb734ea-177d-43dd-ac3c-2e96078b8e56",
   "metadata": {},
   "source": [
    "That is, sales = 101.023872 + 1.819427 * advertisement_fee + 5.928756 * num_employees"
   ]
  },
  {
   "cell_type": "code",
   "execution_count": 68,
   "id": "7b7c3733-9b9d-47f0-9c8a-403733538c11",
   "metadata": {},
   "outputs": [
    {
     "data": {
      "text/plain": [
       "Intercept            0.176962\n",
       "advertisement_fee    0.037644\n",
       "num_employees        0.000675\n",
       "dtype: float64"
      ]
     },
     "execution_count": 68,
     "metadata": {},
     "output_type": "execute_result"
    }
   ],
   "source": [
    "# get a pvalue of the coefficients,\n",
    "model.pvalues"
   ]
  },
  {
   "cell_type": "code",
   "execution_count": 70,
   "id": "f855f3a1-f306-437c-accd-6d3f1b085e70",
   "metadata": {},
   "outputs": [
    {
     "data": {
      "text/plain": [
       "np.float64(310.57033031815365)"
      ]
     },
     "execution_count": 70,
     "metadata": {},
     "output_type": "execute_result"
    }
   ],
   "source": [
    "# predict sales given data; advertisement_fee = 50, num_employees = 20\n",
    "new_data = pd.DataFrame({'advertisement_fee':[50], 'num_employees':[20]})\n",
    "model.predict(new_data)[0]"
   ]
  },
  {
   "cell_type": "code",
   "execution_count": 73,
   "id": "d66cecc0-57ef-45b7-ad04-b6940bbd8bc4",
   "metadata": {},
   "outputs": [
    {
     "data": {
      "text/html": [
       "<div>\n",
       "<style scoped>\n",
       "    .dataframe tbody tr th:only-of-type {\n",
       "        vertical-align: middle;\n",
       "    }\n",
       "\n",
       "    .dataframe tbody tr th {\n",
       "        vertical-align: top;\n",
       "    }\n",
       "\n",
       "    .dataframe thead th {\n",
       "        text-align: right;\n",
       "    }\n",
       "</style>\n",
       "<table border=\"1\" class=\"dataframe\">\n",
       "  <thead>\n",
       "    <tr style=\"text-align: right;\">\n",
       "      <th></th>\n",
       "      <th>sales</th>\n",
       "      <th>advertisement_fee</th>\n",
       "      <th>num_employees</th>\n",
       "    </tr>\n",
       "  </thead>\n",
       "  <tbody>\n",
       "    <tr>\n",
       "      <th>0</th>\n",
       "      <td>300</td>\n",
       "      <td>70</td>\n",
       "      <td>15</td>\n",
       "    </tr>\n",
       "    <tr>\n",
       "      <th>1</th>\n",
       "      <td>320</td>\n",
       "      <td>75</td>\n",
       "      <td>16</td>\n",
       "    </tr>\n",
       "    <tr>\n",
       "      <th>2</th>\n",
       "      <td>250</td>\n",
       "      <td>30</td>\n",
       "      <td>14</td>\n",
       "    </tr>\n",
       "    <tr>\n",
       "      <th>3</th>\n",
       "      <td>360</td>\n",
       "      <td>80</td>\n",
       "      <td>20</td>\n",
       "    </tr>\n",
       "    <tr>\n",
       "      <th>4</th>\n",
       "      <td>315</td>\n",
       "      <td>72</td>\n",
       "      <td>19</td>\n",
       "    </tr>\n",
       "  </tbody>\n",
       "</table>\n",
       "</div>"
      ],
      "text/plain": [
       "   sales  advertisement_fee  num_employees\n",
       "0    300                 70             15\n",
       "1    320                 75             16\n",
       "2    250                 30             14\n",
       "3    360                 80             20\n",
       "4    315                 72             19"
      ]
     },
     "execution_count": 73,
     "metadata": {},
     "output_type": "execute_result"
    }
   ],
   "source": [
    "df.head()"
   ]
  },
  {
   "cell_type": "code",
   "execution_count": 76,
   "id": "358e0c6a-8336-4d19-bb93-1ecc324c3fac",
   "metadata": {},
   "outputs": [
    {
     "data": {
      "text/plain": [
       "np.float64(58686.17827156107)"
      ]
     },
     "execution_count": 76,
     "metadata": {},
     "output_type": "execute_result"
    }
   ],
   "source": [
    "df['pred'] = model.predict(df)\n",
    "df['error'] = df['sales'] - df['pred']\n",
    "# SSE\n",
    "(df['error']**2).sum()"
   ]
  },
  {
   "cell_type": "code",
   "execution_count": 77,
   "id": "f4c84db9-9ce2-41a6-ac49-2bb71a9247d9",
   "metadata": {},
   "outputs": [
    {
     "data": {
      "text/plain": [
       "np.float64(2934.3089135780533)"
      ]
     },
     "execution_count": 77,
     "metadata": {},
     "output_type": "execute_result"
    }
   ],
   "source": [
    "from sklearn.metrics import mean_squared_error\n",
    "pred = model.predict(df)\n",
    "mse = mean_squared_error(df['sales'], pred)\n",
    "mse"
   ]
  },
  {
   "cell_type": "code",
   "execution_count": 78,
   "id": "46e07c35-3b36-41b2-bbe6-38eff4945f7f",
   "metadata": {},
   "outputs": [
    {
     "data": {
      "text/html": [
       "<div>\n",
       "<style scoped>\n",
       "    .dataframe tbody tr th:only-of-type {\n",
       "        vertical-align: middle;\n",
       "    }\n",
       "\n",
       "    .dataframe tbody tr th {\n",
       "        vertical-align: top;\n",
       "    }\n",
       "\n",
       "    .dataframe thead th {\n",
       "        text-align: right;\n",
       "    }\n",
       "</style>\n",
       "<table border=\"1\" class=\"dataframe\">\n",
       "  <thead>\n",
       "    <tr style=\"text-align: right;\">\n",
       "      <th></th>\n",
       "      <th>0</th>\n",
       "      <th>1</th>\n",
       "    </tr>\n",
       "  </thead>\n",
       "  <tbody>\n",
       "    <tr>\n",
       "      <th>Intercept</th>\n",
       "      <td>-50.283684</td>\n",
       "      <td>252.331429</td>\n",
       "    </tr>\n",
       "    <tr>\n",
       "      <th>advertisement_fee</th>\n",
       "      <td>0.116785</td>\n",
       "      <td>3.522069</td>\n",
       "    </tr>\n",
       "    <tr>\n",
       "      <th>num_employees</th>\n",
       "      <td>2.912406</td>\n",
       "      <td>8.945105</td>\n",
       "    </tr>\n",
       "  </tbody>\n",
       "</table>\n",
       "</div>"
      ],
      "text/plain": [
       "                           0           1\n",
       "Intercept         -50.283684  252.331429\n",
       "advertisement_fee   0.116785    3.522069\n",
       "num_employees       2.912406    8.945105"
      ]
     },
     "execution_count": 78,
     "metadata": {},
     "output_type": "execute_result"
    }
   ],
   "source": [
    "# 95% confidence interval\n",
    "model.conf_int(alpha=0.05)"
   ]
  },
  {
   "cell_type": "code",
   "execution_count": 80,
   "id": "2e44fb44-ffc2-48aa-bdec-4ac26e3cc1c6",
   "metadata": {},
   "outputs": [
    {
     "data": {
      "text/html": [
       "<div>\n",
       "<style scoped>\n",
       "    .dataframe tbody tr th:only-of-type {\n",
       "        vertical-align: middle;\n",
       "    }\n",
       "\n",
       "    .dataframe tbody tr th {\n",
       "        vertical-align: top;\n",
       "    }\n",
       "\n",
       "    .dataframe thead th {\n",
       "        text-align: right;\n",
       "    }\n",
       "</style>\n",
       "<table border=\"1\" class=\"dataframe\">\n",
       "  <thead>\n",
       "    <tr style=\"text-align: right;\">\n",
       "      <th></th>\n",
       "      <th>mean</th>\n",
       "      <th>mean_se</th>\n",
       "      <th>mean_ci_lower</th>\n",
       "      <th>mean_ci_upper</th>\n",
       "      <th>obs_ci_lower</th>\n",
       "      <th>obs_ci_upper</th>\n",
       "    </tr>\n",
       "  </thead>\n",
       "  <tbody>\n",
       "    <tr>\n",
       "      <th>0</th>\n",
       "      <td>313.330707</td>\n",
       "      <td>22.502058</td>\n",
       "      <td>265.855514</td>\n",
       "      <td>360.8059</td>\n",
       "      <td>180.58875</td>\n",
       "      <td>446.072663</td>\n",
       "    </tr>\n",
       "  </tbody>\n",
       "</table>\n",
       "</div>"
      ],
      "text/plain": [
       "         mean    mean_se  mean_ci_lower  mean_ci_upper  obs_ci_lower  \\\n",
       "0  313.330707  22.502058     265.855514       360.8059     180.58875   \n",
       "\n",
       "   obs_ci_upper  \n",
       "0    446.072663  "
      ]
     },
     "execution_count": 80,
     "metadata": {},
     "output_type": "execute_result"
    }
   ],
   "source": [
    "# given advertisement_fee = 42, num_employees = 22, find 95% confidence and prediction intervals\n",
    "new_data = pd.DataFrame({'advertisement_fee':[45], 'num_employees':[22]})\n",
    "pred = model.get_prediction(new_data)\n",
    "pred.summary_frame(alpha=0.05)"
   ]
  },
  {
   "cell_type": "markdown",
   "id": "c94aa301-37c7-4a96-9568-3134169c0438",
   "metadata": {},
   "source": [
    "4. Categorical variables\n",
    "<br>statsmodels.api.ols() recognizes categorical data and automatically apply one-hot encoding of them."
   ]
  },
  {
   "cell_type": "code",
   "execution_count": 82,
   "id": "8c285eec-59ec-4e0d-8814-821bab46eefa",
   "metadata": {},
   "outputs": [
    {
     "data": {
      "text/html": [
       "<div>\n",
       "<style scoped>\n",
       "    .dataframe tbody tr th:only-of-type {\n",
       "        vertical-align: middle;\n",
       "    }\n",
       "\n",
       "    .dataframe tbody tr th {\n",
       "        vertical-align: top;\n",
       "    }\n",
       "\n",
       "    .dataframe thead th {\n",
       "        text-align: right;\n",
       "    }\n",
       "</style>\n",
       "<table border=\"1\" class=\"dataframe\">\n",
       "  <thead>\n",
       "    <tr style=\"text-align: right;\">\n",
       "      <th></th>\n",
       "      <th>study_hours</th>\n",
       "      <th>material_type</th>\n",
       "      <th>score</th>\n",
       "    </tr>\n",
       "  </thead>\n",
       "  <tbody>\n",
       "    <tr>\n",
       "      <th>0</th>\n",
       "      <td>71</td>\n",
       "      <td>강의</td>\n",
       "      <td>95</td>\n",
       "    </tr>\n",
       "    <tr>\n",
       "      <th>1</th>\n",
       "      <td>34</td>\n",
       "      <td>독학</td>\n",
       "      <td>63</td>\n",
       "    </tr>\n",
       "    <tr>\n",
       "      <th>2</th>\n",
       "      <td>91</td>\n",
       "      <td>도서</td>\n",
       "      <td>95</td>\n",
       "    </tr>\n",
       "    <tr>\n",
       "      <th>3</th>\n",
       "      <td>80</td>\n",
       "      <td>독학</td>\n",
       "      <td>80</td>\n",
       "    </tr>\n",
       "    <tr>\n",
       "      <th>4</th>\n",
       "      <td>40</td>\n",
       "      <td>강의</td>\n",
       "      <td>79</td>\n",
       "    </tr>\n",
       "  </tbody>\n",
       "</table>\n",
       "</div>"
      ],
      "text/plain": [
       "   study_hours material_type  score\n",
       "0           71            강의     95\n",
       "1           34            독학     63\n",
       "2           91            도서     95\n",
       "3           80            독학     80\n",
       "4           40            강의     79"
      ]
     },
     "execution_count": 82,
     "metadata": {},
     "output_type": "execute_result"
    }
   ],
   "source": [
    "study = pd.read_csv('data/study.csv')\n",
    "study.head()"
   ]
  },
  {
   "cell_type": "code",
   "execution_count": 83,
   "id": "937e922b-cdd7-4fc5-8783-e6740d35c65c",
   "metadata": {},
   "outputs": [
    {
     "data": {
      "text/html": [
       "<table class=\"simpletable\">\n",
       "<caption>OLS Regression Results</caption>\n",
       "<tr>\n",
       "  <th>Dep. Variable:</th>          <td>score</td>      <th>  R-squared:         </th> <td>   0.969</td>\n",
       "</tr>\n",
       "<tr>\n",
       "  <th>Model:</th>                   <td>OLS</td>       <th>  Adj. R-squared:    </th> <td>   0.968</td>\n",
       "</tr>\n",
       "<tr>\n",
       "  <th>Method:</th>             <td>Least Squares</td>  <th>  F-statistic:       </th> <td>   991.9</td>\n",
       "</tr>\n",
       "<tr>\n",
       "  <th>Date:</th>             <td>Thu, 28 Nov 2024</td> <th>  Prob (F-statistic):</th> <td>4.42e-72</td>\n",
       "</tr>\n",
       "<tr>\n",
       "  <th>Time:</th>                 <td>14:13:11</td>     <th>  Log-Likelihood:    </th> <td> -238.89</td>\n",
       "</tr>\n",
       "<tr>\n",
       "  <th>No. Observations:</th>      <td>   100</td>      <th>  AIC:               </th> <td>   485.8</td>\n",
       "</tr>\n",
       "<tr>\n",
       "  <th>Df Residuals:</th>          <td>    96</td>      <th>  BIC:               </th> <td>   496.2</td>\n",
       "</tr>\n",
       "<tr>\n",
       "  <th>Df Model:</th>              <td>     3</td>      <th>                     </th>     <td> </td>   \n",
       "</tr>\n",
       "<tr>\n",
       "  <th>Covariance Type:</th>      <td>nonrobust</td>    <th>                     </th>     <td> </td>   \n",
       "</tr>\n",
       "</table>\n",
       "<table class=\"simpletable\">\n",
       "<tr>\n",
       "           <td></td>              <th>coef</th>     <th>std err</th>      <th>t</th>      <th>P>|t|</th>  <th>[0.025</th>    <th>0.975]</th>  \n",
       "</tr>\n",
       "<tr>\n",
       "  <th>Intercept</th>           <td>   59.2111</td> <td>    0.799</td> <td>   74.147</td> <td> 0.000</td> <td>   57.626</td> <td>   60.796</td>\n",
       "</tr>\n",
       "<tr>\n",
       "  <th>material_type[T.도서]</th> <td>   -8.6696</td> <td>    0.678</td> <td>  -12.778</td> <td> 0.000</td> <td>  -10.016</td> <td>   -7.323</td>\n",
       "</tr>\n",
       "<tr>\n",
       "  <th>material_type[T.독학]</th> <td>  -17.6129</td> <td>    0.634</td> <td>  -27.790</td> <td> 0.000</td> <td>  -18.871</td> <td>  -16.355</td>\n",
       "</tr>\n",
       "<tr>\n",
       "  <th>study_hours</th>         <td>    0.4839</td> <td>    0.011</td> <td>   43.810</td> <td> 0.000</td> <td>    0.462</td> <td>    0.506</td>\n",
       "</tr>\n",
       "</table>\n",
       "<table class=\"simpletable\">\n",
       "<tr>\n",
       "  <th>Omnibus:</th>       <td> 1.754</td> <th>  Durbin-Watson:     </th> <td>   2.173</td>\n",
       "</tr>\n",
       "<tr>\n",
       "  <th>Prob(Omnibus):</th> <td> 0.416</td> <th>  Jarque-Bera (JB):  </th> <td>   1.216</td>\n",
       "</tr>\n",
       "<tr>\n",
       "  <th>Skew:</th>          <td> 0.231</td> <th>  Prob(JB):          </th> <td>   0.544</td>\n",
       "</tr>\n",
       "<tr>\n",
       "  <th>Kurtosis:</th>      <td> 3.280</td> <th>  Cond. No.          </th> <td>    228.</td>\n",
       "</tr>\n",
       "</table><br/><br/>Notes:<br/>[1] Standard Errors assume that the covariance matrix of the errors is correctly specified."
      ],
      "text/latex": [
       "\\begin{center}\n",
       "\\begin{tabular}{lclc}\n",
       "\\toprule\n",
       "\\textbf{Dep. Variable:}       &      score       & \\textbf{  R-squared:         } &     0.969   \\\\\n",
       "\\textbf{Model:}               &       OLS        & \\textbf{  Adj. R-squared:    } &     0.968   \\\\\n",
       "\\textbf{Method:}              &  Least Squares   & \\textbf{  F-statistic:       } &     991.9   \\\\\n",
       "\\textbf{Date:}                & Thu, 28 Nov 2024 & \\textbf{  Prob (F-statistic):} &  4.42e-72   \\\\\n",
       "\\textbf{Time:}                &     14:13:11     & \\textbf{  Log-Likelihood:    } &   -238.89   \\\\\n",
       "\\textbf{No. Observations:}    &         100      & \\textbf{  AIC:               } &     485.8   \\\\\n",
       "\\textbf{Df Residuals:}        &          96      & \\textbf{  BIC:               } &     496.2   \\\\\n",
       "\\textbf{Df Model:}            &           3      & \\textbf{                     } &             \\\\\n",
       "\\textbf{Covariance Type:}     &    nonrobust     & \\textbf{                     } &             \\\\\n",
       "\\bottomrule\n",
       "\\end{tabular}\n",
       "\\begin{tabular}{lcccccc}\n",
       "                              & \\textbf{coef} & \\textbf{std err} & \\textbf{t} & \\textbf{P$> |$t$|$} & \\textbf{[0.025} & \\textbf{0.975]}  \\\\\n",
       "\\midrule\n",
       "\\textbf{Intercept}            &      59.2111  &        0.799     &    74.147  &         0.000        &       57.626    &       60.796     \\\\\n",
       "\\textbf{material\\_type[T.도서]} &      -8.6696  &        0.678     &   -12.778  &         0.000        &      -10.016    &       -7.323     \\\\\n",
       "\\textbf{material\\_type[T.독학]} &     -17.6129  &        0.634     &   -27.790  &         0.000        &      -18.871    &      -16.355     \\\\\n",
       "\\textbf{study\\_hours}         &       0.4839  &        0.011     &    43.810  &         0.000        &        0.462    &        0.506     \\\\\n",
       "\\bottomrule\n",
       "\\end{tabular}\n",
       "\\begin{tabular}{lclc}\n",
       "\\textbf{Omnibus:}       &  1.754 & \\textbf{  Durbin-Watson:     } &    2.173  \\\\\n",
       "\\textbf{Prob(Omnibus):} &  0.416 & \\textbf{  Jarque-Bera (JB):  } &    1.216  \\\\\n",
       "\\textbf{Skew:}          &  0.231 & \\textbf{  Prob(JB):          } &    0.544  \\\\\n",
       "\\textbf{Kurtosis:}      &  3.280 & \\textbf{  Cond. No.          } &     228.  \\\\\n",
       "\\bottomrule\n",
       "\\end{tabular}\n",
       "%\\caption{OLS Regression Results}\n",
       "\\end{center}\n",
       "\n",
       "Notes: \\newline\n",
       " [1] Standard Errors assume that the covariance matrix of the errors is correctly specified."
      ],
      "text/plain": [
       "<class 'statsmodels.iolib.summary.Summary'>\n",
       "\"\"\"\n",
       "                            OLS Regression Results                            \n",
       "==============================================================================\n",
       "Dep. Variable:                  score   R-squared:                       0.969\n",
       "Model:                            OLS   Adj. R-squared:                  0.968\n",
       "Method:                 Least Squares   F-statistic:                     991.9\n",
       "Date:                Thu, 28 Nov 2024   Prob (F-statistic):           4.42e-72\n",
       "Time:                        14:13:11   Log-Likelihood:                -238.89\n",
       "No. Observations:                 100   AIC:                             485.8\n",
       "Df Residuals:                      96   BIC:                             496.2\n",
       "Df Model:                           3                                         \n",
       "Covariance Type:            nonrobust                                         \n",
       "=======================================================================================\n",
       "                          coef    std err          t      P>|t|      [0.025      0.975]\n",
       "---------------------------------------------------------------------------------------\n",
       "Intercept              59.2111      0.799     74.147      0.000      57.626      60.796\n",
       "material_type[T.도서]    -8.6696      0.678    -12.778      0.000     -10.016      -7.323\n",
       "material_type[T.독학]   -17.6129      0.634    -27.790      0.000     -18.871     -16.355\n",
       "study_hours             0.4839      0.011     43.810      0.000       0.462       0.506\n",
       "==============================================================================\n",
       "Omnibus:                        1.754   Durbin-Watson:                   2.173\n",
       "Prob(Omnibus):                  0.416   Jarque-Bera (JB):                1.216\n",
       "Skew:                           0.231   Prob(JB):                        0.544\n",
       "Kurtosis:                       3.280   Cond. No.                         228.\n",
       "==============================================================================\n",
       "\n",
       "Notes:\n",
       "[1] Standard Errors assume that the covariance matrix of the errors is correctly specified.\n",
       "\"\"\""
      ]
     },
     "execution_count": 83,
     "metadata": {},
     "output_type": "execute_result"
    }
   ],
   "source": [
    "# regression of score based on the others\n",
    "from statsmodels.formula.api import ols\n",
    "model = ols('score ~ study_hours + material_type', study).fit()\n",
    "model.summary()"
   ]
  },
  {
   "cell_type": "markdown",
   "id": "c0ec409a-9996-45e0-aef7-a6b54c9a9e2a",
   "metadata": {},
   "source": [
    "The regression model reads score = Intercept -8.6696 * material_type[T.도서] -17.6129 * material_type[T.독학] + 0.4839 * study_hours\t"
   ]
  }
 ],
 "metadata": {
  "kernelspec": {
   "display_name": "Python 3 (ipykernel)",
   "language": "python",
   "name": "python3"
  },
  "language_info": {
   "codemirror_mode": {
    "name": "ipython",
    "version": 3
   },
   "file_extension": ".py",
   "mimetype": "text/x-python",
   "name": "python",
   "nbconvert_exporter": "python",
   "pygments_lexer": "ipython3",
   "version": "3.12.7"
  }
 },
 "nbformat": 4,
 "nbformat_minor": 5
}
