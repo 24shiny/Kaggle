{
 "cells": [
  {
   "cell_type": "code",
   "execution_count": 1,
   "id": "0bd81222-2fac-4a6a-bd7f-d287cba0d113",
   "metadata": {},
   "outputs": [
    {
     "data": {
      "text/html": [
       "<div>\n",
       "<style scoped>\n",
       "    .dataframe tbody tr th:only-of-type {\n",
       "        vertical-align: middle;\n",
       "    }\n",
       "\n",
       "    .dataframe tbody tr th {\n",
       "        vertical-align: top;\n",
       "    }\n",
       "\n",
       "    .dataframe thead th {\n",
       "        text-align: right;\n",
       "    }\n",
       "</style>\n",
       "<table border=\"1\" class=\"dataframe\">\n",
       "  <thead>\n",
       "    <tr style=\"text-align: right;\">\n",
       "      <th></th>\n",
       "      <th>discount</th>\n",
       "      <th>temperature</th>\n",
       "      <th>advertisement</th>\n",
       "      <th>sales</th>\n",
       "    </tr>\n",
       "  </thead>\n",
       "  <tbody>\n",
       "    <tr>\n",
       "      <th>0</th>\n",
       "      <td>28</td>\n",
       "      <td>15</td>\n",
       "      <td>342</td>\n",
       "      <td>635</td>\n",
       "    </tr>\n",
       "    <tr>\n",
       "      <th>1</th>\n",
       "      <td>24</td>\n",
       "      <td>34</td>\n",
       "      <td>666</td>\n",
       "      <td>958</td>\n",
       "    </tr>\n",
       "    <tr>\n",
       "      <th>2</th>\n",
       "      <td>13</td>\n",
       "      <td>15</td>\n",
       "      <td>224</td>\n",
       "      <td>525</td>\n",
       "    </tr>\n",
       "    <tr>\n",
       "      <th>3</th>\n",
       "      <td>0</td>\n",
       "      <td>22</td>\n",
       "      <td>764</td>\n",
       "      <td>25</td>\n",
       "    </tr>\n",
       "    <tr>\n",
       "      <th>4</th>\n",
       "      <td>27</td>\n",
       "      <td>29</td>\n",
       "      <td>148</td>\n",
       "      <td>607</td>\n",
       "    </tr>\n",
       "  </tbody>\n",
       "</table>\n",
       "</div>"
      ],
      "text/plain": [
       "   discount  temperature  advertisement  sales\n",
       "0        28           15            342    635\n",
       "1        24           34            666    958\n",
       "2        13           15            224    525\n",
       "3         0           22            764     25\n",
       "4        27           29            148    607"
      ]
     },
     "execution_count": 1,
     "metadata": {},
     "output_type": "execute_result"
    }
   ],
   "source": [
    "# multiple linear regression\n",
    "import pandas as pd\n",
    "df = pd.DataFrame({\n",
    "    'discount': [28, 24, 13, 0, 27, 30, 10, 16, 6, 5, 7, 11, 11, 30, 25,\n",
    "            4, 7, 24, 19, 21, 6, 10, 26, 13, 15, 6, 12, 6, 20, 2],\n",
    "    'temperature': [15, 34, 15, 22, 29, 30, 14, 17, 28, 29, 19, 19, 34, 10,\n",
    "           29, 28, 12, 25, 32, 28, 22, 16, 30, 11, 16, 18, 16, 33, 12, 22],\n",
    "    'advertisement': [342, 666, 224, 764, 148, 499, 711, 596, 797, 484, 986, 347, 146, 362, 642,\n",
    "            591, 846, 260, 560, 941, 469, 309, 730, 305, 892, 147, 887, 526, 525, 884],\n",
    "    'sales': [635, 958, 525, 25, 607, 872, 858, 732, 1082, 863, 904, 686, 699, 615, 893,\n",
    "            830, 856, 679, 918, 951, 789, 583, 988, 631, 866, 549, 910, 946, 647, 943]\n",
    "})\n",
    "df.head()"
   ]
  },
  {
   "cell_type": "code",
   "execution_count": 3,
   "id": "5ce5eace-0e8e-4bd6-9d28-efc27c8c8fdc",
   "metadata": {},
   "outputs": [
    {
     "data": {
      "text/html": [
       "<table class=\"simpletable\">\n",
       "<caption>OLS Regression Results</caption>\n",
       "<tr>\n",
       "  <th>Dep. Variable:</th>          <td>sales</td>      <th>  R-squared:         </th> <td>   0.400</td>\n",
       "</tr>\n",
       "<tr>\n",
       "  <th>Model:</th>                   <td>OLS</td>       <th>  Adj. R-squared:    </th> <td>   0.330</td>\n",
       "</tr>\n",
       "<tr>\n",
       "  <th>Method:</th>             <td>Least Squares</td>  <th>  F-statistic:       </th> <td>   5.770</td>\n",
       "</tr>\n",
       "<tr>\n",
       "  <th>Date:</th>             <td>Thu, 28 Nov 2024</td> <th>  Prob (F-statistic):</th>  <td>0.00366</td>\n",
       "</tr>\n",
       "<tr>\n",
       "  <th>Time:</th>                 <td>22:58:27</td>     <th>  Log-Likelihood:    </th> <td> -194.11</td>\n",
       "</tr>\n",
       "<tr>\n",
       "  <th>No. Observations:</th>      <td>    30</td>      <th>  AIC:               </th> <td>   396.2</td>\n",
       "</tr>\n",
       "<tr>\n",
       "  <th>Df Residuals:</th>          <td>    26</td>      <th>  BIC:               </th> <td>   401.8</td>\n",
       "</tr>\n",
       "<tr>\n",
       "  <th>Df Model:</th>              <td>     3</td>      <th>                     </th>     <td> </td>   \n",
       "</tr>\n",
       "<tr>\n",
       "  <th>Covariance Type:</th>      <td>nonrobust</td>    <th>                     </th>     <td> </td>   \n",
       "</tr>\n",
       "</table>\n",
       "<table class=\"simpletable\">\n",
       "<tr>\n",
       "        <td></td>           <th>coef</th>     <th>std err</th>      <th>t</th>      <th>P>|t|</th>  <th>[0.025</th>    <th>0.975]</th>  \n",
       "</tr>\n",
       "<tr>\n",
       "  <th>Intercept</th>     <td>  267.6609</td> <td>  129.985</td> <td>    2.059</td> <td> 0.050</td> <td>    0.472</td> <td>  534.849</td>\n",
       "</tr>\n",
       "<tr>\n",
       "  <th>advertisement</th> <td>    0.4148</td> <td>    0.125</td> <td>    3.310</td> <td> 0.003</td> <td>    0.157</td> <td>    0.672</td>\n",
       "</tr>\n",
       "<tr>\n",
       "  <th>discount</th>      <td>    4.2068</td> <td>    3.549</td> <td>    1.185</td> <td> 0.247</td> <td>   -3.089</td> <td>   11.503</td>\n",
       "</tr>\n",
       "<tr>\n",
       "  <th>temperature</th>   <td>    9.4798</td> <td>    4.098</td> <td>    2.313</td> <td> 0.029</td> <td>    1.057</td> <td>   17.903</td>\n",
       "</tr>\n",
       "</table>\n",
       "<table class=\"simpletable\">\n",
       "<tr>\n",
       "  <th>Omnibus:</th>       <td>56.788</td> <th>  Durbin-Watson:     </th> <td>   1.647</td>\n",
       "</tr>\n",
       "<tr>\n",
       "  <th>Prob(Omnibus):</th> <td> 0.000</td> <th>  Jarque-Bera (JB):  </th> <td> 419.005</td>\n",
       "</tr>\n",
       "<tr>\n",
       "  <th>Skew:</th>          <td>-3.845</td> <th>  Prob(JB):          </th> <td>1.03e-91</td>\n",
       "</tr>\n",
       "<tr>\n",
       "  <th>Kurtosis:</th>      <td>19.616</td> <th>  Cond. No.          </th> <td>2.58e+03</td>\n",
       "</tr>\n",
       "</table><br/><br/>Notes:<br/>[1] Standard Errors assume that the covariance matrix of the errors is correctly specified.<br/>[2] The condition number is large, 2.58e+03. This might indicate that there are<br/>strong multicollinearity or other numerical problems."
      ],
      "text/latex": [
       "\\begin{center}\n",
       "\\begin{tabular}{lclc}\n",
       "\\toprule\n",
       "\\textbf{Dep. Variable:}    &      sales       & \\textbf{  R-squared:         } &     0.400   \\\\\n",
       "\\textbf{Model:}            &       OLS        & \\textbf{  Adj. R-squared:    } &     0.330   \\\\\n",
       "\\textbf{Method:}           &  Least Squares   & \\textbf{  F-statistic:       } &     5.770   \\\\\n",
       "\\textbf{Date:}             & Thu, 28 Nov 2024 & \\textbf{  Prob (F-statistic):} &  0.00366    \\\\\n",
       "\\textbf{Time:}             &     22:58:27     & \\textbf{  Log-Likelihood:    } &   -194.11   \\\\\n",
       "\\textbf{No. Observations:} &          30      & \\textbf{  AIC:               } &     396.2   \\\\\n",
       "\\textbf{Df Residuals:}     &          26      & \\textbf{  BIC:               } &     401.8   \\\\\n",
       "\\textbf{Df Model:}         &           3      & \\textbf{                     } &             \\\\\n",
       "\\textbf{Covariance Type:}  &    nonrobust     & \\textbf{                     } &             \\\\\n",
       "\\bottomrule\n",
       "\\end{tabular}\n",
       "\\begin{tabular}{lcccccc}\n",
       "                       & \\textbf{coef} & \\textbf{std err} & \\textbf{t} & \\textbf{P$> |$t$|$} & \\textbf{[0.025} & \\textbf{0.975]}  \\\\\n",
       "\\midrule\n",
       "\\textbf{Intercept}     &     267.6609  &      129.985     &     2.059  &         0.050        &        0.472    &      534.849     \\\\\n",
       "\\textbf{advertisement} &       0.4148  &        0.125     &     3.310  &         0.003        &        0.157    &        0.672     \\\\\n",
       "\\textbf{discount}      &       4.2068  &        3.549     &     1.185  &         0.247        &       -3.089    &       11.503     \\\\\n",
       "\\textbf{temperature}   &       9.4798  &        4.098     &     2.313  &         0.029        &        1.057    &       17.903     \\\\\n",
       "\\bottomrule\n",
       "\\end{tabular}\n",
       "\\begin{tabular}{lclc}\n",
       "\\textbf{Omnibus:}       & 56.788 & \\textbf{  Durbin-Watson:     } &    1.647  \\\\\n",
       "\\textbf{Prob(Omnibus):} &  0.000 & \\textbf{  Jarque-Bera (JB):  } &  419.005  \\\\\n",
       "\\textbf{Skew:}          & -3.845 & \\textbf{  Prob(JB):          } & 1.03e-91  \\\\\n",
       "\\textbf{Kurtosis:}      & 19.616 & \\textbf{  Cond. No.          } & 2.58e+03  \\\\\n",
       "\\bottomrule\n",
       "\\end{tabular}\n",
       "%\\caption{OLS Regression Results}\n",
       "\\end{center}\n",
       "\n",
       "Notes: \\newline\n",
       " [1] Standard Errors assume that the covariance matrix of the errors is correctly specified. \\newline\n",
       " [2] The condition number is large, 2.58e+03. This might indicate that there are \\newline\n",
       " strong multicollinearity or other numerical problems."
      ],
      "text/plain": [
       "<class 'statsmodels.iolib.summary.Summary'>\n",
       "\"\"\"\n",
       "                            OLS Regression Results                            \n",
       "==============================================================================\n",
       "Dep. Variable:                  sales   R-squared:                       0.400\n",
       "Model:                            OLS   Adj. R-squared:                  0.330\n",
       "Method:                 Least Squares   F-statistic:                     5.770\n",
       "Date:                Thu, 28 Nov 2024   Prob (F-statistic):            0.00366\n",
       "Time:                        22:58:27   Log-Likelihood:                -194.11\n",
       "No. Observations:                  30   AIC:                             396.2\n",
       "Df Residuals:                      26   BIC:                             401.8\n",
       "Df Model:                           3                                         \n",
       "Covariance Type:            nonrobust                                         \n",
       "=================================================================================\n",
       "                    coef    std err          t      P>|t|      [0.025      0.975]\n",
       "---------------------------------------------------------------------------------\n",
       "Intercept       267.6609    129.985      2.059      0.050       0.472     534.849\n",
       "advertisement     0.4148      0.125      3.310      0.003       0.157       0.672\n",
       "discount          4.2068      3.549      1.185      0.247      -3.089      11.503\n",
       "temperature       9.4798      4.098      2.313      0.029       1.057      17.903\n",
       "==============================================================================\n",
       "Omnibus:                       56.788   Durbin-Watson:                   1.647\n",
       "Prob(Omnibus):                  0.000   Jarque-Bera (JB):              419.005\n",
       "Skew:                          -3.845   Prob(JB):                     1.03e-91\n",
       "Kurtosis:                      19.616   Cond. No.                     2.58e+03\n",
       "==============================================================================\n",
       "\n",
       "Notes:\n",
       "[1] Standard Errors assume that the covariance matrix of the errors is correctly specified.\n",
       "[2] The condition number is large, 2.58e+03. This might indicate that there are\n",
       "strong multicollinearity or other numerical problems.\n",
       "\"\"\""
      ]
     },
     "execution_count": 3,
     "metadata": {},
     "output_type": "execute_result"
    }
   ],
   "source": [
    "from statsmodels.formula.api import ols\n",
    "model = ols('sales ~ advertisement + discount + temperature', df).fit()\n",
    "model.summary()"
   ]
  },
  {
   "cell_type": "code",
   "execution_count": 4,
   "id": "31780d79-ccb7-4482-afe0-c03791aeb052",
   "metadata": {},
   "outputs": [
    {
     "data": {
      "text/plain": [
       "0.09392795276277474"
      ]
     },
     "execution_count": 4,
     "metadata": {},
     "output_type": "execute_result"
    }
   ],
   "source": [
    "# Q1 correlation coefficient between discount and temperature\n",
    "df['discount'].corr(df['temperature'])"
   ]
  },
  {
   "cell_type": "code",
   "execution_count": 9,
   "id": "e9733033-3119-4b60-af60-a2a43ec666e9",
   "metadata": {},
   "outputs": [
    {
     "data": {
      "text/plain": [
       "0.4"
      ]
     },
     "execution_count": 9,
     "metadata": {},
     "output_type": "execute_result"
    }
   ],
   "source": [
    "# Q2 r-squre\n",
    "import numpy as np\n",
    "np.round(model.rsquared, 2)"
   ]
  },
  {
   "cell_type": "code",
   "execution_count": 12,
   "id": "1bcd0f4a-7b0e-4de5-a526-87b74d8d7d6d",
   "metadata": {},
   "outputs": [
    {
     "data": {
      "text/plain": [
       "Intercept        267.660902\n",
       "advertisement      0.414827\n",
       "discount           4.206829\n",
       "temperature        9.479843\n",
       "dtype: float64"
      ]
     },
     "execution_count": 12,
     "metadata": {},
     "output_type": "execute_result"
    }
   ],
   "source": [
    "# Q3 coefficients\n",
    "model.params"
   ]
  },
  {
   "cell_type": "code",
   "execution_count": 13,
   "id": "e4c5beb5-8aca-4f49-a710-0d9ab17ca310",
   "metadata": {},
   "outputs": [
    {
     "data": {
      "text/plain": [
       "267.6609019248274"
      ]
     },
     "execution_count": 13,
     "metadata": {},
     "output_type": "execute_result"
    }
   ],
   "source": [
    "# Q4 intercept\n",
    "model.params['Intercept']"
   ]
  },
  {
   "cell_type": "code",
   "execution_count": 16,
   "id": "6407a56c-2b74-4255-9fb0-ed44cc2ffe1b",
   "metadata": {},
   "outputs": [
    {
     "data": {
      "text/plain": [
       "0.0289"
      ]
     },
     "execution_count": 16,
     "metadata": {},
     "output_type": "execute_result"
    }
   ],
   "source": [
    "# Q5 p-value\n",
    "np.round(model.pvalues['temperature'], 4)"
   ]
  },
  {
   "cell_type": "code",
   "execution_count": 18,
   "id": "73f18907-0e81-4d55-bcfe-57196a6e5e36",
   "metadata": {},
   "outputs": [
    {
     "data": {
      "text/plain": [
       "207912.6107404532"
      ]
     },
     "execution_count": 18,
     "metadata": {},
     "output_type": "execute_result"
    }
   ],
   "source": [
    "## Q6 predict\n",
    "new_data = pd.DataFrame({'discount':[10], 'temperature':[20], 'advertisement':[500000]})\n",
    "model.predict(new_data)[0]"
   ]
  },
  {
   "cell_type": "code",
   "execution_count": 20,
   "id": "7f89e711-c7d8-4952-b371-d9c2850a8dec",
   "metadata": {},
   "outputs": [
    {
     "data": {
      "text/plain": [
       "732197.8988142071"
      ]
     },
     "execution_count": 20,
     "metadata": {},
     "output_type": "execute_result"
    }
   ],
   "source": [
    "# SSE\n",
    "np.sum(model.resid **2)"
   ]
  },
  {
   "cell_type": "code",
   "execution_count": 21,
   "id": "60dafa09-8473-4128-b7b6-9ddfce2f6a58",
   "metadata": {},
   "outputs": [
    {
     "data": {
      "text/plain": [
       "24406.596627140236"
      ]
     },
     "execution_count": 21,
     "metadata": {},
     "output_type": "execute_result"
    }
   ],
   "source": [
    "# MSE\n",
    "np.mean(model.resid **2)"
   ]
  },
  {
   "cell_type": "code",
   "execution_count": 22,
   "id": "33e75c4f-a630-48ad-8f4f-62e6e9c27059",
   "metadata": {},
   "outputs": [
    {
     "data": {
      "text/html": [
       "<div>\n",
       "<style scoped>\n",
       "    .dataframe tbody tr th:only-of-type {\n",
       "        vertical-align: middle;\n",
       "    }\n",
       "\n",
       "    .dataframe tbody tr th {\n",
       "        vertical-align: top;\n",
       "    }\n",
       "\n",
       "    .dataframe thead th {\n",
       "        text-align: right;\n",
       "    }\n",
       "</style>\n",
       "<table border=\"1\" class=\"dataframe\">\n",
       "  <thead>\n",
       "    <tr style=\"text-align: right;\">\n",
       "      <th></th>\n",
       "      <th>0</th>\n",
       "      <th>1</th>\n",
       "    </tr>\n",
       "  </thead>\n",
       "  <tbody>\n",
       "    <tr>\n",
       "      <th>Intercept</th>\n",
       "      <td>0.472382</td>\n",
       "      <td>534.849422</td>\n",
       "    </tr>\n",
       "    <tr>\n",
       "      <th>advertisement</th>\n",
       "      <td>0.157210</td>\n",
       "      <td>0.672443</td>\n",
       "    </tr>\n",
       "    <tr>\n",
       "      <th>discount</th>\n",
       "      <td>-3.089233</td>\n",
       "      <td>11.502892</td>\n",
       "    </tr>\n",
       "    <tr>\n",
       "      <th>temperature</th>\n",
       "      <td>1.056864</td>\n",
       "      <td>17.902822</td>\n",
       "    </tr>\n",
       "  </tbody>\n",
       "</table>\n",
       "</div>"
      ],
      "text/plain": [
       "                      0           1\n",
       "Intercept      0.472382  534.849422\n",
       "advertisement  0.157210    0.672443\n",
       "discount      -3.089233   11.502892\n",
       "temperature    1.056864   17.902822"
      ]
     },
     "execution_count": 22,
     "metadata": {},
     "output_type": "execute_result"
    }
   ],
   "source": [
    "# confidence interval\n",
    "model.conf_int(alpha=0.05)"
   ]
  },
  {
   "cell_type": "code",
   "execution_count": 26,
   "id": "a2ae5ebe-2ced-431c-872d-91833fc8f160",
   "metadata": {},
   "outputs": [
    {
     "data": {
      "text/html": [
       "<div>\n",
       "<style scoped>\n",
       "    .dataframe tbody tr th:only-of-type {\n",
       "        vertical-align: middle;\n",
       "    }\n",
       "\n",
       "    .dataframe tbody tr th {\n",
       "        vertical-align: top;\n",
       "    }\n",
       "\n",
       "    .dataframe thead th {\n",
       "        text-align: right;\n",
       "    }\n",
       "</style>\n",
       "<table border=\"1\" class=\"dataframe\">\n",
       "  <thead>\n",
       "    <tr style=\"text-align: right;\">\n",
       "      <th></th>\n",
       "      <th>mean</th>\n",
       "      <th>mean_se</th>\n",
       "      <th>mean_ci_lower</th>\n",
       "      <th>mean_ci_upper</th>\n",
       "      <th>obs_ci_lower</th>\n",
       "      <th>obs_ci_upper</th>\n",
       "    </tr>\n",
       "  </thead>\n",
       "  <tbody>\n",
       "    <tr>\n",
       "      <th>0</th>\n",
       "      <td>517.993249</td>\n",
       "      <td>75.613396</td>\n",
       "      <td>362.567688</td>\n",
       "      <td>673.418811</td>\n",
       "      <td>139.648259</td>\n",
       "      <td>896.33824</td>\n",
       "    </tr>\n",
       "  </tbody>\n",
       "</table>\n",
       "</div>"
      ],
      "text/plain": [
       "         mean    mean_se  mean_ci_lower  mean_ci_upper  obs_ci_lower  \\\n",
       "0  517.993249  75.613396     362.567688     673.418811    139.648259   \n",
       "\n",
       "   obs_ci_upper  \n",
       "0     896.33824  "
      ]
     },
     "execution_count": 26,
     "metadata": {},
     "output_type": "execute_result"
    }
   ],
   "source": [
    "# confidence and prediction intervals\n",
    "new_data = pd.DataFrame({'advertisement':[45], 'discount':[10], 'temperature':[20]})\n",
    "pred = model.get_prediction(new_data)\n",
    "pred.summary_frame(alpha=0.05)"
   ]
  },
  {
   "cell_type": "code",
   "execution_count": 28,
   "id": "6ef40ca0-790d-4cce-8ca8-e3da3f35e7f6",
   "metadata": {},
   "outputs": [
    {
     "data": {
      "text/plain": [
       "0.0027398053085787755"
      ]
     },
     "execution_count": 28,
     "metadata": {},
     "output_type": "execute_result"
    }
   ],
   "source": [
    "model.pvalues['advertisement'] # reject"
   ]
  },
  {
   "cell_type": "code",
   "execution_count": null,
   "id": "97ff9329-f47b-40c4-9089-a2e4318e5aa8",
   "metadata": {},
   "outputs": [],
   "source": []
  }
 ],
 "metadata": {
  "kernelspec": {
   "display_name": "Python 3 (ipykernel)",
   "language": "python",
   "name": "python3"
  },
  "language_info": {
   "codemirror_mode": {
    "name": "ipython",
    "version": 3
   },
   "file_extension": ".py",
   "mimetype": "text/x-python",
   "name": "python",
   "nbconvert_exporter": "python",
   "pygments_lexer": "ipython3",
   "version": "3.10.0"
  }
 },
 "nbformat": 4,
 "nbformat_minor": 5
}
