{
 "cells": [
  {
   "cell_type": "code",
   "execution_count": 20,
   "id": "bfbfc174-ca70-44a6-8552-1406a15163e6",
   "metadata": {},
   "outputs": [],
   "source": [
    "# weight of a popcorn box\n",
    "import numpy as np\n",
    "import pandas as pd"
   ]
  },
  {
   "cell_type": "code",
   "execution_count": 21,
   "id": "87eb1f25-15ea-4a2a-b087-dc8278ac2ec5",
   "metadata": {},
   "outputs": [
    {
     "data": {
      "text/html": [
       "<div>\n",
       "<style scoped>\n",
       "    .dataframe tbody tr th:only-of-type {\n",
       "        vertical-align: middle;\n",
       "    }\n",
       "\n",
       "    .dataframe tbody tr th {\n",
       "        vertical-align: top;\n",
       "    }\n",
       "\n",
       "    .dataframe thead th {\n",
       "        text-align: right;\n",
       "    }\n",
       "</style>\n",
       "<table border=\"1\" class=\"dataframe\">\n",
       "  <thead>\n",
       "    <tr style=\"text-align: right;\">\n",
       "      <th></th>\n",
       "      <th>weight</th>\n",
       "    </tr>\n",
       "  </thead>\n",
       "  <tbody>\n",
       "    <tr>\n",
       "      <th>0</th>\n",
       "      <td>123</td>\n",
       "    </tr>\n",
       "    <tr>\n",
       "      <th>1</th>\n",
       "      <td>125</td>\n",
       "    </tr>\n",
       "    <tr>\n",
       "      <th>2</th>\n",
       "      <td>125</td>\n",
       "    </tr>\n",
       "    <tr>\n",
       "      <th>3</th>\n",
       "      <td>118</td>\n",
       "    </tr>\n",
       "    <tr>\n",
       "      <th>4</th>\n",
       "      <td>118</td>\n",
       "    </tr>\n",
       "  </tbody>\n",
       "</table>\n",
       "</div>"
      ],
      "text/plain": [
       "   weight\n",
       "0     123\n",
       "1     125\n",
       "2     125\n",
       "3     118\n",
       "4     118"
      ]
     },
     "execution_count": 21,
     "metadata": {},
     "output_type": "execute_result"
    }
   ],
   "source": [
    "# data randomly generated\n",
    "pop = pd.DataFrame({'weight':np.random.randint(110,130,50)})\n",
    "pop.head()"
   ]
  },
  {
   "cell_type": "code",
   "execution_count": 22,
   "id": "89c64656-dff4-4c8a-a2d2-5285fbd2478c",
   "metadata": {},
   "outputs": [
    {
     "data": {
      "image/png": "[encoded data removed]",
      "text/plain": [
       "<Figure size 640x480 with 1 Axes>"
      ]
     },
     "metadata": {},
     "output_type": "display_data"
    }
   ],
   "source": [
    "import matplotlib.pyplot as plt\n",
    "plt.hist(pop['weight'], edgecolor='w', bins=np.arange(110,131,2.5))\n",
    "plt.show()"
   ]
  },
  {
   "cell_type": "code",
   "execution_count": 23,
   "id": "920dfe16-2e6b-4735-9c0d-014a6f130b35",
   "metadata": {},
   "outputs": [
    {
     "data": {
      "text/html": [
       "<div>\n",
       "<style scoped>\n",
       "    .dataframe tbody tr th:only-of-type {\n",
       "        vertical-align: middle;\n",
       "    }\n",
       "\n",
       "    .dataframe tbody tr th {\n",
       "        vertical-align: top;\n",
       "    }\n",
       "\n",
       "    .dataframe thead th {\n",
       "        text-align: right;\n",
       "    }\n",
       "</style>\n",
       "<table border=\"1\" class=\"dataframe\">\n",
       "  <thead>\n",
       "    <tr style=\"text-align: right;\">\n",
       "      <th></th>\n",
       "      <th>weight</th>\n",
       "    </tr>\n",
       "  </thead>\n",
       "  <tbody>\n",
       "    <tr>\n",
       "      <th>0</th>\n",
       "      <td>132.444422</td>\n",
       "    </tr>\n",
       "    <tr>\n",
       "      <th>1</th>\n",
       "      <td>123.939645</td>\n",
       "    </tr>\n",
       "    <tr>\n",
       "      <th>2</th>\n",
       "      <td>117.452454</td>\n",
       "    </tr>\n",
       "    <tr>\n",
       "      <th>3</th>\n",
       "      <td>130.822871</td>\n",
       "    </tr>\n",
       "    <tr>\n",
       "      <th>4</th>\n",
       "      <td>112.204738</td>\n",
       "    </tr>\n",
       "  </tbody>\n",
       "</table>\n",
       "</div>"
      ],
      "text/plain": [
       "       weight\n",
       "0  132.444422\n",
       "1  123.939645\n",
       "2  117.452454\n",
       "3  130.822871\n",
       "4  112.204738"
      ]
     },
     "execution_count": 23,
     "metadata": {},
     "output_type": "execute_result"
    }
   ],
   "source": [
    "# data following the normal distribution\n",
    "pop_normal = pd.DataFrame({'weight':np.random.normal(120,15,50)})\n",
    "pop_normal.head()"
   ]
  },
  {
   "cell_type": "code",
   "execution_count": 24,
   "id": "31a0cce5-0f2d-409b-aaf1-3d3448433e92",
   "metadata": {},
   "outputs": [
    {
     "data": {
      "image/png": "[encoded data removed]",
      "text/plain": [
       "<Figure size 640x480 with 1 Axes>"
      ]
     },
     "metadata": {},
     "output_type": "display_data"
    }
   ],
   "source": [
    "plt.hist(pop_normal['weight'], edgecolor='w', bins=np.arange(110,131,2.5))\n",
    "plt.show()"
   ]
  },
  {
   "cell_type": "code",
   "execution_count": 31,
   "id": "ccf7b55d-ca4d-42b4-896b-2974d243d672",
   "metadata": {},
   "outputs": [
    {
     "data": {
      "text/html": [
       "<div>\n",
       "<style scoped>\n",
       "    .dataframe tbody tr th:only-of-type {\n",
       "        vertical-align: middle;\n",
       "    }\n",
       "\n",
       "    .dataframe tbody tr th {\n",
       "        vertical-align: top;\n",
       "    }\n",
       "\n",
       "    .dataframe thead th {\n",
       "        text-align: right;\n",
       "    }\n",
       "</style>\n",
       "<table border=\"1\" class=\"dataframe\">\n",
       "  <thead>\n",
       "    <tr style=\"text-align: right;\">\n",
       "      <th></th>\n",
       "      <th>weight</th>\n",
       "    </tr>\n",
       "  </thead>\n",
       "  <tbody>\n",
       "    <tr>\n",
       "      <th>0</th>\n",
       "      <td>106.394317</td>\n",
       "    </tr>\n",
       "    <tr>\n",
       "      <th>1</th>\n",
       "      <td>111.684102</td>\n",
       "    </tr>\n",
       "    <tr>\n",
       "      <th>2</th>\n",
       "      <td>140.633066</td>\n",
       "    </tr>\n",
       "    <tr>\n",
       "      <th>3</th>\n",
       "      <td>126.734940</td>\n",
       "    </tr>\n",
       "    <tr>\n",
       "      <th>4</th>\n",
       "      <td>108.792883</td>\n",
       "    </tr>\n",
       "  </tbody>\n",
       "</table>\n",
       "</div>"
      ],
      "text/plain": [
       "       weight\n",
       "0  106.394317\n",
       "1  111.684102\n",
       "2  140.633066\n",
       "3  126.734940\n",
       "4  108.792883"
      ]
     },
     "execution_count": 31,
     "metadata": {},
     "output_type": "execute_result"
    }
   ],
   "source": [
    "# data following the normal distribution\n",
    "pop_normal2 = pd.DataFrame({'weight':np.random.normal(110,15,50)})\n",
    "pop_normal2.head()"
   ]
  },
  {
   "cell_type": "code",
   "execution_count": 32,
   "id": "287452c7-f165-42a1-8970-a6702808232d",
   "metadata": {},
   "outputs": [
    {
     "data": {
      "image/png": "[encoded data removed]",
      "text/plain": [
       "<Figure size 640x480 with 1 Axes>"
      ]
     },
     "metadata": {},
     "output_type": "display_data"
    }
   ],
   "source": [
    "plt.hist(pop_normal2['weight'], edgecolor='w', bins=np.arange(95,125,2.5))\n",
    "plt.show()"
   ]
  },
  {
   "cell_type": "code",
   "execution_count": 33,
   "id": "e6139841-2949-4b81-9fe6-1aedcf99294c",
   "metadata": {},
   "outputs": [
    {
     "name": "stdout",
     "output_type": "stream",
     "text": [
      "pop :  ShapiroResult(statistic=0.9565582948756922, pvalue=0.06380046451416302)\n",
      "pop_normal :  ShapiroResult(statistic=0.9805500473542228, pvalue=0.5753841036935687)\n",
      "pop_normal :  ShapiroResult(statistic=0.9708437402024751, pvalue=0.250396139301143)\n"
     ]
    }
   ],
   "source": [
    "# test its normality first with Shapro-Wilk test\n",
    "from scipy import stats\n",
    "print('pop : ', stats.shapiro(pop['weight']))\n",
    "print('pop_normal : ', stats.shapiro(pop_normal['weight']))\n",
    "print('pop_normal : ', stats.shapiro(pop_normal2['weight']))"
   ]
  },
  {
   "cell_type": "markdown",
   "id": "d1e917fd-144f-4dd3-956d-ee134209da64",
   "metadata": {},
   "source": [
    "Whereas the pop does not follow the normal distribution, the others do. Use the <strong>Wilcoxon test</strong> for the non-normal distribution and <strong>t-test</strong> for the other."
   ]
  },
  {
   "cell_type": "markdown",
   "id": "9964982e-ac77-4004-a4d8-1613751a5fd3",
   "metadata": {},
   "source": [
    "T1. <strong>two-tailed test</strong>\n",
    "<ul>\n",
    "    <li>H0 : the average weight of popcorn boxes is 120</li>\n",
    "    <li>H1 : the average weight of popcorn boxes is not 120</li>\n",
    "</ul>"
   ]
  },
  {
   "cell_type": "code",
   "execution_count": 29,
   "id": "c386dfd2-0fdf-4e53-bdec-f74750b55fa6",
   "metadata": {},
   "outputs": [
    {
     "name": "stdout",
     "output_type": "stream",
     "text": [
      "pop :  WilcoxonResult(statistic=384.0, pvalue=0.056324175794697076)\n",
      "pop_normal :  TtestResult(statistic=0.9208170180265041, pvalue=0.3616574014048297, df=49)\n"
     ]
    }
   ],
   "source": [
    "from scipy import stats\n",
    "print('pop : ', stats.wilcoxon(pop['weight']-120))\n",
    "print('pop_normal : ', stats.ttest_1samp(pop_normal['weight'], 120))"
   ]
  },
  {
   "cell_type": "markdown",
   "id": "b2d8175a-2424-4c2c-b236-230e092515d1",
   "metadata": {},
   "source": [
    "In both cases, we <strong>accept the H0</strong> as their pvalues are higher than the significant level 0.05."
   ]
  },
  {
   "cell_type": "code",
   "execution_count": 34,
   "id": "c5adf9b3-8e7e-49f8-a91a-5ca9bc716c1b",
   "metadata": {},
   "outputs": [
    {
     "name": "stdout",
     "output_type": "stream",
     "text": [
      "pop_normal :  TtestResult(statistic=-5.125080313329174, pvalue=5.030467050265728e-06, df=49)\n"
     ]
    }
   ],
   "source": [
    "print('pop_normal : ', stats.ttest_1samp(pop_normal2['weight'], 120))"
   ]
  },
  {
   "cell_type": "markdown",
   "id": "cacf9664-1c9d-44ea-b459-13f2f6b17dd1",
   "metadata": {},
   "source": [
    "In the third case, we reject H0 and thereby conclude that their mean is not 120."
   ]
  },
  {
   "cell_type": "markdown",
   "id": "df88f24e-56bd-4526-b703-8cf1544d789c",
   "metadata": {},
   "source": [
    "T2. <strong>one-tailed test</strong>\n",
    "<br>(1) Left test \n",
    "<ul>\n",
    "    <li>H0 : m = 120</li>\n",
    "    <li>H1 : m &lt; 120</li>\n",
    "</ul>\n",
    "(2) Right test\n",
    "<ul>\n",
    "    <li>H0 : m = 120</li>\n",
    "    <li>H1 : 120 &lt; m</li>\n",
    "</ul>\n",
    "&#42;Note that the equal sign is not allowed for H1."
   ]
  },
  {
   "cell_type": "code",
   "execution_count": 38,
   "id": "d5f1c1df-889e-40ae-8f88-0b53f86648a9",
   "metadata": {},
   "outputs": [
    {
     "name": "stdout",
     "output_type": "stream",
     "text": [
      "pop :  WilcoxonResult(statistic=384.0, pvalue=0.028162087897348538)\n",
      "pop_normal :  TtestResult(statistic=0.9208170180265041, pvalue=0.8191712992975851, df=49)\n",
      "pop_normal2 :  TtestResult(statistic=-5.125080313329174, pvalue=2.515233525132864e-06, df=49)\n"
     ]
    }
   ],
   "source": [
    "# Left test (alternative='less')\n",
    "print('pop : ', stats.wilcoxon(pop['weight']-120, alternative='less'))\n",
    "print('pop_normal : ', stats.ttest_1samp(pop_normal['weight'], 120, alternative='less'))\n",
    "print('pop_normal2 : ', stats.ttest_1samp(pop_normal2['weight'], 120, alternative='less'))"
   ]
  },
  {
   "cell_type": "markdown",
   "id": "da97d446-1375-4070-8b83-b9befb35f6be",
   "metadata": {},
   "source": [
    "Accept H0 only in the second case. The aplha error occurs in the first!"
   ]
  },
  {
   "cell_type": "code",
   "execution_count": 39,
   "id": "a13e9c84-5428-4bf5-a1db-b7d6f98b86ec",
   "metadata": {},
   "outputs": [
    {
     "name": "stdout",
     "output_type": "stream",
     "text": [
      "pop :  WilcoxonResult(statistic=384.0, pvalue=0.9718379121026515)\n",
      "pop_normal :  TtestResult(statistic=0.9208170180265041, pvalue=0.18082870070241486, df=49)\n",
      "pop_normal2 :  TtestResult(statistic=-5.125080313329174, pvalue=0.9999974847664749, df=49)\n"
     ]
    }
   ],
   "source": [
    "# Right test (alternative='less')\n",
    "print('pop : ', stats.wilcoxon(pop['weight']-120, alternative='greater'))\n",
    "print('pop_normal : ', stats.ttest_1samp(pop_normal['weight'], 120, alternative='greater'))\n",
    "print('pop_normal2 : ', stats.ttest_1samp(pop_normal2['weight'], 120, alternative='greater'))"
   ]
  },
  {
   "cell_type": "markdown",
   "id": "456f116a-5025-4455-8047-3d4cfd249017",
   "metadata": {},
   "source": [
    "Accept H0 in all the cases; the beta error occurs in the last."
   ]
  }
 ],
 "metadata": {
  "kernelspec": {
   "display_name": "Python 3 (ipykernel)",
   "language": "python",
   "name": "python3"
  },
  "language_info": {
   "codemirror_mode": {
    "name": "ipython",
    "version": 3
   },
   "file_extension": ".py",
   "mimetype": "text/x-python",
   "name": "python",
   "nbconvert_exporter": "python",
   "pygments_lexer": "ipython3",
   "version": "3.10.0"
  }
 },
 "nbformat": 4,
 "nbformat_minor": 5
}
