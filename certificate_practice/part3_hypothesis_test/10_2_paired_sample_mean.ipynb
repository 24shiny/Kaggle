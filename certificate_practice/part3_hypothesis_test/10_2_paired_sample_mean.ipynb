{
 "cells": [
  {
   "cell_type": "code",
   "execution_count": 1,
   "id": "223c0d6b-d00f-4277-a885-0a342d01d7d7",
   "metadata": {},
   "outputs": [
    {
     "data": {
      "text/html": [
       "<div>\n",
       "<style scoped>\n",
       "    .dataframe tbody tr th:only-of-type {\n",
       "        vertical-align: middle;\n",
       "    }\n",
       "\n",
       "    .dataframe tbody tr th {\n",
       "        vertical-align: top;\n",
       "    }\n",
       "\n",
       "    .dataframe thead th {\n",
       "        text-align: right;\n",
       "    }\n",
       "</style>\n",
       "<table border=\"1\" class=\"dataframe\">\n",
       "  <thead>\n",
       "    <tr style=\"text-align: right;\">\n",
       "      <th></th>\n",
       "      <th>charger</th>\n",
       "      <th>charging_time</th>\n",
       "    </tr>\n",
       "  </thead>\n",
       "  <tbody>\n",
       "    <tr>\n",
       "      <th>0</th>\n",
       "      <td>New</td>\n",
       "      <td>1.5</td>\n",
       "    </tr>\n",
       "    <tr>\n",
       "      <th>1</th>\n",
       "      <td>New</td>\n",
       "      <td>1.6</td>\n",
       "    </tr>\n",
       "    <tr>\n",
       "      <th>2</th>\n",
       "      <td>New</td>\n",
       "      <td>1.4</td>\n",
       "    </tr>\n",
       "    <tr>\n",
       "      <th>3</th>\n",
       "      <td>New</td>\n",
       "      <td>1.7</td>\n",
       "    </tr>\n",
       "    <tr>\n",
       "      <th>4</th>\n",
       "      <td>New</td>\n",
       "      <td>1.5</td>\n",
       "    </tr>\n",
       "    <tr>\n",
       "      <th>5</th>\n",
       "      <td>New</td>\n",
       "      <td>1.6</td>\n",
       "    </tr>\n",
       "    <tr>\n",
       "      <th>6</th>\n",
       "      <td>New</td>\n",
       "      <td>1.7</td>\n",
       "    </tr>\n",
       "    <tr>\n",
       "      <th>7</th>\n",
       "      <td>New</td>\n",
       "      <td>1.4</td>\n",
       "    </tr>\n",
       "    <tr>\n",
       "      <th>8</th>\n",
       "      <td>New</td>\n",
       "      <td>1.6</td>\n",
       "    </tr>\n",
       "    <tr>\n",
       "      <th>9</th>\n",
       "      <td>New</td>\n",
       "      <td>1.5</td>\n",
       "    </tr>\n",
       "    <tr>\n",
       "      <th>10</th>\n",
       "      <td>Old</td>\n",
       "      <td>1.7</td>\n",
       "    </tr>\n",
       "    <tr>\n",
       "      <th>11</th>\n",
       "      <td>Old</td>\n",
       "      <td>1.8</td>\n",
       "    </tr>\n",
       "    <tr>\n",
       "      <th>12</th>\n",
       "      <td>Old</td>\n",
       "      <td>1.7</td>\n",
       "    </tr>\n",
       "    <tr>\n",
       "      <th>13</th>\n",
       "      <td>Old</td>\n",
       "      <td>1.9</td>\n",
       "    </tr>\n",
       "    <tr>\n",
       "      <th>14</th>\n",
       "      <td>Old</td>\n",
       "      <td>1.8</td>\n",
       "    </tr>\n",
       "    <tr>\n",
       "      <th>15</th>\n",
       "      <td>Old</td>\n",
       "      <td>1.7</td>\n",
       "    </tr>\n",
       "    <tr>\n",
       "      <th>16</th>\n",
       "      <td>Old</td>\n",
       "      <td>1.8</td>\n",
       "    </tr>\n",
       "    <tr>\n",
       "      <th>17</th>\n",
       "      <td>Old</td>\n",
       "      <td>1.9</td>\n",
       "    </tr>\n",
       "    <tr>\n",
       "      <th>18</th>\n",
       "      <td>Old</td>\n",
       "      <td>1.7</td>\n",
       "    </tr>\n",
       "    <tr>\n",
       "      <th>19</th>\n",
       "      <td>Old</td>\n",
       "      <td>1.6</td>\n",
       "    </tr>\n",
       "  </tbody>\n",
       "</table>\n",
       "</div>"
      ],
      "text/plain": [
       "   charger  charging_time\n",
       "0      New            1.5\n",
       "1      New            1.6\n",
       "2      New            1.4\n",
       "3      New            1.7\n",
       "4      New            1.5\n",
       "5      New            1.6\n",
       "6      New            1.7\n",
       "7      New            1.4\n",
       "8      New            1.6\n",
       "9      New            1.5\n",
       "10     Old            1.7\n",
       "11     Old            1.8\n",
       "12     Old            1.7\n",
       "13     Old            1.9\n",
       "14     Old            1.8\n",
       "15     Old            1.7\n",
       "16     Old            1.8\n",
       "17     Old            1.9\n",
       "18     Old            1.7\n",
       "19     Old            1.6"
      ]
     },
     "execution_count": 1,
     "metadata": {},
     "output_type": "execute_result"
    }
   ],
   "source": [
    "# 2. paired sample mean\n",
    "\n",
    "# test if a new charger shortens the charging time (m1 < m2)\n",
    "# m1 - avaerage charging time of new chargers, m2 - avaerage charging time of old ones \n",
    "import pandas as pd\n",
    "df = pd.DataFrame({\n",
    "    'charger': ['New'] * 10 + ['Old'] * 10,\n",
    "    'charging_time': [\n",
    "        1.5, 1.6, 1.4, 1.7, 1.5, 1.6, 1.7, 1.4, 1.6, 1.5,\n",
    "        1.7, 1.8, 1.7, 1.9, 1.8, 1.7, 1.8, 1.9, 1.7, 1.6\n",
    "    ]\n",
    "})\n",
    "df"
   ]
  },
  {
   "cell_type": "code",
   "execution_count": 3,
   "id": "01fb1f11-c08e-4402-b245-d06a4cb05508",
   "metadata": {},
   "outputs": [
    {
     "name": "stdout",
     "output_type": "stream",
     "text": [
      "ShapiroResult(statistic=np.float64(0.9065684572704982), pvalue=np.float64(0.25824165549017347))\n",
      "ShapiroResult(statistic=np.float64(0.9044355911726943), pvalue=np.float64(0.2449121806027384))\n"
     ]
    }
   ],
   "source": [
    "# test statistic\n",
    "from scipy import stats\n",
    "new = df['charging_time'][:10]\n",
    "old = df['charging_time'][10:]\n",
    "\n",
    "print(stats.shapiro(new)) # nomral\n",
    "print(stats.shapiro(old)) # normal"
   ]
  },
  {
   "cell_type": "code",
   "execution_count": 4,
   "id": "a3fd68f9-bb0c-4fbe-b97e-6ba3403d18d7",
   "metadata": {},
   "outputs": [
    {
     "data": {
      "text/plain": [
       "TtestResult(statistic=np.float64(-5.161161099269953), pvalue=np.float64(0.00029708272166432866), df=np.int64(9))"
      ]
     },
     "execution_count": 4,
     "metadata": {},
     "output_type": "execute_result"
    }
   ],
   "source": [
    "stats.ttest_rel(new, old, alternative='less')"
   ]
  },
  {
   "cell_type": "markdown",
   "id": "a5cb51a1-f910-4a5b-9f51-ed0029878a40",
   "metadata": {},
   "source": [
    "Reject H0 and conclude that the new charger is effective in shortening the charging time"
   ]
  },
  {
   "cell_type": "code",
   "execution_count": 6,
   "id": "65bb0ebb-16fe-4823-aaea-5e74929ef117",
   "metadata": {},
   "outputs": [
    {
     "data": {
      "text/plain": [
       "np.float64(0.00029708272166432866)"
      ]
     },
     "execution_count": 6,
     "metadata": {},
     "output_type": "execute_result"
    }
   ],
   "source": [
    "# p-value of the test\n",
    "stats.ttest_rel(new, old, alternative='less').pvalue"
   ]
  },
  {
   "cell_type": "raw",
   "id": "a8a87494-5a03-49be-8a9b-5c3d034ac67c",
   "metadata": {},
   "source": [
    "# accept or reject the H0?\n",
    "-> REJECT"
   ]
  }
 ],
 "metadata": {
  "kernelspec": {
   "display_name": "Python 3 (ipykernel)",
   "language": "python",
   "name": "python3"
  },
  "language_info": {
   "codemirror_mode": {
    "name": "ipython",
    "version": 3
   },
   "file_extension": ".py",
   "mimetype": "text/x-python",
   "name": "python",
   "nbconvert_exporter": "python",
   "pygments_lexer": "ipython3",
   "version": "3.12.7"
  }
 },
 "nbformat": 4,
 "nbformat_minor": 5
}
