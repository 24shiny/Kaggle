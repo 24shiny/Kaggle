{
 "cells": [
  {
   "cell_type": "code",
   "execution_count": 1,
   "id": "fd8e0785-c9da-4f6c-99c2-d6dd9c1e2a0b",
   "metadata": {},
   "outputs": [],
   "source": [
    "import pandas as pd\n",
    "import numpy as np"
   ]
  },
  {
   "cell_type": "code",
   "execution_count": 2,
   "id": "03fc1ead-5149-4f16-b89f-1e758b407f9a",
   "metadata": {},
   "outputs": [],
   "source": [
    "# math scores of two three as an example\n",
    "class1 = np.random.randint(50,100,50)\n",
    "class1_normal = np.random.normal(80, 20, 50)\n",
    "class2 = np.random.randint(50,100,50)\n",
    "class2_normal = np.random.normal(60, 20, 50)\n",
    "class3 = np.random.randint(50,100,50)\n",
    "class3_normal = np.random.normal(80, 10, 50)"
   ]
  },
  {
   "cell_type": "code",
   "execution_count": 6,
   "id": "8c145244-1a14-44c1-ae61-2fbed5e41a11",
   "metadata": {},
   "outputs": [
    {
     "name": "stdout",
     "output_type": "stream",
     "text": [
      "74.48\n",
      "82.488928409479\n",
      "76.7\n",
      "63.09538681216201\n",
      "76.66\n",
      "84.16552911582532\n"
     ]
    }
   ],
   "source": [
    "print(np.mean(class1))\n",
    "print(np.mean(class1_normal))\n",
    "print(np.mean(class2))\n",
    "print(np.mean(class2_normal))\n",
    "print(np.mean(class3))\n",
    "print(np.mean(class3_normal))"
   ]
  },
  {
   "cell_type": "code",
   "execution_count": 3,
   "id": "73420d05-8dc3-49f1-8377-ac64336983e8",
   "metadata": {},
   "outputs": [
    {
     "name": "stdout",
     "output_type": "stream",
     "text": [
      "ShapiroResult(statistic=0.9350737157035124, pvalue=0.00864243021806674)\n",
      "ShapiroResult(statistic=0.9571658618428929, pvalue=0.06764090350176044)\n",
      "ShapiroResult(statistic=0.9451626625844306, pvalue=0.021669387472520712)\n",
      "ShapiroResult(statistic=0.9746528453746998, pvalue=0.353953473695256)\n",
      "ShapiroResult(statistic=0.9385408681697921, pvalue=0.011800821972329595)\n",
      "ShapiroResult(statistic=0.949752173831075, pvalue=0.033324788182178065)\n"
     ]
    }
   ],
   "source": [
    "# test the normality of data\n",
    "from scipy import stats\n",
    "print(stats.shapiro(class1))\n",
    "print(stats.shapiro(class1_normal)) # normal\n",
    "print(stats.shapiro(class2))\n",
    "print(stats.shapiro(class2_normal)) # normal\n",
    "print(stats.shapiro(class3))\n",
    "print(stats.shapiro(class3_normal)) # normal"
   ]
  },
  {
   "cell_type": "code",
   "execution_count": 5,
   "id": "273101f3-f44d-490d-9483-b330f5b83b98",
   "metadata": {},
   "outputs": [
    {
     "name": "stdout",
     "output_type": "stream",
     "text": [
      "MannwhitneyuResult(statistic=1141.0, pvalue=0.7749306317905224)\n",
      "MannwhitneyuResult(statistic=1248.5, pvalue=0.4972480428748427)\n",
      "MannwhitneyuResult(statistic=1149.0, pvalue=0.48817671035783505)\n"
     ]
    }
   ],
   "source": [
    "# for the non-normal data, do the Mann-Whiteny U test\n",
    "# set H1 : class 1 > class 2, then H0 : class 1 == class 2\n",
    "print(stats.mannwhitneyu(class1, class2, alternative='greater'))\n",
    "# set H1 : class 2 < class 3, then H0 : class 1 == class 2\n",
    "print(stats.mannwhitneyu(class2, class3, alternative='less'))\n",
    "# set H1 : class 1 == class 3, then H0 : class 1 != class 2\n",
    "print(stats.mannwhitneyu(class1, class3, alternative='two-sided'))"
   ]
  },
  {
   "cell_type": "markdown",
   "id": "86db1229-4852-4d90-80fa-a36fbc40fa93",
   "metadata": {},
   "source": [
    "In the first two cases, accept H0, that is, their mean is equal, which is true.\n",
    "For the latter, accept H0 and thereby conclude that their mean is not the same."
   ]
  },
  {
   "cell_type": "markdown",
   "id": "c4fa4d0e-a32d-48d4-8d0b-3b6245732293",
   "metadata": {},
   "source": [
    "<strong>Equivariance test between two sets</strong>\n",
    "<ul>\n",
    "    <li>H0 : their variance is equal</li>\n",
    "    <li>H1 : their variance differs from one another</li>\n",
    "</ul>"
   ]
  },
  {
   "cell_type": "code",
   "execution_count": 7,
   "id": "49befb0c-da48-4aeb-a99e-58373a20175b",
   "metadata": {},
   "outputs": [
    {
     "name": "stdout",
     "output_type": "stream",
     "text": [
      "LeveneResult(statistic=0.9931282636062954, pvalue=0.32143330270806614)\n",
      "LeveneResult(statistic=24.767912211547003, pvalue=2.7667129748697046e-06)\n",
      "LeveneResult(statistic=20.784814663349074, pvalue=1.4859169939461225e-05)\n"
     ]
    }
   ],
   "source": [
    "# for normal data, test if they are equivariant.\n",
    "print(stats.levene(class1_normal, class2_normal)) # equivariant\n",
    "print(stats.levene(class1_normal, class3_normal)) \n",
    "print(stats.levene(class2_normal, class3_normal))"
   ]
  },
  {
   "cell_type": "code",
   "execution_count": 9,
   "id": "3345f038-57ae-4850-9967-3d962c10e932",
   "metadata": {},
   "outputs": [
    {
     "name": "stdout",
     "output_type": "stream",
     "text": [
      "TtestResult(statistic=4.929016441584299, pvalue=1.6830416649777417e-06, df=98.0)\n",
      "TtestResult(statistic=-0.5092524206014153, pvalue=0.6122165389674392, df=68.30703049538984)\n",
      "TtestResult(statistic=-7.2984384624121805, pvalue=1.2916515220859667e-10, df=74.79916647876212)\n"
     ]
    }
   ],
   "source": [
    "# for the sets which statisfy the normality and equivariance at the same time, do t-test.\n",
    "# set H1 : class 1 > class 2, then H0 : class 1 == class 2\n",
    "print(stats.ttest_ind(class1_normal, class2_normal, equal_var=True, alternative='greater'))\n",
    "\n",
    "# for the sets which satisfy the normality yet show different variance, to Welch t-test.\n",
    "# set H1 : class 1 == class 3, then H0 : class 1 != class 2\n",
    "print(stats.ttest_ind(class1_normal, class3_normal, equal_var=False, alternative='two-sided'))\n",
    "\n",
    "# set H1 : class 2 < class 3, then H0 : class 1 == class 2\n",
    "print(stats.ttest_ind(class2_normal, class3_normal, equal_var=False, alternative='less'))"
   ]
  },
  {
   "cell_type": "markdown",
   "id": "572bd556-2fde-4c5a-8b0c-4f3f6b123d90",
   "metadata": {},
   "source": [
    "In the first and third cases, reject H0 and therefore conclude that their mean is not equal.\n",
    "For the rest, accept H0 and thereby get to the right conclusion that their mean is not equal."
   ]
  }
 ],
 "metadata": {
  "kernelspec": {
   "display_name": "Python 3 (ipykernel)",
   "language": "python",
   "name": "python3"
  },
  "language_info": {
   "codemirror_mode": {
    "name": "ipython",
    "version": 3
   },
   "file_extension": ".py",
   "mimetype": "text/x-python",
   "name": "python",
   "nbconvert_exporter": "python",
   "pygments_lexer": "ipython3",
   "version": "3.10.0"
  }
 },
 "nbformat": 4,
 "nbformat_minor": 5
}
