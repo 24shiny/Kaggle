{
 "cells": [
  {
   "cell_type": "code",
   "execution_count": 2,
   "id": "3f3976bf-4036-44e2-9bbf-b94c29aa532a",
   "metadata": {},
   "outputs": [
    {
     "data": {
      "text/html": [
       "<div>\n",
       "<style scoped>\n",
       "    .dataframe tbody tr th:only-of-type {\n",
       "        vertical-align: middle;\n",
       "    }\n",
       "\n",
       "    .dataframe tbody tr th {\n",
       "        vertical-align: top;\n",
       "    }\n",
       "\n",
       "    .dataframe thead th {\n",
       "        text-align: right;\n",
       "    }\n",
       "</style>\n",
       "<table border=\"1\" class=\"dataframe\">\n",
       "  <thead>\n",
       "    <tr style=\"text-align: right;\">\n",
       "      <th></th>\n",
       "      <th>studnet</th>\n",
       "      <th>control</th>\n",
       "      <th>treatment</th>\n",
       "    </tr>\n",
       "  </thead>\n",
       "  <tbody>\n",
       "    <tr>\n",
       "      <th>0</th>\n",
       "      <td>1</td>\n",
       "      <td>60.4</td>\n",
       "      <td>59.8</td>\n",
       "    </tr>\n",
       "    <tr>\n",
       "      <th>1</th>\n",
       "      <td>2</td>\n",
       "      <td>60.7</td>\n",
       "      <td>60.2</td>\n",
       "    </tr>\n",
       "    <tr>\n",
       "      <th>2</th>\n",
       "      <td>3</td>\n",
       "      <td>60.5</td>\n",
       "      <td>60.1</td>\n",
       "    </tr>\n",
       "    <tr>\n",
       "      <th>3</th>\n",
       "      <td>4</td>\n",
       "      <td>60.3</td>\n",
       "      <td>59.9</td>\n",
       "    </tr>\n",
       "    <tr>\n",
       "      <th>4</th>\n",
       "      <td>5</td>\n",
       "      <td>60.8</td>\n",
       "      <td>59.7</td>\n",
       "    </tr>\n",
       "  </tbody>\n",
       "</table>\n",
       "</div>"
      ],
      "text/plain": [
       "   studnet  control  treatment\n",
       "0        1     60.4       59.8\n",
       "1        2     60.7       60.2\n",
       "2        3     60.5       60.1\n",
       "3        4     60.3       59.9\n",
       "4        5     60.8       59.7"
      ]
     },
     "execution_count": 2,
     "metadata": {},
     "output_type": "execute_result"
    }
   ],
   "source": [
    "# 3. independent sample mean\n",
    "# test if a new learning program shortens the study time (treatment - control < 0)\n",
    "import pandas as pd\n",
    "df = pd.DataFrame({\n",
    "    'studnet': list(range(1, 11)),\n",
    "    'control': [60.4, 60.7, 60.5, 60.3, 60.8, 60.6, 60.2, 60.5, 60.7, 60.4],\n",
    "    'treatment': [59.8, 60.2, 60.1, 59.9, 59.7, 58.4, 57.0, 60.3, 59.6, 59.8] # new learning method\n",
    "})\n",
    "df.head()"
   ]
  },
  {
   "cell_type": "code",
   "execution_count": 3,
   "id": "5ab3e61f-0576-4642-a016-4276e3d163f5",
   "metadata": {},
   "outputs": [
    {
     "data": {
      "text/html": [
       "<div>\n",
       "<style scoped>\n",
       "    .dataframe tbody tr th:only-of-type {\n",
       "        vertical-align: middle;\n",
       "    }\n",
       "\n",
       "    .dataframe tbody tr th {\n",
       "        vertical-align: top;\n",
       "    }\n",
       "\n",
       "    .dataframe thead th {\n",
       "        text-align: right;\n",
       "    }\n",
       "</style>\n",
       "<table border=\"1\" class=\"dataframe\">\n",
       "  <thead>\n",
       "    <tr style=\"text-align: right;\">\n",
       "      <th></th>\n",
       "      <th>studnet</th>\n",
       "      <th>control</th>\n",
       "      <th>treatment</th>\n",
       "      <th>dff</th>\n",
       "    </tr>\n",
       "  </thead>\n",
       "  <tbody>\n",
       "    <tr>\n",
       "      <th>0</th>\n",
       "      <td>1</td>\n",
       "      <td>60.4</td>\n",
       "      <td>59.8</td>\n",
       "      <td>-0.6</td>\n",
       "    </tr>\n",
       "    <tr>\n",
       "      <th>1</th>\n",
       "      <td>2</td>\n",
       "      <td>60.7</td>\n",
       "      <td>60.2</td>\n",
       "      <td>-0.5</td>\n",
       "    </tr>\n",
       "    <tr>\n",
       "      <th>2</th>\n",
       "      <td>3</td>\n",
       "      <td>60.5</td>\n",
       "      <td>60.1</td>\n",
       "      <td>-0.4</td>\n",
       "    </tr>\n",
       "    <tr>\n",
       "      <th>3</th>\n",
       "      <td>4</td>\n",
       "      <td>60.3</td>\n",
       "      <td>59.9</td>\n",
       "      <td>-0.4</td>\n",
       "    </tr>\n",
       "    <tr>\n",
       "      <th>4</th>\n",
       "      <td>5</td>\n",
       "      <td>60.8</td>\n",
       "      <td>59.7</td>\n",
       "      <td>-1.1</td>\n",
       "    </tr>\n",
       "  </tbody>\n",
       "</table>\n",
       "</div>"
      ],
      "text/plain": [
       "   studnet  control  treatment  dff\n",
       "0        1     60.4       59.8 -0.6\n",
       "1        2     60.7       60.2 -0.5\n",
       "2        3     60.5       60.1 -0.4\n",
       "3        4     60.3       59.9 -0.4\n",
       "4        5     60.8       59.7 -1.1"
      ]
     },
     "execution_count": 3,
     "metadata": {},
     "output_type": "execute_result"
    }
   ],
   "source": [
    "# Q1. sample mean of (treatment - control)\n",
    "df['dff'] = df['treatment'] - df['control']\n",
    "df.head()"
   ]
  },
  {
   "cell_type": "code",
   "execution_count": 4,
   "id": "bb50f30a-c792-44a8-8cbe-7aa015188aa4",
   "metadata": {},
   "outputs": [
    {
     "data": {
      "text/plain": [
       "np.float64(-1.0300000000000005)"
      ]
     },
     "execution_count": 4,
     "metadata": {},
     "output_type": "execute_result"
    }
   ],
   "source": [
    "df['dff'].mean()"
   ]
  },
  {
   "cell_type": "code",
   "execution_count": 7,
   "id": "baa581ac-107c-4843-9777-1ab57084accf",
   "metadata": {},
   "outputs": [
    {
     "name": "stdout",
     "output_type": "stream",
     "text": [
      "ShapiroResult(statistic=np.float64(0.9691888544165468), pvalue=np.float64(0.8832241960495575))\n",
      "ShapiroResult(statistic=np.float64(0.7336554610229031), pvalue=np.float64(0.002257206852550898))\n",
      "ShapiroResult(statistic=np.float64(0.7829235026111041), pvalue=np.float64(0.008985928943897178))\n",
      "LeveneResult(statistic=np.float64(2.3434727503168507), pvalue=np.float64(0.1431943500393558))\n"
     ]
    }
   ],
   "source": [
    "# Q2. test statistic\n",
    "from scipy import stats\n",
    "# normality\n",
    "print(stats.shapiro(df['control'])) # normal\n",
    "print(stats.shapiro(df['treatment']))\n",
    "print(stats.shapiro(df['dff'])) # normal\n",
    "\n",
    "# equivariance\n",
    "print(stats.levene(df['control'], df['treatment'])) # equivariance"
   ]
  },
  {
   "cell_type": "code",
   "execution_count": 8,
   "id": "1e8c1f86-0445-496c-a728-91dddd634f4e",
   "metadata": {},
   "outputs": [
    {
     "data": {
      "text/plain": [
       "TtestResult(statistic=np.float64(-3.143095307454669), pvalue=np.float64(0.002811411749707422), df=np.float64(18.0))"
      ]
     },
     "execution_count": 8,
     "metadata": {},
     "output_type": "execute_result"
    }
   ],
   "source": [
    "stats.ttest_ind(df['treatment'], df['control'], alternative='less')"
   ]
  },
  {
   "cell_type": "code",
   "execution_count": 9,
   "id": "8e24ea82-7d4c-46ec-b1ce-a7a2f595299e",
   "metadata": {},
   "outputs": [
    {
     "data": {
      "text/plain": [
       "np.float64(0.002811411749707422)"
      ]
     },
     "execution_count": 9,
     "metadata": {},
     "output_type": "execute_result"
    }
   ],
   "source": [
    "# Q3. pvalue\n",
    "stats.ttest_ind(df['treatment'], df['control'], alternative='less').pvalue"
   ]
  },
  {
   "cell_type": "code",
   "execution_count": null,
   "id": "d708eb11-bde7-4e0c-9b55-39a9cb76c463",
   "metadata": {},
   "outputs": [],
   "source": [
    "# Q4. accept or reject ?\n",
    "-> reject"
   ]
  }
 ],
 "metadata": {
  "kernelspec": {
   "display_name": "Python 3 (ipykernel)",
   "language": "python",
   "name": "python3"
  },
  "language_info": {
   "codemirror_mode": {
    "name": "ipython",
    "version": 3
   },
   "file_extension": ".py",
   "mimetype": "text/x-python",
   "name": "python",
   "nbconvert_exporter": "python",
   "pygments_lexer": "ipython3",
   "version": "3.12.7"
  }
 },
 "nbformat": 4,
 "nbformat_minor": 5
}
