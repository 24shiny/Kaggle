{
 "cells": [
  {
   "cell_type": "markdown",
   "id": "ee54f60b-e7d3-4811-a740-d567fefecb67",
   "metadata": {},
   "source": [
    "<strong>Goodness of Fit test</strong>\n",
    "<ul>\n",
    "    <li>H0 : data follows a given distribution</li>\n",
    "    <li>H1 : data does not follow a given distribution</li>\n",
    "</ul>"
   ]
  },
  {
   "cell_type": "code",
   "execution_count": 1,
   "id": "3f4f78e1-dc79-4e2d-a406-5cefc9f36602",
   "metadata": {},
   "outputs": [
    {
     "data": {
      "text/plain": [
       "Power_divergenceResult(statistic=np.float64(33.46031746031746), pvalue=np.float64(5.42231048734203e-08))"
      ]
     },
     "execution_count": 1,
     "metadata": {},
     "output_type": "execute_result"
    }
   ],
   "source": [
    "# As an example, consider a test to see if icecream flavor preference follows a certain value\n",
    "import numpy as np\n",
    "observed = ([120, 100, 80])\n",
    "expected = np.array([0.5, 0.35, 0.15]) * 300\n",
    "\n",
    "from scipy import stats\n",
    "stats.chisquare(observed, expected)"
   ]
  },
  {
   "cell_type": "markdown",
   "id": "6e22b50f-d8fe-4409-a2c9-56dcae5f883a",
   "metadata": {},
   "source": [
    "Reject H0 and conclude that the preference of icecream flavor does not follow the given distribution."
   ]
  },
  {
   "cell_type": "markdown",
   "id": "4bcc0cff-738e-44e7-ac94-f2e7e7ac7ae8",
   "metadata": {},
   "source": [
    "<strong>Goodness of Fit test</strong>\n",
    "<ul>\n",
    "    <li>H0 : data follows a given distribution</li>\n",
    "    <li>H1 : data does not follow a given distribution</li>\n",
    "</ul>"
   ]
  },
  {
   "cell_type": "code",
   "execution_count": 4,
   "id": "6b378a8e-b9db-466c-8156-c93d580360e3",
   "metadata": {},
   "outputs": [
    {
     "data": {
      "text/html": [
       "<div>\n",
       "<style scoped>\n",
       "    .dataframe tbody tr th:only-of-type {\n",
       "        vertical-align: middle;\n",
       "    }\n",
       "\n",
       "    .dataframe tbody tr th {\n",
       "        vertical-align: top;\n",
       "    }\n",
       "\n",
       "    .dataframe thead th {\n",
       "        text-align: right;\n",
       "    }\n",
       "</style>\n",
       "<table border=\"1\" class=\"dataframe\">\n",
       "  <thead>\n",
       "    <tr style=\"text-align: right;\">\n",
       "      <th></th>\n",
       "      <th>like</th>\n",
       "      <th>dislike</th>\n",
       "    </tr>\n",
       "  </thead>\n",
       "  <tbody>\n",
       "    <tr>\n",
       "      <th>male</th>\n",
       "      <td>80</td>\n",
       "      <td>30</td>\n",
       "    </tr>\n",
       "    <tr>\n",
       "      <th>female</th>\n",
       "      <td>90</td>\n",
       "      <td>10</td>\n",
       "    </tr>\n",
       "  </tbody>\n",
       "</table>\n",
       "</div>"
      ],
      "text/plain": [
       "        like  dislike\n",
       "male      80       30\n",
       "female    90       10"
      ]
     },
     "execution_count": 4,
     "metadata": {},
     "output_type": "execute_result"
    }
   ],
   "source": [
    "# create a crosstab with given data\n",
    "# male : like (80), dislike (30), female : like (90), dislike (10)\n",
    "import pandas as pd\n",
    "df = pd.DataFrame({'like':[80, 90], 'dislike':[30, 10]}, index=['male', 'female'])\n",
    "df"
   ]
  },
  {
   "cell_type": "code",
   "execution_count": 5,
   "id": "f0339ce0-4e71-4e87-992e-3aacbec8061a",
   "metadata": {},
   "outputs": [
    {
     "data": {
      "text/plain": [
       "Chi2ContingencyResult(statistic=np.float64(9.045792112299468), pvalue=np.float64(0.0026330012530379632), dof=1, expected_freq=array([[89.04761905, 20.95238095],\n",
       "       [80.95238095, 19.04761905]]))"
      ]
     },
     "execution_count": 5,
     "metadata": {},
     "output_type": "execute_result"
    }
   ],
   "source": [
    "from scipy.stats import chi2_contingency\n",
    "chi2_contingency(df)"
   ]
  },
  {
   "cell_type": "code",
   "execution_count": 6,
   "id": "96ae3177-0b7c-4c1b-95f0-baa52e0cb9cd",
   "metadata": {},
   "outputs": [
    {
     "data": {
      "text/plain": [
       "array([[89.04761905, 20.95238095],\n",
       "       [80.95238095, 19.04761905]])"
      ]
     },
     "execution_count": 6,
     "metadata": {},
     "output_type": "execute_result"
    }
   ],
   "source": [
    "chi2_contingency(df).expected_freq"
   ]
  },
  {
   "cell_type": "code",
   "execution_count": 7,
   "id": "520db49a-14eb-418d-9663-cae73ebee800",
   "metadata": {},
   "outputs": [
    {
     "data": {
      "text/html": [
       "<div>\n",
       "<style scoped>\n",
       "    .dataframe tbody tr th:only-of-type {\n",
       "        vertical-align: middle;\n",
       "    }\n",
       "\n",
       "    .dataframe tbody tr th {\n",
       "        vertical-align: top;\n",
       "    }\n",
       "\n",
       "    .dataframe thead th {\n",
       "        text-align: right;\n",
       "    }\n",
       "</style>\n",
       "<table border=\"1\" class=\"dataframe\">\n",
       "  <thead>\n",
       "    <tr style=\"text-align: right;\">\n",
       "      <th></th>\n",
       "      <th>gender</th>\n",
       "      <th>preference</th>\n",
       "    </tr>\n",
       "  </thead>\n",
       "  <tbody>\n",
       "    <tr>\n",
       "      <th>0</th>\n",
       "      <td>male</td>\n",
       "      <td>like</td>\n",
       "    </tr>\n",
       "    <tr>\n",
       "      <th>1</th>\n",
       "      <td>male</td>\n",
       "      <td>like</td>\n",
       "    </tr>\n",
       "    <tr>\n",
       "      <th>2</th>\n",
       "      <td>male</td>\n",
       "      <td>like</td>\n",
       "    </tr>\n",
       "    <tr>\n",
       "      <th>3</th>\n",
       "      <td>male</td>\n",
       "      <td>like</td>\n",
       "    </tr>\n",
       "    <tr>\n",
       "      <th>4</th>\n",
       "      <td>male</td>\n",
       "      <td>like</td>\n",
       "    </tr>\n",
       "    <tr>\n",
       "      <th>...</th>\n",
       "      <td>...</td>\n",
       "      <td>...</td>\n",
       "    </tr>\n",
       "    <tr>\n",
       "      <th>205</th>\n",
       "      <td>female</td>\n",
       "      <td>dislike</td>\n",
       "    </tr>\n",
       "    <tr>\n",
       "      <th>206</th>\n",
       "      <td>female</td>\n",
       "      <td>dislike</td>\n",
       "    </tr>\n",
       "    <tr>\n",
       "      <th>207</th>\n",
       "      <td>female</td>\n",
       "      <td>dislike</td>\n",
       "    </tr>\n",
       "    <tr>\n",
       "      <th>208</th>\n",
       "      <td>female</td>\n",
       "      <td>dislike</td>\n",
       "    </tr>\n",
       "    <tr>\n",
       "      <th>209</th>\n",
       "      <td>female</td>\n",
       "      <td>dislike</td>\n",
       "    </tr>\n",
       "  </tbody>\n",
       "</table>\n",
       "<p>210 rows × 2 columns</p>\n",
       "</div>"
      ],
      "text/plain": [
       "     gender preference\n",
       "0      male       like\n",
       "1      male       like\n",
       "2      male       like\n",
       "3      male       like\n",
       "4      male       like\n",
       "..      ...        ...\n",
       "205  female    dislike\n",
       "206  female    dislike\n",
       "207  female    dislike\n",
       "208  female    dislike\n",
       "209  female    dislike\n",
       "\n",
       "[210 rows x 2 columns]"
      ]
     },
     "execution_count": 7,
     "metadata": {},
     "output_type": "execute_result"
    }
   ],
   "source": [
    "# when raw data are given, which is in the following form :\n",
    "data = {'gender':['male']*110 + ['female']*100, 'preference':['like']*80+['dislike']*30+['like']*90+['dislike']*10}\n",
    "df = pd.DataFrame(data)\n",
    "df"
   ]
  },
  {
   "cell_type": "code",
   "execution_count": 8,
   "id": "b8de8f93-b333-456c-9ff8-8614517007f2",
   "metadata": {},
   "outputs": [
    {
     "data": {
      "text/html": [
       "<div>\n",
       "<style scoped>\n",
       "    .dataframe tbody tr th:only-of-type {\n",
       "        vertical-align: middle;\n",
       "    }\n",
       "\n",
       "    .dataframe tbody tr th {\n",
       "        vertical-align: top;\n",
       "    }\n",
       "\n",
       "    .dataframe thead th {\n",
       "        text-align: right;\n",
       "    }\n",
       "</style>\n",
       "<table border=\"1\" class=\"dataframe\">\n",
       "  <thead>\n",
       "    <tr style=\"text-align: right;\">\n",
       "      <th>preference</th>\n",
       "      <th>dislike</th>\n",
       "      <th>like</th>\n",
       "    </tr>\n",
       "    <tr>\n",
       "      <th>gender</th>\n",
       "      <th></th>\n",
       "      <th></th>\n",
       "    </tr>\n",
       "  </thead>\n",
       "  <tbody>\n",
       "    <tr>\n",
       "      <th>female</th>\n",
       "      <td>10</td>\n",
       "      <td>90</td>\n",
       "    </tr>\n",
       "    <tr>\n",
       "      <th>male</th>\n",
       "      <td>30</td>\n",
       "      <td>80</td>\n",
       "    </tr>\n",
       "  </tbody>\n",
       "</table>\n",
       "</div>"
      ],
      "text/plain": [
       "preference  dislike  like\n",
       "gender                   \n",
       "female           10    90\n",
       "male             30    80"
      ]
     },
     "execution_count": 8,
     "metadata": {},
     "output_type": "execute_result"
    }
   ],
   "source": [
    "# turn it into a crosstab\n",
    "df = pd.crosstab(df['gender'],df['preference'])\n",
    "df"
   ]
  },
  {
   "cell_type": "code",
   "execution_count": 9,
   "id": "5237f3fb-3b57-4f2b-972b-73132c5bc414",
   "metadata": {},
   "outputs": [
    {
     "data": {
      "text/plain": [
       "Chi2ContingencyResult(statistic=np.float64(9.045792112299466), pvalue=np.float64(0.0026330012530379676), dof=1, expected_freq=array([[19.04761905, 80.95238095],\n",
       "       [20.95238095, 89.04761905]]))"
      ]
     },
     "execution_count": 9,
     "metadata": {},
     "output_type": "execute_result"
    }
   ],
   "source": [
    "# and turn it to the chisquare method\n",
    "chi2_contingency(df)"
   ]
  },
  {
   "cell_type": "code",
   "execution_count": null,
   "id": "e382c39a-a524-4dda-b0e5-ab0c1aecea1d",
   "metadata": {},
   "outputs": [],
   "source": []
  }
 ],
 "metadata": {
  "kernelspec": {
   "display_name": "Python 3 (ipykernel)",
   "language": "python",
   "name": "python3"
  },
  "language_info": {
   "codemirror_mode": {
    "name": "ipython",
    "version": 3
   },
   "file_extension": ".py",
   "mimetype": "text/x-python",
   "name": "python",
   "nbconvert_exporter": "python",
   "pygments_lexer": "ipython3",
   "version": "3.12.7"
  }
 },
 "nbformat": 4,
 "nbformat_minor": 5
}
