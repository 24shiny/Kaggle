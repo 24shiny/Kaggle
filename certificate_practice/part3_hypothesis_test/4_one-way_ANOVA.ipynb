{
 "cells": [
  {
   "cell_type": "markdown",
   "id": "b6f45c90-9061-4ba1-ac9a-b2bef4f557d7",
   "metadata": {},
   "source": [
    "<strong>One way ANOVA</strong>\n",
    "<br>Basis hypotheses : independence, normality and equivariance\n",
    "<ul>\n",
    "    <li>H0 : the mean of all groups in concern is equal</li>\n",
    "    <li>H1 : the mean of all groups in concern is inequal; there is at least one group whose mean differes from others</li>\n",
    "</ul>"
   ]
  },
  {
   "cell_type": "code",
   "execution_count": 1,
   "id": "385ddc21-a149-41ad-b1ab-79d99898bf2c",
   "metadata": {},
   "outputs": [],
   "source": [
    "import numpy as np\n",
    "\n",
    "# fertilizer data as an example\n",
    "# values are the height of plants\n",
    "treat1 = np.random.normal(20,10,50)\n",
    "treat2 = np.random.normal(20,5,50) # different in variance\n",
    "treat3 = np.random.normal(10,10,50) # different in mean"
   ]
  },
  {
   "cell_type": "code",
   "execution_count": 2,
   "id": "a4017cce-fca4-4ff5-b089-7c53bbcef745",
   "metadata": {},
   "outputs": [
    {
     "name": "stdout",
     "output_type": "stream",
     "text": [
      "ShapiroResult(statistic=0.9853936049034514, pvalue=0.7883915180226313)\n",
      "ShapiroResult(statistic=0.9740867520796885, pvalue=0.33659504444052835)\n",
      "ShapiroResult(statistic=0.9693441086006391, pvalue=0.21763473664493965)\n"
     ]
    }
   ],
   "source": [
    "# normality check\n",
    "from scipy import stats\n",
    "print(stats.shapiro(treat1))\n",
    "print(stats.shapiro(treat2))\n",
    "print(stats.shapiro(treat3))"
   ]
  },
  {
   "cell_type": "markdown",
   "id": "7db8c7a7-8b3d-425b-8df4-80889309cc3d",
   "metadata": {},
   "source": [
    "Sure they have generated to be normal!"
   ]
  },
  {
   "cell_type": "code",
   "execution_count": 3,
   "id": "ae34348c-4ff2-49ae-ab0a-481b9ac96868",
   "metadata": {},
   "outputs": [
    {
     "name": "stdout",
     "output_type": "stream",
     "text": [
      "LeveneResult(statistic=18.694266810379226, pvalue=3.69100881519706e-05)\n",
      "LeveneResult(statistic=1.0773087756996325, pvalue=0.3018545723880243)\n",
      "LeveneResult(statistic=10.1328240743497, pvalue=0.0019523208770349974)\n"
     ]
    }
   ],
   "source": [
    "# equivariance check\n",
    "print(stats.levene(treat1, treat2))\n",
    "print(stats.levene(treat1, treat3)) # equivariant\n",
    "print(stats.levene(treat2, treat3))"
   ]
  },
  {
   "cell_type": "code",
   "execution_count": 4,
   "id": "4ccf1144-eef9-48a9-bed3-187d5dcb38d0",
   "metadata": {},
   "outputs": [
    {
     "data": {
      "text/plain": [
       "F_onewayResult(statistic=0.05257425321748644, pvalue=0.8191207863826159)"
      ]
     },
     "execution_count": 4,
     "metadata": {},
     "output_type": "execute_result"
    }
   ],
   "source": [
    "# do ANOVA to the pair of treat 1 and 3\n",
    "# there are two ways to go; one with stats.f_oneway; the other with ols\n",
    "stats.f_oneway(treat1, treat2)"
   ]
  },
  {
   "cell_type": "markdown",
   "id": "a6343af6-ab71-4f7a-a35c-7c75ae5b5a47",
   "metadata": {},
   "source": [
    "Given the pvalue, accept the result, that is, their mean is equal. This is not true; so the alpha error occurs."
   ]
  },
  {
   "cell_type": "code",
   "execution_count": 9,
   "id": "ed923775-4f89-4412-8ac2-646129c323c3",
   "metadata": {},
   "outputs": [
    {
     "data": {
      "text/html": [
       "<div>\n",
       "<style scoped>\n",
       "    .dataframe tbody tr th:only-of-type {\n",
       "        vertical-align: middle;\n",
       "    }\n",
       "\n",
       "    .dataframe tbody tr th {\n",
       "        vertical-align: top;\n",
       "    }\n",
       "\n",
       "    .dataframe thead th {\n",
       "        text-align: right;\n",
       "    }\n",
       "</style>\n",
       "<table border=\"1\" class=\"dataframe\">\n",
       "  <thead>\n",
       "    <tr style=\"text-align: right;\">\n",
       "      <th></th>\n",
       "      <th>height</th>\n",
       "      <th>name</th>\n",
       "    </tr>\n",
       "  </thead>\n",
       "  <tbody>\n",
       "    <tr>\n",
       "      <th>0</th>\n",
       "      <td>34.356188</td>\n",
       "      <td>treat1</td>\n",
       "    </tr>\n",
       "    <tr>\n",
       "      <th>1</th>\n",
       "      <td>22.937798</td>\n",
       "      <td>treat1</td>\n",
       "    </tr>\n",
       "    <tr>\n",
       "      <th>2</th>\n",
       "      <td>8.713438</td>\n",
       "      <td>treat1</td>\n",
       "    </tr>\n",
       "    <tr>\n",
       "      <th>3</th>\n",
       "      <td>22.609524</td>\n",
       "      <td>treat1</td>\n",
       "    </tr>\n",
       "    <tr>\n",
       "      <th>4</th>\n",
       "      <td>44.635738</td>\n",
       "      <td>treat1</td>\n",
       "    </tr>\n",
       "    <tr>\n",
       "      <th>...</th>\n",
       "      <td>...</td>\n",
       "      <td>...</td>\n",
       "    </tr>\n",
       "    <tr>\n",
       "      <th>45</th>\n",
       "      <td>11.744999</td>\n",
       "      <td>treat3</td>\n",
       "    </tr>\n",
       "    <tr>\n",
       "      <th>46</th>\n",
       "      <td>4.726503</td>\n",
       "      <td>treat3</td>\n",
       "    </tr>\n",
       "    <tr>\n",
       "      <th>47</th>\n",
       "      <td>22.211026</td>\n",
       "      <td>treat3</td>\n",
       "    </tr>\n",
       "    <tr>\n",
       "      <th>48</th>\n",
       "      <td>10.597587</td>\n",
       "      <td>treat3</td>\n",
       "    </tr>\n",
       "    <tr>\n",
       "      <th>49</th>\n",
       "      <td>26.179509</td>\n",
       "      <td>treat3</td>\n",
       "    </tr>\n",
       "  </tbody>\n",
       "</table>\n",
       "<p>150 rows × 2 columns</p>\n",
       "</div>"
      ],
      "text/plain": [
       "       height    name\n",
       "0   34.356188  treat1\n",
       "1   22.937798  treat1\n",
       "2    8.713438  treat1\n",
       "3   22.609524  treat1\n",
       "4   44.635738  treat1\n",
       "..        ...     ...\n",
       "45  11.744999  treat3\n",
       "46   4.726503  treat3\n",
       "47  22.211026  treat3\n",
       "48  10.597587  treat3\n",
       "49  26.179509  treat3\n",
       "\n",
       "[150 rows x 2 columns]"
      ]
     },
     "execution_count": 9,
     "metadata": {},
     "output_type": "execute_result"
    }
   ],
   "source": [
    "# to use ols, data needs to be in a certain form.\n",
    "import pandas as pd\n",
    "treat1_df = pd.DataFrame({'height':treat1, 'name':np.repeat('treat1',50)})\n",
    "treat2_df = pd.DataFrame({'height':treat2, 'name':np.repeat('treat2',50)})\n",
    "treat3_df = pd.DataFrame({'height':treat3, 'name':np.repeat('treat3',50)})\n",
    "plant = pd.concat([treat1_df, treat2_df, treat3_df])\n",
    "plant"
   ]
  },
  {
   "cell_type": "code",
   "execution_count": 12,
   "id": "5bdf7020-4c5f-4006-a1e1-b019d5589246",
   "metadata": {},
   "outputs": [
    {
     "data": {
      "text/html": [
       "<div>\n",
       "<style scoped>\n",
       "    .dataframe tbody tr th:only-of-type {\n",
       "        vertical-align: middle;\n",
       "    }\n",
       "\n",
       "    .dataframe tbody tr th {\n",
       "        vertical-align: top;\n",
       "    }\n",
       "\n",
       "    .dataframe thead th {\n",
       "        text-align: right;\n",
       "    }\n",
       "</style>\n",
       "<table border=\"1\" class=\"dataframe\">\n",
       "  <thead>\n",
       "    <tr style=\"text-align: right;\">\n",
       "      <th></th>\n",
       "      <th>df</th>\n",
       "      <th>sum_sq</th>\n",
       "      <th>mean_sq</th>\n",
       "      <th>F</th>\n",
       "      <th>PR(&gt;F)</th>\n",
       "    </tr>\n",
       "  </thead>\n",
       "  <tbody>\n",
       "    <tr>\n",
       "      <th>C(name)</th>\n",
       "      <td>2.0</td>\n",
       "      <td>3125.029363</td>\n",
       "      <td>1562.514682</td>\n",
       "      <td>20.37942</td>\n",
       "      <td>1.542394e-08</td>\n",
       "    </tr>\n",
       "    <tr>\n",
       "      <th>Residual</th>\n",
       "      <td>147.0</td>\n",
       "      <td>11270.667356</td>\n",
       "      <td>76.671207</td>\n",
       "      <td>NaN</td>\n",
       "      <td>NaN</td>\n",
       "    </tr>\n",
       "  </tbody>\n",
       "</table>\n",
       "</div>"
      ],
      "text/plain": [
       "             df        sum_sq      mean_sq         F        PR(>F)\n",
       "C(name)     2.0   3125.029363  1562.514682  20.37942  1.542394e-08\n",
       "Residual  147.0  11270.667356    76.671207       NaN           NaN"
      ]
     },
     "execution_count": 12,
     "metadata": {},
     "output_type": "execute_result"
    }
   ],
   "source": [
    "# with the use of ols, ANOVA can be done this way:\n",
    "from statsmodels.stats.anova import anova_lm\n",
    "from statsmodels.formula.api import ols\n",
    "model = ols('height ~C(name)', plant).fit()\n",
    "anova_lm(model)"
   ]
  },
  {
   "cell_type": "markdown",
   "id": "55cbc903-a228-47ca-8ae9-0c2bdb6cd921",
   "metadata": {},
   "source": [
    "Reject H0 and conclude that there is a difference in height between the groups"
   ]
  }
 ],
 "metadata": {
  "kernelspec": {
   "display_name": "Python 3 (ipykernel)",
   "language": "python",
   "name": "python3"
  },
  "language_info": {
   "codemirror_mode": {
    "name": "ipython",
    "version": 3
   },
   "file_extension": ".py",
   "mimetype": "text/x-python",
   "name": "python",
   "nbconvert_exporter": "python",
   "pygments_lexer": "ipython3",
   "version": "3.10.0"
  }
 },
 "nbformat": 4,
 "nbformat_minor": 5
}
