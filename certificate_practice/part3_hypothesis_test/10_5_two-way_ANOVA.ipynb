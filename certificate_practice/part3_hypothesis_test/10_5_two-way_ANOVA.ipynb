{
 "cells": [
  {
   "cell_type": "code",
   "execution_count": 1,
   "id": "d01112a3-102d-425c-9277-92443baaf9cf",
   "metadata": {},
   "outputs": [
    {
     "data": {
      "text/html": [
       "<div>\n",
       "<style scoped>\n",
       "    .dataframe tbody tr th:only-of-type {\n",
       "        vertical-align: middle;\n",
       "    }\n",
       "\n",
       "    .dataframe tbody tr th {\n",
       "        vertical-align: top;\n",
       "    }\n",
       "\n",
       "    .dataframe thead th {\n",
       "        text-align: right;\n",
       "    }\n",
       "</style>\n",
       "<table border=\"1\" class=\"dataframe\">\n",
       "  <thead>\n",
       "    <tr style=\"text-align: right;\">\n",
       "      <th></th>\n",
       "      <th>비료유형</th>\n",
       "      <th>물주기</th>\n",
       "      <th>수확량</th>\n",
       "    </tr>\n",
       "  </thead>\n",
       "  <tbody>\n",
       "    <tr>\n",
       "      <th>0</th>\n",
       "      <td>A</td>\n",
       "      <td>1</td>\n",
       "      <td>514</td>\n",
       "    </tr>\n",
       "    <tr>\n",
       "      <th>1</th>\n",
       "      <td>A</td>\n",
       "      <td>1</td>\n",
       "      <td>480</td>\n",
       "    </tr>\n",
       "    <tr>\n",
       "      <th>2</th>\n",
       "      <td>A</td>\n",
       "      <td>1</td>\n",
       "      <td>507</td>\n",
       "    </tr>\n",
       "    <tr>\n",
       "      <th>3</th>\n",
       "      <td>A</td>\n",
       "      <td>2</td>\n",
       "      <td>452</td>\n",
       "    </tr>\n",
       "    <tr>\n",
       "      <th>4</th>\n",
       "      <td>A</td>\n",
       "      <td>2</td>\n",
       "      <td>526</td>\n",
       "    </tr>\n",
       "  </tbody>\n",
       "</table>\n",
       "</div>"
      ],
      "text/plain": [
       "  비료유형  물주기  수확량\n",
       "0    A    1  514\n",
       "1    A    1  480\n",
       "2    A    1  507\n",
       "3    A    2  452\n",
       "4    A    2  526"
      ]
     },
     "execution_count": 1,
     "metadata": {},
     "output_type": "execute_result"
    }
   ],
   "source": [
    "# two-way ANOVA\n",
    "import pandas as pd\n",
    "df = pd.read_csv('data/tomato2.csv')\n",
    "df.head()"
   ]
  },
  {
   "cell_type": "code",
   "execution_count": 5,
   "id": "cd27279b-3bac-42bc-bb48-4d0bd5f900d7",
   "metadata": {},
   "outputs": [
    {
     "name": "stdout",
     "output_type": "stream",
     "text": [
      "['A' 'B' 'C']\n",
      "[1 2 3 4]\n"
     ]
    }
   ],
   "source": [
    "print(df['비료유형'].unique())\n",
    "print(df['물주기'].unique())"
   ]
  },
  {
   "cell_type": "code",
   "execution_count": null,
   "id": "295d14d3-c6f2-41e2-abed-b3ff33baa508",
   "metadata": {},
   "outputs": [],
   "source": [
    "# normality\n",
    "from scipy import stats\n",
    "print(stats.shapiro())\n",
    "print(stats.shapiro())"
   ]
  },
  {
   "cell_type": "code",
   "execution_count": 4,
   "id": "42a6b372-3663-4698-8ae1-3ad0f4e4ccc7",
   "metadata": {},
   "outputs": [
    {
     "data": {
      "text/html": [
       "<div>\n",
       "<style scoped>\n",
       "    .dataframe tbody tr th:only-of-type {\n",
       "        vertical-align: middle;\n",
       "    }\n",
       "\n",
       "    .dataframe tbody tr th {\n",
       "        vertical-align: top;\n",
       "    }\n",
       "\n",
       "    .dataframe thead th {\n",
       "        text-align: right;\n",
       "    }\n",
       "</style>\n",
       "<table border=\"1\" class=\"dataframe\">\n",
       "  <thead>\n",
       "    <tr style=\"text-align: right;\">\n",
       "      <th></th>\n",
       "      <th>df</th>\n",
       "      <th>sum_sq</th>\n",
       "      <th>mean_sq</th>\n",
       "      <th>F</th>\n",
       "      <th>PR(&gt;F)</th>\n",
       "    </tr>\n",
       "  </thead>\n",
       "  <tbody>\n",
       "    <tr>\n",
       "      <th>C(비료유형)</th>\n",
       "      <td>2.0</td>\n",
       "      <td>5251.722222</td>\n",
       "      <td>2625.861111</td>\n",
       "      <td>3.184685</td>\n",
       "      <td>0.059334</td>\n",
       "    </tr>\n",
       "    <tr>\n",
       "      <th>C(물주기)</th>\n",
       "      <td>3.0</td>\n",
       "      <td>9057.000000</td>\n",
       "      <td>3019.000000</td>\n",
       "      <td>3.661490</td>\n",
       "      <td>0.026460</td>\n",
       "    </tr>\n",
       "    <tr>\n",
       "      <th>C(비료유형):C(물주기)</th>\n",
       "      <td>6.0</td>\n",
       "      <td>4271.833333</td>\n",
       "      <td>711.972222</td>\n",
       "      <td>0.863491</td>\n",
       "      <td>0.535426</td>\n",
       "    </tr>\n",
       "    <tr>\n",
       "      <th>Residual</th>\n",
       "      <td>24.0</td>\n",
       "      <td>19788.666667</td>\n",
       "      <td>824.527778</td>\n",
       "      <td>NaN</td>\n",
       "      <td>NaN</td>\n",
       "    </tr>\n",
       "  </tbody>\n",
       "</table>\n",
       "</div>"
      ],
      "text/plain": [
       "                  df        sum_sq      mean_sq         F    PR(>F)\n",
       "C(비료유형)          2.0   5251.722222  2625.861111  3.184685  0.059334\n",
       "C(물주기)           3.0   9057.000000  3019.000000  3.661490  0.026460\n",
       "C(비료유형):C(물주기)   6.0   4271.833333   711.972222  0.863491  0.535426\n",
       "Residual        24.0  19788.666667   824.527778       NaN       NaN"
      ]
     },
     "execution_count": 4,
     "metadata": {},
     "output_type": "execute_result"
    }
   ],
   "source": [
    "from statsmodels.stats.anova import anova_lm\n",
    "from statsmodels.formula.api import ols\n",
    "model = ols('수확량 ~ C(비료유형) * C(물주기)', df).fit()\n",
    "anova_lm(model)"
   ]
  },
  {
   "cell_type": "code",
   "execution_count": null,
   "id": "6a3467fc-df82-4713-a0eb-cf6ca85a0da4",
   "metadata": {},
   "outputs": [],
   "source": []
  }
 ],
 "metadata": {
  "kernelspec": {
   "display_name": "Python 3 (ipykernel)",
   "language": "python",
   "name": "python3"
  },
  "language_info": {
   "codemirror_mode": {
    "name": "ipython",
    "version": 3
   },
   "file_extension": ".py",
   "mimetype": "text/x-python",
   "name": "python",
   "nbconvert_exporter": "python",
   "pygments_lexer": "ipython3",
   "version": "3.10.0"
  }
 },
 "nbformat": 4,
 "nbformat_minor": 5
}
