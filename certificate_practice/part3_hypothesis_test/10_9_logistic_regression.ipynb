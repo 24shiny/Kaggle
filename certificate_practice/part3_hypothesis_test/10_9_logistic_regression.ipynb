{
 "cells": [
  {
   "cell_type": "code",
   "execution_count": 1,
   "id": "dafaa6be-ee4d-4357-b4b2-b5d969ba3afa",
   "metadata": {},
   "outputs": [
    {
     "data": {
      "text/html": [
       "<div>\n",
       "<style scoped>\n",
       "    .dataframe tbody tr th:only-of-type {\n",
       "        vertical-align: middle;\n",
       "    }\n",
       "\n",
       "    .dataframe tbody tr th {\n",
       "        vertical-align: top;\n",
       "    }\n",
       "\n",
       "    .dataframe thead th {\n",
       "        text-align: right;\n",
       "    }\n",
       "</style>\n",
       "<table border=\"1\" class=\"dataframe\">\n",
       "  <thead>\n",
       "    <tr style=\"text-align: right;\">\n",
       "      <th></th>\n",
       "      <th>age</th>\n",
       "      <th>service</th>\n",
       "      <th>social</th>\n",
       "      <th>booked</th>\n",
       "      <th>target</th>\n",
       "    </tr>\n",
       "  </thead>\n",
       "  <tbody>\n",
       "    <tr>\n",
       "      <th>0</th>\n",
       "      <td>34</td>\n",
       "      <td>6</td>\n",
       "      <td>0</td>\n",
       "      <td>1</td>\n",
       "      <td>0</td>\n",
       "    </tr>\n",
       "    <tr>\n",
       "      <th>1</th>\n",
       "      <td>34</td>\n",
       "      <td>5</td>\n",
       "      <td>1</td>\n",
       "      <td>0</td>\n",
       "      <td>1</td>\n",
       "    </tr>\n",
       "    <tr>\n",
       "      <th>2</th>\n",
       "      <td>37</td>\n",
       "      <td>3</td>\n",
       "      <td>1</td>\n",
       "      <td>0</td>\n",
       "      <td>0</td>\n",
       "    </tr>\n",
       "    <tr>\n",
       "      <th>3</th>\n",
       "      <td>30</td>\n",
       "      <td>2</td>\n",
       "      <td>0</td>\n",
       "      <td>0</td>\n",
       "      <td>0</td>\n",
       "    </tr>\n",
       "    <tr>\n",
       "      <th>4</th>\n",
       "      <td>30</td>\n",
       "      <td>1</td>\n",
       "      <td>0</td>\n",
       "      <td>0</td>\n",
       "      <td>0</td>\n",
       "    </tr>\n",
       "  </tbody>\n",
       "</table>\n",
       "</div>"
      ],
      "text/plain": [
       "   age  service  social  booked  target\n",
       "0   34        6       0       1       0\n",
       "1   34        5       1       0       1\n",
       "2   37        3       1       0       0\n",
       "3   30        2       0       0       0\n",
       "4   30        1       0       0       0"
      ]
     },
     "execution_count": 1,
     "metadata": {},
     "output_type": "execute_result"
    }
   ],
   "source": [
    "# logistic regression\n",
    "import pandas as pd\n",
    "df = pd.read_csv('data/customer_travel.csv')\n",
    "df.head()"
   ]
  },
  {
   "cell_type": "code",
   "execution_count": 5,
   "id": "9a2b1c43-769e-457d-afa8-5f461fbd4555",
   "metadata": {},
   "outputs": [
    {
     "name": "stdout",
     "output_type": "stream",
     "text": [
      "400 400\n"
     ]
    }
   ],
   "source": [
    "df1 = df.loc[:int(len(df)/2)-1]\n",
    "df2 = df.loc[int(len(df)/2):]\n",
    "print(len(df1), len(df2))"
   ]
  },
  {
   "cell_type": "code",
   "execution_count": 8,
   "id": "60506f3f-04e5-475d-b099-f5a8d15a7d4e",
   "metadata": {},
   "outputs": [
    {
     "name": "stdout",
     "output_type": "stream",
     "text": [
      "Optimization terminated successfully.\n",
      "         Current function value: 0.527521\n",
      "         Iterations 6\n"
     ]
    },
    {
     "data": {
      "text/html": [
       "<table class=\"simpletable\">\n",
       "<caption>Logit Regression Results</caption>\n",
       "<tr>\n",
       "  <th>Dep. Variable:</th>        <td>target</td>      <th>  No. Observations:  </th>  <td>   400</td>  \n",
       "</tr>\n",
       "<tr>\n",
       "  <th>Model:</th>                 <td>Logit</td>      <th>  Df Residuals:      </th>  <td>   395</td>  \n",
       "</tr>\n",
       "<tr>\n",
       "  <th>Method:</th>                 <td>MLE</td>       <th>  Df Model:          </th>  <td>     4</td>  \n",
       "</tr>\n",
       "<tr>\n",
       "  <th>Date:</th>            <td>Thu, 28 Nov 2024</td> <th>  Pseudo R-squ.:     </th>  <td>0.05254</td> \n",
       "</tr>\n",
       "<tr>\n",
       "  <th>Time:</th>                <td>23:32:44</td>     <th>  Log-Likelihood:    </th> <td> -211.01</td> \n",
       "</tr>\n",
       "<tr>\n",
       "  <th>converged:</th>             <td>True</td>       <th>  LL-Null:           </th> <td> -222.71</td> \n",
       "</tr>\n",
       "<tr>\n",
       "  <th>Covariance Type:</th>     <td>nonrobust</td>    <th>  LLR p-value:       </th> <td>0.0001052</td>\n",
       "</tr>\n",
       "</table>\n",
       "<table class=\"simpletable\">\n",
       "<tr>\n",
       "      <td></td>         <th>coef</th>     <th>std err</th>      <th>z</th>      <th>P>|z|</th>  <th>[0.025</th>    <th>0.975]</th>  \n",
       "</tr>\n",
       "<tr>\n",
       "  <th>Intercept</th> <td>    2.3314</td> <td>    1.204</td> <td>    1.937</td> <td> 0.053</td> <td>   -0.028</td> <td>    4.691</td>\n",
       "</tr>\n",
       "<tr>\n",
       "  <th>age</th>       <td>   -0.1043</td> <td>    0.038</td> <td>   -2.781</td> <td> 0.005</td> <td>   -0.178</td> <td>   -0.031</td>\n",
       "</tr>\n",
       "<tr>\n",
       "  <th>service</th>   <td>    0.0452</td> <td>    0.079</td> <td>    0.572</td> <td> 0.567</td> <td>   -0.110</td> <td>    0.200</td>\n",
       "</tr>\n",
       "<tr>\n",
       "  <th>social</th>    <td>    0.1920</td> <td>    0.247</td> <td>    0.779</td> <td> 0.436</td> <td>   -0.291</td> <td>    0.675</td>\n",
       "</tr>\n",
       "<tr>\n",
       "  <th>booked</th>    <td>   -0.9542</td> <td>    0.272</td> <td>   -3.512</td> <td> 0.000</td> <td>   -1.487</td> <td>   -0.422</td>\n",
       "</tr>\n",
       "</table>"
      ],
      "text/latex": [
       "\\begin{center}\n",
       "\\begin{tabular}{lclc}\n",
       "\\toprule\n",
       "\\textbf{Dep. Variable:}   &      target      & \\textbf{  No. Observations:  } &      400    \\\\\n",
       "\\textbf{Model:}           &      Logit       & \\textbf{  Df Residuals:      } &      395    \\\\\n",
       "\\textbf{Method:}          &       MLE        & \\textbf{  Df Model:          } &        4    \\\\\n",
       "\\textbf{Date:}            & Thu, 28 Nov 2024 & \\textbf{  Pseudo R-squ.:     } &  0.05254    \\\\\n",
       "\\textbf{Time:}            &     23:32:44     & \\textbf{  Log-Likelihood:    } &   -211.01   \\\\\n",
       "\\textbf{converged:}       &       True       & \\textbf{  LL-Null:           } &   -222.71   \\\\\n",
       "\\textbf{Covariance Type:} &    nonrobust     & \\textbf{  LLR p-value:       } & 0.0001052   \\\\\n",
       "\\bottomrule\n",
       "\\end{tabular}\n",
       "\\begin{tabular}{lcccccc}\n",
       "                   & \\textbf{coef} & \\textbf{std err} & \\textbf{z} & \\textbf{P$> |$z$|$} & \\textbf{[0.025} & \\textbf{0.975]}  \\\\\n",
       "\\midrule\n",
       "\\textbf{Intercept} &       2.3314  &        1.204     &     1.937  &         0.053        &       -0.028    &        4.691     \\\\\n",
       "\\textbf{age}       &      -0.1043  &        0.038     &    -2.781  &         0.005        &       -0.178    &       -0.031     \\\\\n",
       "\\textbf{service}   &       0.0452  &        0.079     &     0.572  &         0.567        &       -0.110    &        0.200     \\\\\n",
       "\\textbf{social}    &       0.1920  &        0.247     &     0.779  &         0.436        &       -0.291    &        0.675     \\\\\n",
       "\\textbf{booked}    &      -0.9542  &        0.272     &    -3.512  &         0.000        &       -1.487    &       -0.422     \\\\\n",
       "\\bottomrule\n",
       "\\end{tabular}\n",
       "%\\caption{Logit Regression Results}\n",
       "\\end{center}"
      ],
      "text/plain": [
       "<class 'statsmodels.iolib.summary.Summary'>\n",
       "\"\"\"\n",
       "                           Logit Regression Results                           \n",
       "==============================================================================\n",
       "Dep. Variable:                 target   No. Observations:                  400\n",
       "Model:                          Logit   Df Residuals:                      395\n",
       "Method:                           MLE   Df Model:                            4\n",
       "Date:                Thu, 28 Nov 2024   Pseudo R-squ.:                 0.05254\n",
       "Time:                        23:32:44   Log-Likelihood:                -211.01\n",
       "converged:                       True   LL-Null:                       -222.71\n",
       "Covariance Type:            nonrobust   LLR p-value:                 0.0001052\n",
       "==============================================================================\n",
       "                 coef    std err          z      P>|z|      [0.025      0.975]\n",
       "------------------------------------------------------------------------------\n",
       "Intercept      2.3314      1.204      1.937      0.053      -0.028       4.691\n",
       "age           -0.1043      0.038     -2.781      0.005      -0.178      -0.031\n",
       "service        0.0452      0.079      0.572      0.567      -0.110       0.200\n",
       "social         0.1920      0.247      0.779      0.436      -0.291       0.675\n",
       "booked        -0.9542      0.272     -3.512      0.000      -1.487      -0.422\n",
       "==============================================================================\n",
       "\"\"\""
      ]
     },
     "execution_count": 8,
     "metadata": {},
     "output_type": "execute_result"
    }
   ],
   "source": [
    "from statsmodels.formula.api import logit\n",
    "model = logit('target ~ age + service + social + booked', df1).fit()\n",
    "model.summary()"
   ]
  },
  {
   "cell_type": "code",
   "execution_count": 9,
   "id": "2e0d5326-0d75-45fa-a6b0-098b41dc9d52",
   "metadata": {},
   "outputs": [
    {
     "name": "stdout",
     "output_type": "stream",
     "text": [
      "Optimization terminated successfully.\n",
      "         Current function value: 0.528581\n",
      "         Iterations 6\n"
     ]
    },
    {
     "data": {
      "text/html": [
       "<table class=\"simpletable\">\n",
       "<caption>Logit Regression Results</caption>\n",
       "<tr>\n",
       "  <th>Dep. Variable:</th>        <td>target</td>      <th>  No. Observations:  </th>  <td>   400</td>  \n",
       "</tr>\n",
       "<tr>\n",
       "  <th>Model:</th>                 <td>Logit</td>      <th>  Df Residuals:      </th>  <td>   397</td>  \n",
       "</tr>\n",
       "<tr>\n",
       "  <th>Method:</th>                 <td>MLE</td>       <th>  Df Model:          </th>  <td>     2</td>  \n",
       "</tr>\n",
       "<tr>\n",
       "  <th>Date:</th>            <td>Thu, 28 Nov 2024</td> <th>  Pseudo R-squ.:     </th>  <td>0.05064</td> \n",
       "</tr>\n",
       "<tr>\n",
       "  <th>Time:</th>                <td>23:35:04</td>     <th>  Log-Likelihood:    </th> <td> -211.43</td> \n",
       "</tr>\n",
       "<tr>\n",
       "  <th>converged:</th>             <td>True</td>       <th>  LL-Null:           </th> <td> -222.71</td> \n",
       "</tr>\n",
       "<tr>\n",
       "  <th>Covariance Type:</th>     <td>nonrobust</td>    <th>  LLR p-value:       </th> <td>1.265e-05</td>\n",
       "</tr>\n",
       "</table>\n",
       "<table class=\"simpletable\">\n",
       "<tr>\n",
       "      <td></td>         <th>coef</th>     <th>std err</th>      <th>z</th>      <th>P>|z|</th>  <th>[0.025</th>    <th>0.975]</th>  \n",
       "</tr>\n",
       "<tr>\n",
       "  <th>Intercept</th> <td>    2.4581</td> <td>    1.184</td> <td>    2.076</td> <td> 0.038</td> <td>    0.137</td> <td>    4.779</td>\n",
       "</tr>\n",
       "<tr>\n",
       "  <th>age</th>       <td>   -0.1025</td> <td>    0.037</td> <td>   -2.752</td> <td> 0.006</td> <td>   -0.176</td> <td>   -0.030</td>\n",
       "</tr>\n",
       "<tr>\n",
       "  <th>booked</th>    <td>   -0.9461</td> <td>    0.267</td> <td>   -3.542</td> <td> 0.000</td> <td>   -1.470</td> <td>   -0.423</td>\n",
       "</tr>\n",
       "</table>"
      ],
      "text/latex": [
       "\\begin{center}\n",
       "\\begin{tabular}{lclc}\n",
       "\\toprule\n",
       "\\textbf{Dep. Variable:}   &      target      & \\textbf{  No. Observations:  } &      400    \\\\\n",
       "\\textbf{Model:}           &      Logit       & \\textbf{  Df Residuals:      } &      397    \\\\\n",
       "\\textbf{Method:}          &       MLE        & \\textbf{  Df Model:          } &        2    \\\\\n",
       "\\textbf{Date:}            & Thu, 28 Nov 2024 & \\textbf{  Pseudo R-squ.:     } &  0.05064    \\\\\n",
       "\\textbf{Time:}            &     23:35:04     & \\textbf{  Log-Likelihood:    } &   -211.43   \\\\\n",
       "\\textbf{converged:}       &       True       & \\textbf{  LL-Null:           } &   -222.71   \\\\\n",
       "\\textbf{Covariance Type:} &    nonrobust     & \\textbf{  LLR p-value:       } & 1.265e-05   \\\\\n",
       "\\bottomrule\n",
       "\\end{tabular}\n",
       "\\begin{tabular}{lcccccc}\n",
       "                   & \\textbf{coef} & \\textbf{std err} & \\textbf{z} & \\textbf{P$> |$z$|$} & \\textbf{[0.025} & \\textbf{0.975]}  \\\\\n",
       "\\midrule\n",
       "\\textbf{Intercept} &       2.4581  &        1.184     &     2.076  &         0.038        &        0.137    &        4.779     \\\\\n",
       "\\textbf{age}       &      -0.1025  &        0.037     &    -2.752  &         0.006        &       -0.176    &       -0.030     \\\\\n",
       "\\textbf{booked}    &      -0.9461  &        0.267     &    -3.542  &         0.000        &       -1.470    &       -0.423     \\\\\n",
       "\\bottomrule\n",
       "\\end{tabular}\n",
       "%\\caption{Logit Regression Results}\n",
       "\\end{center}"
      ],
      "text/plain": [
       "<class 'statsmodels.iolib.summary.Summary'>\n",
       "\"\"\"\n",
       "                           Logit Regression Results                           \n",
       "==============================================================================\n",
       "Dep. Variable:                 target   No. Observations:                  400\n",
       "Model:                          Logit   Df Residuals:                      397\n",
       "Method:                           MLE   Df Model:                            2\n",
       "Date:                Thu, 28 Nov 2024   Pseudo R-squ.:                 0.05064\n",
       "Time:                        23:35:04   Log-Likelihood:                -211.43\n",
       "converged:                       True   LL-Null:                       -222.71\n",
       "Covariance Type:            nonrobust   LLR p-value:                 1.265e-05\n",
       "==============================================================================\n",
       "                 coef    std err          z      P>|z|      [0.025      0.975]\n",
       "------------------------------------------------------------------------------\n",
       "Intercept      2.4581      1.184      2.076      0.038       0.137       4.779\n",
       "age           -0.1025      0.037     -2.752      0.006      -0.176      -0.030\n",
       "booked        -0.9461      0.267     -3.542      0.000      -1.470      -0.423\n",
       "==============================================================================\n",
       "\"\"\""
      ]
     },
     "execution_count": 9,
     "metadata": {},
     "output_type": "execute_result"
    }
   ],
   "source": [
    "model = logit('target ~ age + booked', df1).fit()\n",
    "model.summary()"
   ]
  },
  {
   "cell_type": "code",
   "execution_count": 16,
   "id": "90c6b65e-bb5e-4fbe-be55-e6dc39a089f6",
   "metadata": {},
   "outputs": [
    {
     "data": {
      "text/plain": [
       "Intercept    0.037896\n",
       "age          0.005922\n",
       "booked       0.000397\n",
       "dtype: float64"
      ]
     },
     "execution_count": 16,
     "metadata": {},
     "output_type": "execute_result"
    }
   ],
   "source": [
    "model.pvalues"
   ]
  },
  {
   "cell_type": "code",
   "execution_count": 22,
   "id": "8d3c2325-d3db-427d-8edf-3ca1afec201a",
   "metadata": {},
   "outputs": [
    {
     "data": {
      "text/plain": [
       "'Intercept'"
      ]
     },
     "execution_count": 22,
     "metadata": {},
     "output_type": "execute_result"
    }
   ],
   "source": [
    "p_series = model.pvalues.sort_values(ascending=False).idxmax()\n",
    "p_series"
   ]
  },
  {
   "cell_type": "code",
   "execution_count": 23,
   "id": "382c0896-a776-4090-aeb6-b9c149c9e1b6",
   "metadata": {},
   "outputs": [
    {
     "data": {
      "text/plain": [
       "-211.4323825144558"
      ]
     },
     "execution_count": 23,
     "metadata": {},
     "output_type": "execute_result"
    }
   ],
   "source": [
    "model.llf"
   ]
  },
  {
   "cell_type": "code",
   "execution_count": 24,
   "id": "ca9a32b9-fcbf-40e8-9f52-e5be63577d4d",
   "metadata": {},
   "outputs": [
    {
     "data": {
      "text/plain": [
       "422.8647650289116"
      ]
     },
     "execution_count": 24,
     "metadata": {},
     "output_type": "execute_result"
    }
   ],
   "source": [
    "-2 * model.llf"
   ]
  },
  {
   "cell_type": "code",
   "execution_count": null,
   "id": "ef27bf66-eecd-45ed-aac8-6929e9239e9b",
   "metadata": {},
   "outputs": [],
   "source": []
  }
 ],
 "metadata": {
  "kernelspec": {
   "display_name": "Python 3 (ipykernel)",
   "language": "python",
   "name": "python3"
  },
  "language_info": {
   "codemirror_mode": {
    "name": "ipython",
    "version": 3
   },
   "file_extension": ".py",
   "mimetype": "text/x-python",
   "name": "python",
   "nbconvert_exporter": "python",
   "pygments_lexer": "ipython3",
   "version": "3.10.0"
  }
 },
 "nbformat": 4,
 "nbformat_minor": 5
}
