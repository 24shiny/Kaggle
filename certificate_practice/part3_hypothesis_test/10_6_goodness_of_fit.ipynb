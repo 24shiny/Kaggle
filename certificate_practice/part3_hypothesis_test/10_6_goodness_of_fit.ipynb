{
 "cells": [
  {
   "cell_type": "code",
   "execution_count": 3,
   "id": "e0772cbc-633c-4864-ba17-a6fbce6c839a",
   "metadata": {},
   "outputs": [
    {
     "data": {
      "text/plain": [
       "Power_divergenceResult(statistic=22.166666666666668, pvalue=0.00018567620386641427)"
      ]
     },
     "execution_count": 3,
     "metadata": {},
     "output_type": "execute_result"
    }
   ],
   "source": [
    "# goodness of fit - chisquare\n",
    "\n",
    "# data\n",
    "import numpy as np\n",
    "observed = [550, 250, 100, 70, 30]\n",
    "expected =  np.array([0.6, 0.25, 0.08, 0.05, 0.02]) * 1000\n",
    "\n",
    "from scipy import stats\n",
    "stats.chisquare(observed, expected)"
   ]
  },
  {
   "cell_type": "code",
   "execution_count": 4,
   "id": "fc1562a2-bc89-4ebf-9e6d-7c089fe399c5",
   "metadata": {},
   "outputs": [
    {
     "data": {
      "text/plain": [
       "0.00018567620386641427"
      ]
     },
     "execution_count": 4,
     "metadata": {},
     "output_type": "execute_result"
    }
   ],
   "source": [
    "stats.chisquare(observed, expected).pvalue"
   ]
  },
  {
   "cell_type": "markdown",
   "id": "dbcbf204-b172-45f0-9494-0a1e3b23e78a",
   "metadata": {},
   "source": [
    "REJECT.."
   ]
  }
 ],
 "metadata": {
  "kernelspec": {
   "display_name": "Python 3 (ipykernel)",
   "language": "python",
   "name": "python3"
  },
  "language_info": {
   "codemirror_mode": {
    "name": "ipython",
    "version": 3
   },
   "file_extension": ".py",
   "mimetype": "text/x-python",
   "name": "python",
   "nbconvert_exporter": "python",
   "pygments_lexer": "ipython3",
   "version": "3.10.0"
  }
 },
 "nbformat": 4,
 "nbformat_minor": 5
}
