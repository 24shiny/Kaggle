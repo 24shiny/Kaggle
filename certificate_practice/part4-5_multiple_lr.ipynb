{
 "cells": [
  {
   "cell_type": "markdown",
   "id": "e4cc7545-302f-4840-97ce-625aac0c990e",
   "metadata": {},
   "source": [
    "Linear regression of Temp w.r.t Ozone, Solar. R and Wind"
   ]
  },
  {
   "cell_type": "code",
   "execution_count": 1,
   "id": "4a8396cc-4e82-40d0-b38e-b3d73ace25f7",
   "metadata": {},
   "outputs": [
    {
     "data": {
      "text/html": [
       "<div>\n",
       "<style scoped>\n",
       "    .dataframe tbody tr th:only-of-type {\n",
       "        vertical-align: middle;\n",
       "    }\n",
       "\n",
       "    .dataframe tbody tr th {\n",
       "        vertical-align: top;\n",
       "    }\n",
       "\n",
       "    .dataframe thead th {\n",
       "        text-align: right;\n",
       "    }\n",
       "</style>\n",
       "<table border=\"1\" class=\"dataframe\">\n",
       "  <thead>\n",
       "    <tr style=\"text-align: right;\">\n",
       "      <th></th>\n",
       "      <th>Ozone</th>\n",
       "      <th>Solar.R</th>\n",
       "      <th>Wind</th>\n",
       "      <th>Temp</th>\n",
       "      <th>Month</th>\n",
       "      <th>Day</th>\n",
       "    </tr>\n",
       "  </thead>\n",
       "  <tbody>\n",
       "    <tr>\n",
       "      <th>0</th>\n",
       "      <td>41.0</td>\n",
       "      <td>190.0</td>\n",
       "      <td>7.4</td>\n",
       "      <td>67</td>\n",
       "      <td>5</td>\n",
       "      <td>1</td>\n",
       "    </tr>\n",
       "    <tr>\n",
       "      <th>1</th>\n",
       "      <td>36.0</td>\n",
       "      <td>118.0</td>\n",
       "      <td>8.0</td>\n",
       "      <td>72</td>\n",
       "      <td>5</td>\n",
       "      <td>2</td>\n",
       "    </tr>\n",
       "    <tr>\n",
       "      <th>2</th>\n",
       "      <td>12.0</td>\n",
       "      <td>149.0</td>\n",
       "      <td>12.6</td>\n",
       "      <td>74</td>\n",
       "      <td>5</td>\n",
       "      <td>3</td>\n",
       "    </tr>\n",
       "    <tr>\n",
       "      <th>3</th>\n",
       "      <td>18.0</td>\n",
       "      <td>313.0</td>\n",
       "      <td>11.5</td>\n",
       "      <td>62</td>\n",
       "      <td>5</td>\n",
       "      <td>4</td>\n",
       "    </tr>\n",
       "    <tr>\n",
       "      <th>4</th>\n",
       "      <td>NaN</td>\n",
       "      <td>NaN</td>\n",
       "      <td>14.3</td>\n",
       "      <td>56</td>\n",
       "      <td>5</td>\n",
       "      <td>5</td>\n",
       "    </tr>\n",
       "  </tbody>\n",
       "</table>\n",
       "</div>"
      ],
      "text/plain": [
       "   Ozone  Solar.R  Wind  Temp  Month  Day\n",
       "0   41.0    190.0   7.4    67      5    1\n",
       "1   36.0    118.0   8.0    72      5    2\n",
       "2   12.0    149.0  12.6    74      5    3\n",
       "3   18.0    313.0  11.5    62      5    4\n",
       "4    NaN      NaN  14.3    56      5    5"
      ]
     },
     "execution_count": 1,
     "metadata": {},
     "output_type": "execute_result"
    }
   ],
   "source": [
    "import pandas as pd\n",
    "df = pd.read_csv('data/airquality.csv')\n",
    "df.head()"
   ]
  },
  {
   "cell_type": "code",
   "execution_count": 2,
   "id": "8d5b6b53-7b37-418e-b7c5-29de9f345907",
   "metadata": {},
   "outputs": [
    {
     "data": {
      "text/plain": [
       "Ozone      37\n",
       "Solar.R     7\n",
       "Wind        0\n",
       "Temp        0\n",
       "Month       0\n",
       "Day         0\n",
       "dtype: int64"
      ]
     },
     "execution_count": 2,
     "metadata": {},
     "output_type": "execute_result"
    }
   ],
   "source": [
    "df.isna().sum()"
   ]
  },
  {
   "cell_type": "code",
   "execution_count": 3,
   "id": "145c9c0f-0998-4978-a1de-00f4a0e0a61b",
   "metadata": {},
   "outputs": [
    {
     "name": "stdout",
     "output_type": "stream",
     "text": [
      "<class 'pandas.core.frame.DataFrame'>\n",
      "RangeIndex: 153 entries, 0 to 152\n",
      "Data columns (total 6 columns):\n",
      " #   Column   Non-Null Count  Dtype  \n",
      "---  ------   --------------  -----  \n",
      " 0   Ozone    116 non-null    float64\n",
      " 1   Solar.R  146 non-null    float64\n",
      " 2   Wind     153 non-null    float64\n",
      " 3   Temp     153 non-null    int64  \n",
      " 4   Month    153 non-null    int64  \n",
      " 5   Day      153 non-null    int64  \n",
      "dtypes: float64(3), int64(3)\n",
      "memory usage: 7.3 KB\n"
     ]
    }
   ],
   "source": [
    "df.info()"
   ]
  },
  {
   "cell_type": "code",
   "execution_count": 4,
   "id": "43f85158-1470-4c31-92c2-271c6cf7b7bf",
   "metadata": {},
   "outputs": [
    {
     "name": "stdout",
     "output_type": "stream",
     "text": [
      "<class 'pandas.core.frame.DataFrame'>\n",
      "Index: 111 entries, 0 to 152\n",
      "Data columns (total 6 columns):\n",
      " #   Column   Non-Null Count  Dtype  \n",
      "---  ------   --------------  -----  \n",
      " 0   Ozone    111 non-null    float64\n",
      " 1   Solar.R  111 non-null    float64\n",
      " 2   Wind     111 non-null    float64\n",
      " 3   Temp     111 non-null    int64  \n",
      " 4   Month    111 non-null    int64  \n",
      " 5   Day      111 non-null    int64  \n",
      "dtypes: float64(3), int64(3)\n",
      "memory usage: 6.1 KB\n"
     ]
    }
   ],
   "source": [
    "df = df.dropna()\n",
    "df.info()"
   ]
  },
  {
   "cell_type": "code",
   "execution_count": 8,
   "id": "c94de505-866a-4ab9-9d3d-d6a603bceeea",
   "metadata": {},
   "outputs": [
    {
     "name": "stdout",
     "output_type": "stream",
     "text": [
      "0.930836467182899\n",
      "0.7355713874131973\n"
     ]
    }
   ],
   "source": [
    "data_input = df[['Ozone', 'Solar.R', 'Wind']]\n",
    "data_target = df['Temp']\n",
    "\n",
    "from sklearn.model_selection import train_test_split\n",
    "train_input, test_input, train_target, test_target = train_test_split(data_input, data_target, random_state=42)\n",
    "\n",
    "from sklearn.ensemble import RandomForestRegressor\n",
    "rf = RandomForestRegressor()\n",
    "rf.fit(train_input, train_target)\n",
    "print(rf.score(train_input, train_target))\n",
    "print(rf.score(test_input, test_target))"
   ]
  },
  {
   "cell_type": "code",
   "execution_count": 14,
   "id": "b372c8d1-0e8d-4ca0-9aba-733b66d0a5d3",
   "metadata": {},
   "outputs": [
    {
     "data": {
      "text/plain": [
       "array([0.71636976, 0.14046393, 0.14316632])"
      ]
     },
     "execution_count": 14,
     "metadata": {},
     "output_type": "execute_result"
    }
   ],
   "source": [
    "# get coefficients\n",
    "rf.feature_importances_"
   ]
  },
  {
   "cell_type": "code",
   "execution_count": 15,
   "id": "76db8b4e-1f2e-4635-bb64-7a9d9228b778",
   "metadata": {},
   "outputs": [
    {
     "name": "stdout",
     "output_type": "stream",
     "text": [
      "0.543783846859172\n",
      "0.3965621386296555\n"
     ]
    }
   ],
   "source": [
    "from sklearn.linear_model import LinearRegression\n",
    "lr = LinearRegression()\n",
    "lr.fit(train_input, train_target)\n",
    "print(lr.score(train_input, train_target))\n",
    "print(lr.score(test_input, test_target))"
   ]
  },
  {
   "cell_type": "code",
   "execution_count": 16,
   "id": "d9ce149a-80a0-493f-8c8f-fa604524ddba",
   "metadata": {},
   "outputs": [
    {
     "data": {
      "text/plain": [
       "array([ 0.1895721 ,  0.00413073, -0.31396489])"
      ]
     },
     "execution_count": 16,
     "metadata": {},
     "output_type": "execute_result"
    }
   ],
   "source": [
    "lr.coef_"
   ]
  },
  {
   "cell_type": "code",
   "execution_count": 17,
   "id": "7273fa7d-0342-4ac9-9070-c6f2391406d1",
   "metadata": {},
   "outputs": [
    {
     "data": {
      "text/plain": [
       "0.7163697571244806"
      ]
     },
     "execution_count": 17,
     "metadata": {},
     "output_type": "execute_result"
    }
   ],
   "source": [
    "# Q1 an estimated coefficient for Ozone\n",
    "rf.feature_importances_[0]"
   ]
  },
  {
   "cell_type": "code",
   "execution_count": 18,
   "id": "fdb4bb61-5402-49b4-ada4-11fb8c336eee",
   "metadata": {},
   "outputs": [
    {
     "data": {
      "text/html": [
       "<div>\n",
       "<style scoped>\n",
       "    .dataframe tbody tr th:only-of-type {\n",
       "        vertical-align: middle;\n",
       "    }\n",
       "\n",
       "    .dataframe tbody tr th {\n",
       "        vertical-align: top;\n",
       "    }\n",
       "\n",
       "    .dataframe thead th {\n",
       "        text-align: right;\n",
       "    }\n",
       "</style>\n",
       "<table border=\"1\" class=\"dataframe\">\n",
       "  <thead>\n",
       "    <tr style=\"text-align: right;\">\n",
       "      <th></th>\n",
       "      <th>const</th>\n",
       "      <th>Ozone</th>\n",
       "      <th>Solar.R</th>\n",
       "      <th>Wind</th>\n",
       "    </tr>\n",
       "  </thead>\n",
       "  <tbody>\n",
       "    <tr>\n",
       "      <th>0</th>\n",
       "      <td>1.0</td>\n",
       "      <td>41.0</td>\n",
       "      <td>190.0</td>\n",
       "      <td>7.4</td>\n",
       "    </tr>\n",
       "    <tr>\n",
       "      <th>1</th>\n",
       "      <td>1.0</td>\n",
       "      <td>36.0</td>\n",
       "      <td>118.0</td>\n",
       "      <td>8.0</td>\n",
       "    </tr>\n",
       "    <tr>\n",
       "      <th>2</th>\n",
       "      <td>1.0</td>\n",
       "      <td>12.0</td>\n",
       "      <td>149.0</td>\n",
       "      <td>12.6</td>\n",
       "    </tr>\n",
       "    <tr>\n",
       "      <th>3</th>\n",
       "      <td>1.0</td>\n",
       "      <td>18.0</td>\n",
       "      <td>313.0</td>\n",
       "      <td>11.5</td>\n",
       "    </tr>\n",
       "    <tr>\n",
       "      <th>6</th>\n",
       "      <td>1.0</td>\n",
       "      <td>23.0</td>\n",
       "      <td>299.0</td>\n",
       "      <td>8.6</td>\n",
       "    </tr>\n",
       "    <tr>\n",
       "      <th>...</th>\n",
       "      <td>...</td>\n",
       "      <td>...</td>\n",
       "      <td>...</td>\n",
       "      <td>...</td>\n",
       "    </tr>\n",
       "    <tr>\n",
       "      <th>147</th>\n",
       "      <td>1.0</td>\n",
       "      <td>14.0</td>\n",
       "      <td>20.0</td>\n",
       "      <td>16.6</td>\n",
       "    </tr>\n",
       "    <tr>\n",
       "      <th>148</th>\n",
       "      <td>1.0</td>\n",
       "      <td>30.0</td>\n",
       "      <td>193.0</td>\n",
       "      <td>6.9</td>\n",
       "    </tr>\n",
       "    <tr>\n",
       "      <th>150</th>\n",
       "      <td>1.0</td>\n",
       "      <td>14.0</td>\n",
       "      <td>191.0</td>\n",
       "      <td>14.3</td>\n",
       "    </tr>\n",
       "    <tr>\n",
       "      <th>151</th>\n",
       "      <td>1.0</td>\n",
       "      <td>18.0</td>\n",
       "      <td>131.0</td>\n",
       "      <td>8.0</td>\n",
       "    </tr>\n",
       "    <tr>\n",
       "      <th>152</th>\n",
       "      <td>1.0</td>\n",
       "      <td>20.0</td>\n",
       "      <td>223.0</td>\n",
       "      <td>11.5</td>\n",
       "    </tr>\n",
       "  </tbody>\n",
       "</table>\n",
       "<p>111 rows × 4 columns</p>\n",
       "</div>"
      ],
      "text/plain": [
       "     const  Ozone  Solar.R  Wind\n",
       "0      1.0   41.0    190.0   7.4\n",
       "1      1.0   36.0    118.0   8.0\n",
       "2      1.0   12.0    149.0  12.6\n",
       "3      1.0   18.0    313.0  11.5\n",
       "6      1.0   23.0    299.0   8.6\n",
       "..     ...    ...      ...   ...\n",
       "147    1.0   14.0     20.0  16.6\n",
       "148    1.0   30.0    193.0   6.9\n",
       "150    1.0   14.0    191.0  14.3\n",
       "151    1.0   18.0    131.0   8.0\n",
       "152    1.0   20.0    223.0  11.5\n",
       "\n",
       "[111 rows x 4 columns]"
      ]
     },
     "execution_count": 18,
     "metadata": {},
     "output_type": "execute_result"
    }
   ],
   "source": [
    "# Q2 with Solar.R and Ozone fixed, check if Temp is anti-proportional to Wind\n",
    "# print the p-value of the Wind's coeff.\n",
    "data_input = sm.add_constant(data_input)\n",
    "data_input"
   ]
  },
  {
   "cell_type": "code",
   "execution_count": 19,
   "id": "a2550737-ec42-4ac8-9f62-7bac9c547613",
   "metadata": {},
   "outputs": [
    {
     "name": "stdout",
     "output_type": "stream",
     "text": [
      "                            OLS Regression Results                            \n",
      "==============================================================================\n",
      "Dep. Variable:                   Temp   R-squared:                       0.500\n",
      "Model:                            OLS   Adj. R-squared:                  0.486\n",
      "Method:                 Least Squares   F-statistic:                     35.65\n",
      "Date:                Mon, 25 Nov 2024   Prob (F-statistic):           4.73e-16\n",
      "Time:                        23:26:43   Log-Likelihood:                -368.79\n",
      "No. Observations:                 111   AIC:                             745.6\n",
      "Df Residuals:                     107   BIC:                             756.4\n",
      "Df Model:                           3                                         \n",
      "Covariance Type:            nonrobust                                         \n",
      "==============================================================================\n",
      "                 coef    std err          t      P>|t|      [0.025      0.975]\n",
      "------------------------------------------------------------------------------\n",
      "const         72.4186      3.216     22.522      0.000      66.044      78.793\n",
      "Ozone          0.1720      0.026      6.516      0.000       0.120       0.224\n",
      "Solar.R        0.0073      0.008      0.948      0.345      -0.008       0.022\n",
      "Wind          -0.3229      0.233     -1.384      0.169      -0.785       0.139\n",
      "==============================================================================\n",
      "Omnibus:                        6.409   Durbin-Watson:                   1.170\n",
      "Prob(Omnibus):                  0.041   Jarque-Bera (JB):                6.615\n",
      "Skew:                          -0.591   Prob(JB):                       0.0366\n",
      "Kurtosis:                       2.817   Cond. No.                     1.05e+03\n",
      "==============================================================================\n",
      "\n",
      "Notes:\n",
      "[1] Standard Errors assume that the covariance matrix of the errors is correctly specified.\n",
      "[2] The condition number is large, 1.05e+03. This might indicate that there are\n",
      "strong multicollinearity or other numerical problems.\n"
     ]
    }
   ],
   "source": [
    "model = sm.OLS(data_target, data_input).fit()\n",
    "print(model.summary())"
   ]
  },
  {
   "cell_type": "code",
   "execution_count": 20,
   "id": "a780b78f-8128-4766-8e17-024c1019ba48",
   "metadata": {},
   "outputs": [
    {
     "data": {
      "text/plain": [
       "0.16909868598497838"
      ]
     },
     "execution_count": 20,
     "metadata": {},
     "output_type": "execute_result"
    }
   ],
   "source": [
    "model.pvalues['Wind']"
   ]
  },
  {
   "cell_type": "code",
   "execution_count": 32,
   "id": "55671890-6ad1-4148-b1c3-6583776d9811",
   "metadata": {},
   "outputs": [
    {
     "data": {
      "text/plain": [
       "65.63"
      ]
     },
     "execution_count": 32,
     "metadata": {},
     "output_type": "execute_result"
    }
   ],
   "source": [
    "# Q3. prediction of Temp when Ozone=10, Solar.R=10, and Wind=20.\n",
    "import numpy as np\n",
    "given = pd.DataFrame({'Ozone':[10], 'Solar.R':[10], 'Wind':[20]})\n",
    "np.round(rf.predict(given)[0], 3)"
   ]
  },
  {
   "cell_type": "code",
   "execution_count": null,
   "id": "38e41e4c-83c7-440e-b05d-5ed28a71efe9",
   "metadata": {},
   "outputs": [],
   "source": []
  }
 ],
 "metadata": {
  "kernelspec": {
   "display_name": "Python 3 (ipykernel)",
   "language": "python",
   "name": "python3"
  },
  "language_info": {
   "codemirror_mode": {
    "name": "ipython",
    "version": 3
   },
   "file_extension": ".py",
   "mimetype": "text/x-python",
   "name": "python",
   "nbconvert_exporter": "python",
   "pygments_lexer": "ipython3",
   "version": "3.10.0"
  }
 },
 "nbformat": 4,
 "nbformat_minor": 5
}
