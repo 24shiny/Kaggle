{
 "cells": [
  {
   "cell_type": "code",
   "execution_count": 1,
   "id": "314d697a-fec1-4764-8793-87b83d4a9d6f",
   "metadata": {},
   "outputs": [
    {
     "data": {
      "text/html": [
       "<div>\n",
       "<style scoped>\n",
       "    .dataframe tbody tr th:only-of-type {\n",
       "        vertical-align: middle;\n",
       "    }\n",
       "\n",
       "    .dataframe tbody tr th {\n",
       "        vertical-align: top;\n",
       "    }\n",
       "\n",
       "    .dataframe thead th {\n",
       "        text-align: right;\n",
       "    }\n",
       "</style>\n",
       "<table border=\"1\" class=\"dataframe\">\n",
       "  <thead>\n",
       "    <tr style=\"text-align: right;\">\n",
       "      <th></th>\n",
       "      <th>Girth</th>\n",
       "      <th>Height</th>\n",
       "      <th>Volume</th>\n",
       "    </tr>\n",
       "  </thead>\n",
       "  <tbody>\n",
       "    <tr>\n",
       "      <th>0</th>\n",
       "      <td>8.3</td>\n",
       "      <td>70</td>\n",
       "      <td>10.3</td>\n",
       "    </tr>\n",
       "    <tr>\n",
       "      <th>1</th>\n",
       "      <td>8.6</td>\n",
       "      <td>65</td>\n",
       "      <td>10.3</td>\n",
       "    </tr>\n",
       "    <tr>\n",
       "      <th>2</th>\n",
       "      <td>8.8</td>\n",
       "      <td>63</td>\n",
       "      <td>10.2</td>\n",
       "    </tr>\n",
       "    <tr>\n",
       "      <th>3</th>\n",
       "      <td>10.5</td>\n",
       "      <td>72</td>\n",
       "      <td>16.4</td>\n",
       "    </tr>\n",
       "    <tr>\n",
       "      <th>4</th>\n",
       "      <td>10.7</td>\n",
       "      <td>81</td>\n",
       "      <td>18.8</td>\n",
       "    </tr>\n",
       "  </tbody>\n",
       "</table>\n",
       "</div>"
      ],
      "text/plain": [
       "   Girth  Height  Volume\n",
       "0    8.3      70    10.3\n",
       "1    8.6      65    10.3\n",
       "2    8.8      63    10.2\n",
       "3   10.5      72    16.4\n",
       "4   10.7      81    18.8"
      ]
     },
     "execution_count": 1,
     "metadata": {},
     "output_type": "execute_result"
    }
   ],
   "source": [
    "# tree dataset\n",
    "import pandas as pd\n",
    "import statsmodels.api as sm\n",
    "tree = sm.datasets.get_rdataset('trees').data\n",
    "tree.head()"
   ]
  },
  {
   "cell_type": "code",
   "execution_count": 2,
   "id": "180638fc-f69e-436d-9568-1c956a805720",
   "metadata": {},
   "outputs": [
    {
     "name": "stdout",
     "output_type": "stream",
     "text": [
      "<class 'pandas.core.frame.DataFrame'>\n",
      "RangeIndex: 31 entries, 0 to 30\n",
      "Data columns (total 3 columns):\n",
      " #   Column  Non-Null Count  Dtype  \n",
      "---  ------  --------------  -----  \n",
      " 0   Girth   31 non-null     float64\n",
      " 1   Height  31 non-null     int64  \n",
      " 2   Volume  31 non-null     float64\n",
      "dtypes: float64(2), int64(1)\n",
      "memory usage: 876.0 bytes\n"
     ]
    }
   ],
   "source": [
    "tree.info()"
   ]
  },
  {
   "cell_type": "code",
   "execution_count": 5,
   "id": "847c1805-880d-4b50-ab79-930881153fee",
   "metadata": {},
   "outputs": [
    {
     "name": "stdout",
     "output_type": "stream",
     "text": [
      "                            OLS Regression Results                            \n",
      "==============================================================================\n",
      "Dep. Variable:                 Volume   R-squared:                       0.948\n",
      "Model:                            OLS   Adj. R-squared:                  0.944\n",
      "Method:                 Least Squares   F-statistic:                     255.0\n",
      "Date:                Mon, 25 Nov 2024   Prob (F-statistic):           1.07e-18\n",
      "Time:                        16:43:18   Log-Likelihood:                -84.455\n",
      "No. Observations:                  31   AIC:                             174.9\n",
      "Df Residuals:                      28   BIC:                             179.2\n",
      "Df Model:                           2                                         \n",
      "Covariance Type:            nonrobust                                         \n",
      "==============================================================================\n",
      "                 coef    std err          t      P>|t|      [0.025      0.975]\n",
      "------------------------------------------------------------------------------\n",
      "Intercept    -57.9877      8.638     -6.713      0.000     -75.682     -40.293\n",
      "Girth          4.7082      0.264     17.816      0.000       4.167       5.249\n",
      "Height         0.3393      0.130      2.607      0.014       0.073       0.606\n",
      "==============================================================================\n",
      "Omnibus:                        0.923   Durbin-Watson:                   1.266\n",
      "Prob(Omnibus):                  0.630   Jarque-Bera (JB):                0.950\n",
      "Skew:                           0.310   Prob(JB):                        0.622\n",
      "Kurtosis:                       2.408   Cond. No.                         959.\n",
      "==============================================================================\n",
      "\n",
      "Notes:\n",
      "[1] Standard Errors assume that the covariance matrix of the errors is correctly specified.\n"
     ]
    }
   ],
   "source": [
    "# creat a linear regression model with ols\n",
    "model = sm.formula.ols(formula='Volume ~ Girth + Height', data=tree).fit()\n",
    "print(model.summary())"
   ]
  },
  {
   "cell_type": "markdown",
   "id": "07077349-7f69-4b90-9fe6-ea88afe47dca",
   "metadata": {},
   "source": [
    "Note that our linear regression model reads \"Volume = 4.7082*Girth + 0.3393*Height - 57.9877\".\n",
    "All the coefficients are statistically signifant as their corresponding p-values are lower then 0.05.\n",
    "All these results are evaluated with R-sqaured = 0.948."
   ]
  },
  {
   "cell_type": "code",
   "execution_count": 7,
   "id": "d043cff7-7d51-4f87-b223-52def7a1a721",
   "metadata": {},
   "outputs": [
    {
     "data": {
      "text/plain": [
       "0     6.457794\n",
       "1    32.394034\n",
       "2    60.303746\n",
       "dtype: float64"
      ]
     },
     "execution_count": 7,
     "metadata": {},
     "output_type": "execute_result"
    }
   ],
   "source": [
    "# with the use of the regression model, predic a volume of some trees whose girth and weight are known.\n",
    "new_data = pd.DataFrame({'Girth':[8.5, 13.0, 19.0], 'Height':[72,86,85]})\n",
    "vol_predict = model.predict(new_data)\n",
    "vol_predict"
   ]
  },
  {
   "cell_type": "code",
   "execution_count": null,
   "id": "d90de84c-a9f2-46fc-9d00-1a3831ef37c2",
   "metadata": {},
   "outputs": [],
   "source": []
  }
 ],
 "metadata": {
  "kernelspec": {
   "display_name": "Python 3 (ipykernel)",
   "language": "python",
   "name": "python3"
  },
  "language_info": {
   "codemirror_mode": {
    "name": "ipython",
    "version": 3
   },
   "file_extension": ".py",
   "mimetype": "text/x-python",
   "name": "python",
   "nbconvert_exporter": "python",
   "pygments_lexer": "ipython3",
   "version": "3.12.7"
  }
 },
 "nbformat": 4,
 "nbformat_minor": 5
}
