{
 "cells": [
  {
   "cell_type": "markdown",
   "id": "445631f9-3d54-46d3-8b4c-de48eea22d2d",
   "metadata": {},
   "source": [
    "To test the effectiveness of an wight-loss pill\n",
    "<p>\n",
    "    <ol>\n",
    "        <li>H0 : the pill is ineffective</li>\n",
    "        <li>H1 : the pill is effective</li>\n",
    "    </ol>\n",
    "</p>\n",
    "\n",
    "The principle hypothesis of the test of difference between two groups:\n",
    "<br>before-after must follow the normal distribution\n",
    "<p>\n",
    "    <ol>\n",
    "        <li>H0 : (before-after) follows the normal distribution</li>\n",
    "        <li>H1 : (before-after) does not follow the normal distribution</li>\n",
    "    </ol>\n",
    "</p>"
   ]
  },
  {
   "cell_type": "code",
   "execution_count": 3,
   "id": "1cfb8df2-e7c3-46be-8e6c-3fa359d9631b",
   "metadata": {},
   "outputs": [],
   "source": [
    "# create arrays of weights before and after taking the pill\n",
    "before = [59, 72, 85, 69, 78, 82, 55]\n",
    "after = [5, 65, 84, 63, 72, 81, 51]\n",
    "diff = []\n",
    "for i in range(len(before)):\n",
    "    diff.append(before[i]-after[i])"
   ]
  },
  {
   "cell_type": "code",
   "execution_count": 4,
   "id": "56adbfe0-5992-4d27-8481-3c03dc38de6d",
   "metadata": {},
   "outputs": [
    {
     "name": "stdout",
     "output_type": "stream",
     "text": [
      "ShapiroResult(statistic=np.float64(0.9423976962801454), pvalue=np.float64(0.6604026851488589))\n",
      "ShapiroResult(statistic=np.float64(0.8255356192300924), pvalue=np.float64(0.07256419567522492))\n",
      "ShapiroResult(statistic=np.float64(0.5702823802991532), pvalue=np.float64(0.00012075951113591436))\n"
     ]
    }
   ],
   "source": [
    "# check the normality of (before-after) with Shapiro-Wilk test\n",
    "from scipy import stats\n",
    "print(stats.shapiro(before))\n",
    "print(stats.shapiro(after))\n",
    "print(stats.shapiro(diff))"
   ]
  },
  {
   "cell_type": "markdown",
   "id": "1112597e-724e-4438-ac4b-6ef731653012",
   "metadata": {},
   "source": [
    "Each distribution follows the normal distribution, which is confirmed by the fact that their associate pvalues are larger than the significant level 0.05."
   ]
  },
  {
   "cell_type": "code",
   "execution_count": 5,
   "id": "8459b4ad-2752-4268-b382-1213fda27ccb",
   "metadata": {},
   "outputs": [
    {
     "data": {
      "text/plain": [
       "TtestResult(statistic=np.float64(1.572470171599615), pvalue=np.float64(0.08345113211920298), df=np.int64(6))"
      ]
     },
     "execution_count": 5,
     "metadata": {},
     "output_type": "execute_result"
    }
   ],
   "source": [
    "# t-test\n",
    "stats.ttest_rel(before, after, alternative='greater')"
   ]
  },
  {
   "cell_type": "markdown",
   "id": "4047652b-bdc8-4336-a2fc-3ae766d90c7e",
   "metadata": {},
   "source": [
    "As the pvalue is greater than the significant level, we accept the null hypothesis: the pill has no significant effects."
   ]
  },
  {
   "cell_type": "code",
   "execution_count": 7,
   "id": "55f13a8b-a48f-4504-987f-bce15b901176",
   "metadata": {},
   "outputs": [
    {
     "data": {
      "text/html": [
       "<div>\n",
       "<style scoped>\n",
       "    .dataframe tbody tr th:only-of-type {\n",
       "        vertical-align: middle;\n",
       "    }\n",
       "\n",
       "    .dataframe tbody tr th {\n",
       "        vertical-align: top;\n",
       "    }\n",
       "\n",
       "    .dataframe thead th {\n",
       "        text-align: right;\n",
       "    }\n",
       "</style>\n",
       "<table border=\"1\" class=\"dataframe\">\n",
       "  <thead>\n",
       "    <tr style=\"text-align: right;\">\n",
       "      <th></th>\n",
       "      <th>diff</th>\n",
       "    </tr>\n",
       "  </thead>\n",
       "  <tbody>\n",
       "    <tr>\n",
       "      <th>0</th>\n",
       "      <td>54</td>\n",
       "    </tr>\n",
       "    <tr>\n",
       "      <th>1</th>\n",
       "      <td>7</td>\n",
       "    </tr>\n",
       "    <tr>\n",
       "      <th>2</th>\n",
       "      <td>1</td>\n",
       "    </tr>\n",
       "    <tr>\n",
       "      <th>3</th>\n",
       "      <td>6</td>\n",
       "    </tr>\n",
       "    <tr>\n",
       "      <th>4</th>\n",
       "      <td>6</td>\n",
       "    </tr>\n",
       "  </tbody>\n",
       "</table>\n",
       "</div>"
      ],
      "text/plain": [
       "   diff\n",
       "0    54\n",
       "1     7\n",
       "2     1\n",
       "3     6\n",
       "4     6"
      ]
     },
     "execution_count": 7,
     "metadata": {},
     "output_type": "execute_result"
    }
   ],
   "source": [
    "# to check the variance of the diff, turn it into a df and use the .var() method\n",
    "import pandas as pd\n",
    "df = pd.DataFrame({'diff':diff})\n",
    "df.head()"
   ]
  },
  {
   "cell_type": "code",
   "execution_count": 8,
   "id": "e840d08c-bed0-4e24-82c5-7c1c4d91a2f9",
   "metadata": {},
   "outputs": [
    {
     "data": {
      "text/plain": [
       "np.float64(360.5714285714286)"
      ]
     },
     "execution_count": 8,
     "metadata": {},
     "output_type": "execute_result"
    }
   ],
   "source": [
    "df['diff'].var()"
   ]
  },
  {
   "cell_type": "code",
   "execution_count": null,
   "id": "ffd2c47d-526d-43c6-bed1-3751d1650926",
   "metadata": {},
   "outputs": [],
   "source": []
  }
 ],
 "metadata": {
  "kernelspec": {
   "display_name": "Python 3 (ipykernel)",
   "language": "python",
   "name": "python3"
  },
  "language_info": {
   "codemirror_mode": {
    "name": "ipython",
    "version": 3
   },
   "file_extension": ".py",
   "mimetype": "text/x-python",
   "name": "python",
   "nbconvert_exporter": "python",
   "pygments_lexer": "ipython3",
   "version": "3.12.7"
  }
 },
 "nbformat": 4,
 "nbformat_minor": 5
}
